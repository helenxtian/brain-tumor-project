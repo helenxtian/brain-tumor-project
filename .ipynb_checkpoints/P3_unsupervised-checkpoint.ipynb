{
 "cells": [
  {
   "cell_type": "markdown",
   "metadata": {},
   "source": [
    "### **Unsupervised Learning**\n",
    "\n",
    "**Data preparation**\n",
    "- convert images into feature vectors (ensure normalization for normalization and preprocessing for consistency)\n",
    "\n",
    "**Clustering**\n",
    "- explore K-means and choose optimal number of clusters (K) using techniques like the elbow method or silhouette score\n",
    "- evaluate performance and visualize clustering results for insights into data distribution and cluster relationships\n",
    "\n",
    "**PCA**\n",
    "- reduce dimensionality and select number of principal components based on variance ratio\n",
    "- analyze contribution of each component and assess impact on data structure\n",
    "\n",
    "**(Optional) combination of clustering and pca**\n",
    "- compare performance using original features vs. PCA-reduced features\n",
    "\n",
    "**Integration with supervised learning**\n",
    "- explore clustering and pca results (and the optional combination of them) as additional inputs to P2_supervised model (based off EfficientNet)\n",
    "- evaluate enhancement of supervised learning performance\n",
    "\n",
    "**Analyze Model Performance**\n",
    "- plot loss and accuracy over epochs to visualize training progress and identify potential overfitting or underfitting.\n",
    "- create a confusion matrix to examine how well the model distinguishes between classes."
   ]
  },
  {
   "cell_type": "code",
   "execution_count": 48,
   "metadata": {},
   "outputs": [],
   "source": [
    "# importing all necessary libraries\n",
    "import glob\n",
    "import warnings\n",
    "import random\n",
    "import os\n",
    "import pandas as pd\n",
    "import numpy as np\n",
    "import matplotlib.pyplot as plt\n",
    "import seaborn as sns\n",
    "import scipy\n",
    "\n",
    "import torch\n",
    "import torchvision \n",
    "import torch.nn as nn\n",
    "import torch.optim as optim\n",
    "import torchvision.models as models\n",
    "import torchvision.transforms as transforms\n",
    "from torch.utils.data import Dataset, DataLoader\n",
    "from torchvision.models import VGG19_Weights, EfficientNet_V2_L_Weights\n",
    "from tqdm.notebook import tqdm\n",
    "\n",
    "from PIL import Image\n",
    "from typing import Dict, List, Tuple\n",
    "from sklearn.preprocessing import StandardScaler\n",
    "from sklearn.model_selection import train_test_split\n",
    "from sklearn.decomposition import PCA\n",
    "from sklearn.cluster import KMeans, AgglomerativeClustering, DBSCAN\n",
    "from sklearn.metrics import confusion_matrix, accuracy_score\n",
    "from datasets import BrainTumorMRIDataset"
   ]
  },
  {
   "cell_type": "code",
   "execution_count": 2,
   "metadata": {},
   "outputs": [],
   "source": [
    "class CFG:\n",
    "    DEVICE = 'cuda' if torch.cuda.is_available() else 'cpu'\n",
    "    NUM_DEVICES = torch.cuda.device_count()\n",
    "    NUM_WORKERS = os.cpu_count()\n",
    "    NUM_CLASSES = 4\n",
    "    EPOCHS = 16\n",
    "    BATCH_SIZE = (\n",
    "        32 if torch.cuda.device_count() < 2 \n",
    "        else (32 * torch.cuda.device_count())\n",
    "    )\n",
    "    LR = 0.001\n",
    "    APPLY_SHUFFLE = True\n",
    "    SEED = 768\n",
    "    HEIGHT = 224\n",
    "    WIDTH = 224\n",
    "    CHANNELS = 3\n",
    "    IMAGE_SIZE = (224, 224, 3)\n",
    "    \n",
    "    # Define paths\n",
    "    DATASET_PATH = './data/original/'\n",
    "    TRAIN_PATH = './data/original//Training/'\n",
    "    TEST_PATH = './data/original/Testing/'\n",
    "    \n",
    "# Mute warnings\n",
    "warnings.filterwarnings(\"ignore\", \"is_categorical_dtype\")\n",
    "warnings.filterwarnings(\"ignore\", \"use_inf_as_na\")"
   ]
  },
  {
   "cell_type": "code",
   "execution_count": 3,
   "metadata": {},
   "outputs": [],
   "source": [
    "train_images = glob.glob(f\"{CFG.TRAIN_PATH}**/*.jpg\")\n",
    "test_images = glob.glob(f\"{CFG.TEST_PATH}**/*.jpg\")"
   ]
  },
  {
   "cell_type": "code",
   "execution_count": 4,
   "metadata": {},
   "outputs": [],
   "source": [
    "def generate_labels(image_paths):\n",
    "    return [(_.split('/')[-2:][0]).replace('-', '_') for _ in image_paths]\n",
    "\n",
    "def build_df(image_paths, labels):\n",
    "    df = pd.DataFrame({'image_path': image_paths, 'label': generate_labels(labels)})\n",
    "    return df\n",
    "\n",
    "def _load(image_path, as_tensor=True, target_size=(224,224)):\n",
    "    # Read and decode an image file to a uint8 tensor\n",
    "    image = Image.open(image_path)\n",
    "    \n",
    "    # Resize image to target size and convert to RGB\n",
    "    image = image.resize(target_size)\n",
    "    image = image.convert('RGB')\n",
    "    \n",
    "    if as_tensor:\n",
    "        converter = transforms.Compose([transforms.ToTensor(), transforms.Grayscale()])\n",
    "        return converter(image)\n",
    "    else:\n",
    "        return image"
   ]
  },
  {
   "cell_type": "code",
   "execution_count": 5,
   "metadata": {},
   "outputs": [],
   "source": [
    "train_df = build_df(train_images, generate_labels(train_images))\n",
    "test_df = build_df(test_images, generate_labels(test_images))"
   ]
  },
  {
   "cell_type": "markdown",
   "metadata": {},
   "source": [
    "Please note in the following we will be using 10% of our original dataset to test the unsupervised techniques that we've learnt in class (e.g. clustering and PCA). This is because when we initially tried training our models with our ideal 30% of original data (taken from P2_supervised), each epoch took about an hour to process, and considering the amount of parameters we're trying to test, such an amount of time was infeasible."
   ]
  },
  {
   "cell_type": "code",
   "execution_count": 6,
   "metadata": {},
   "outputs": [],
   "source": [
    "train_df_sample = train_df.sample(frac=0.10, random_state=42).reset_index(drop=True)\n",
    "train_split_idx, val_split_idx, _, _ = (train_test_split(\n",
    "    train_df_sample.index,\n",
    "    train_df_sample.label,\n",
    "    test_size=0.20, \n",
    "    stratify=train_df_sample.label,\n",
    "    random_state=CFG.SEED))"
   ]
  },
  {
   "cell_type": "code",
   "execution_count": 7,
   "metadata": {},
   "outputs": [
    {
     "data": {
      "text/plain": [
       "((456, 2), (115, 2))"
      ]
     },
     "execution_count": 7,
     "metadata": {},
     "output_type": "execute_result"
    }
   ],
   "source": [
    "train_new_df = train_df_sample.iloc[train_split_idx].reset_index(drop=True)\n",
    "val_df = train_df_sample.iloc[val_split_idx].reset_index(drop=True)\n",
    "train_new_df.shape, val_df.shape"
   ]
  },
  {
   "cell_type": "code",
   "execution_count": 8,
   "metadata": {},
   "outputs": [
    {
     "data": {
      "text/html": [
       "<div>\n",
       "<style scoped>\n",
       "    .dataframe tbody tr th:only-of-type {\n",
       "        vertical-align: middle;\n",
       "    }\n",
       "\n",
       "    .dataframe tbody tr th {\n",
       "        vertical-align: top;\n",
       "    }\n",
       "\n",
       "    .dataframe thead th {\n",
       "        text-align: right;\n",
       "    }\n",
       "</style>\n",
       "<table border=\"1\" class=\"dataframe\">\n",
       "  <thead>\n",
       "    <tr style=\"text-align: right;\">\n",
       "      <th></th>\n",
       "      <th>image_path</th>\n",
       "      <th>label</th>\n",
       "    </tr>\n",
       "  </thead>\n",
       "  <tbody>\n",
       "    <tr>\n",
       "      <th>0</th>\n",
       "      <td>./data/original//Training/pituitary/Tr-pi_1405...</td>\n",
       "      <td>pituitary</td>\n",
       "    </tr>\n",
       "    <tr>\n",
       "      <th>1</th>\n",
       "      <td>./data/original//Training/glioma/Tr-gl_0772.jpg</td>\n",
       "      <td>glioma</td>\n",
       "    </tr>\n",
       "    <tr>\n",
       "      <th>2</th>\n",
       "      <td>./data/original//Training/glioma/Tr-gl_1055.jpg</td>\n",
       "      <td>glioma</td>\n",
       "    </tr>\n",
       "    <tr>\n",
       "      <th>3</th>\n",
       "      <td>./data/original//Training/pituitary/Tr-pi_1305...</td>\n",
       "      <td>pituitary</td>\n",
       "    </tr>\n",
       "    <tr>\n",
       "      <th>4</th>\n",
       "      <td>./data/original//Training/notumor/Tr-no_0347.jpg</td>\n",
       "      <td>notumor</td>\n",
       "    </tr>\n",
       "    <tr>\n",
       "      <th>...</th>\n",
       "      <td>...</td>\n",
       "      <td>...</td>\n",
       "    </tr>\n",
       "    <tr>\n",
       "      <th>451</th>\n",
       "      <td>./data/original//Training/notumor/Tr-no_1319.jpg</td>\n",
       "      <td>notumor</td>\n",
       "    </tr>\n",
       "    <tr>\n",
       "      <th>452</th>\n",
       "      <td>./data/original//Training/pituitary/Tr-pi_0883...</td>\n",
       "      <td>pituitary</td>\n",
       "    </tr>\n",
       "    <tr>\n",
       "      <th>453</th>\n",
       "      <td>./data/original//Training/glioma/Tr-gl_1286.jpg</td>\n",
       "      <td>glioma</td>\n",
       "    </tr>\n",
       "    <tr>\n",
       "      <th>454</th>\n",
       "      <td>./data/original//Training/glioma/Tr-gl_0093.jpg</td>\n",
       "      <td>glioma</td>\n",
       "    </tr>\n",
       "    <tr>\n",
       "      <th>455</th>\n",
       "      <td>./data/original//Training/meningioma/Tr-me_035...</td>\n",
       "      <td>meningioma</td>\n",
       "    </tr>\n",
       "  </tbody>\n",
       "</table>\n",
       "<p>456 rows × 2 columns</p>\n",
       "</div>"
      ],
      "text/plain": [
       "                                            image_path       label\n",
       "0    ./data/original//Training/pituitary/Tr-pi_1405...   pituitary\n",
       "1      ./data/original//Training/glioma/Tr-gl_0772.jpg      glioma\n",
       "2      ./data/original//Training/glioma/Tr-gl_1055.jpg      glioma\n",
       "3    ./data/original//Training/pituitary/Tr-pi_1305...   pituitary\n",
       "4     ./data/original//Training/notumor/Tr-no_0347.jpg     notumor\n",
       "..                                                 ...         ...\n",
       "451   ./data/original//Training/notumor/Tr-no_1319.jpg     notumor\n",
       "452  ./data/original//Training/pituitary/Tr-pi_0883...   pituitary\n",
       "453    ./data/original//Training/glioma/Tr-gl_1286.jpg      glioma\n",
       "454    ./data/original//Training/glioma/Tr-gl_0093.jpg      glioma\n",
       "455  ./data/original//Training/meningioma/Tr-me_035...  meningioma\n",
       "\n",
       "[456 rows x 2 columns]"
      ]
     },
     "execution_count": 8,
     "metadata": {},
     "output_type": "execute_result"
    }
   ],
   "source": [
    "train_new_df"
   ]
  },
  {
   "cell_type": "code",
   "execution_count": 9,
   "metadata": {},
   "outputs": [
    {
     "name": "stdout",
     "output_type": "stream",
     "text": [
      "train samples count:\t\t456\t(79.86%)\n",
      "validation samples count:\t115\t(20.14%)\n",
      "================================================\n",
      "TOTAL:\t\t\t\t571\t(100.00%)\n",
      "\n",
      "INDEPENDENT test samples count:\t\t1311\t\n"
     ]
    }
   ],
   "source": [
    "train_size = len(train_new_df)\n",
    "val_size = len(val_df)\n",
    "test_size = len(test_df)\n",
    "total = train_size + val_size\n",
    "\n",
    "# View the counts\n",
    "print(f'train samples count:\\t\\t{train_size}\\t({(100 * train_size/total):.2f}%)')\n",
    "print(f'validation samples count:\\t{val_size}\\t({(100 * val_size/total):.2f}%)')\n",
    "print('================================================')\n",
    "print(f'TOTAL:\\t\\t\\t\\t{total}\\t({(100 * total/total):.2f}%)')\n",
    "\n",
    "print('')\n",
    "print(f'INDEPENDENT test samples count:\\t\\t{test_size}\\t')"
   ]
  },
  {
   "cell_type": "code",
   "execution_count": 10,
   "metadata": {},
   "outputs": [],
   "source": [
    "# Data transoformation definitions\n",
    "train_transforms = transforms.Compose([\n",
    "    transforms.Resize((CFG.HEIGHT, CFG.WIDTH)),\n",
    "    transforms.Grayscale(num_output_channels=3),\n",
    "    transforms.RandomHorizontalFlip(p=0.5),\n",
    "    transforms.RandomVerticalFlip(p=0.5),\n",
    "    transforms.ToTensor()\n",
    "])\n",
    "test_transforms = transforms.Compose([\n",
    "    transforms.Resize((CFG.HEIGHT, CFG.WIDTH)),\n",
    "    transforms.Grayscale(num_output_channels=3),\n",
    "    transforms.ToTensor()\n",
    "])\n",
    "idx = random.sample(train_df_sample.index.to_list(), 1)[0]\n",
    "aug_image = _load(train_df_sample.image_path[idx], as_tensor=False)"
   ]
  },
  {
   "cell_type": "code",
   "execution_count": 11,
   "metadata": {},
   "outputs": [
    {
     "data": {
      "text/plain": [
       "(<datasets.BrainTumorMRIDataset at 0x7f245defa910>,\n",
       " <datasets.BrainTumorMRIDataset at 0x7f245defa8b0>,\n",
       " <datasets.BrainTumorMRIDataset at 0x7f245defabb0>)"
      ]
     },
     "execution_count": 11,
     "metadata": {},
     "output_type": "execute_result"
    }
   ],
   "source": [
    "train_ds = BrainTumorMRIDataset(train_new_df, transform=train_transforms)\n",
    "val_ds = BrainTumorMRIDataset(val_df, transform=test_transforms)\n",
    "test_ds = BrainTumorMRIDataset(test_df, transform=test_transforms)\n",
    "train_ds, val_ds, test_ds"
   ]
  },
  {
   "cell_type": "code",
   "execution_count": 12,
   "metadata": {},
   "outputs": [
    {
     "data": {
      "text/plain": [
       "(tensor([[0., 0., 0.,  ..., 0., 0., 0.],\n",
       "         [0., 0., 0.,  ..., 0., 0., 0.],\n",
       "         [0., 0., 0.,  ..., 0., 0., 0.],\n",
       "         ...,\n",
       "         [0., 0., 0.,  ..., 0., 0., 0.],\n",
       "         [0., 0., 0.,  ..., 0., 0., 0.],\n",
       "         [0., 0., 0.,  ..., 0., 0., 0.]]),\n",
       " tensor([[0., 0., 0.,  ..., 0., 0., 0.],\n",
       "         [0., 0., 0.,  ..., 0., 0., 0.],\n",
       "         [0., 0., 0.,  ..., 0., 0., 0.],\n",
       "         ...,\n",
       "         [0., 0., 0.,  ..., 0., 0., 0.],\n",
       "         [0., 0., 0.,  ..., 0., 0., 0.],\n",
       "         [0., 0., 0.,  ..., 0., 0., 0.]]),\n",
       " tensor([[0., 0., 0.,  ..., 0., 0., 0.],\n",
       "         [0., 0., 0.,  ..., 0., 0., 0.],\n",
       "         [0., 0., 0.,  ..., 0., 0., 0.],\n",
       "         ...,\n",
       "         [0., 0., 0.,  ..., 0., 0., 0.],\n",
       "         [0., 0., 0.,  ..., 0., 0., 0.],\n",
       "         [0., 0., 0.,  ..., 0., 0., 0.]]))"
      ]
     },
     "execution_count": 12,
     "metadata": {},
     "output_type": "execute_result"
    }
   ],
   "source": [
    "train_image = train_ds[8][0]\n",
    "train_image[0], train_image[1], train_image[2]"
   ]
  },
  {
   "cell_type": "code",
   "execution_count": 13,
   "metadata": {},
   "outputs": [
    {
     "data": {
      "text/plain": [
       "(<torch.utils.data.dataloader.DataLoader at 0x7f245ded4430>,\n",
       " <torch.utils.data.dataloader.DataLoader at 0x7f245ded4490>,\n",
       " <torch.utils.data.dataloader.DataLoader at 0x7f245ded4670>)"
      ]
     },
     "execution_count": 13,
     "metadata": {},
     "output_type": "execute_result"
    }
   ],
   "source": [
    "train_loader = DataLoader(\n",
    "    dataset=train_ds, \n",
    "    batch_size=CFG.BATCH_SIZE,\n",
    "    num_workers=CFG.NUM_WORKERS,\n",
    "    shuffle=CFG.APPLY_SHUFFLE,\n",
    "    collate_fn=lambda batch: tuple(zip(*batch))\n",
    ")\n",
    "val_loader = DataLoader(\n",
    "    dataset=val_ds,\n",
    "    batch_size=CFG.BATCH_SIZE,\n",
    "    num_workers=CFG.NUM_WORKERS,\n",
    "    shuffle=False\n",
    ")\n",
    "test_loader = DataLoader(\n",
    "    dataset=test_ds,\n",
    "    batch_size=CFG.BATCH_SIZE,\n",
    "    num_workers=CFG.NUM_WORKERS,\n",
    "    shuffle=False\n",
    ")\n",
    "train_loader, val_loader, test_loader"
   ]
  },
  {
   "cell_type": "code",
   "execution_count": 14,
   "metadata": {},
   "outputs": [
    {
     "data": {
      "text/plain": [
       "456"
      ]
     },
     "execution_count": 14,
     "metadata": {},
     "output_type": "execute_result"
    }
   ],
   "source": [
    "len(train_loader.dataset)"
   ]
  },
  {
   "cell_type": "markdown",
   "metadata": {},
   "source": [
    "## Defining and Training the EfficientNetV2 Model"
   ]
  },
  {
   "cell_type": "code",
   "execution_count": 15,
   "metadata": {},
   "outputs": [],
   "source": [
    "class EfficientNetV2Model(nn.Module):\n",
    "    def __init__(self, backbone_model, name='efficientnet-v2-large', \n",
    "                 num_classes=CFG.NUM_CLASSES, device=CFG.DEVICE):\n",
    "        super(EfficientNetV2Model, self).__init__()\n",
    "        \n",
    "        self.backbone_model = backbone_model\n",
    "        self.device = device\n",
    "        self.num_classes = num_classes\n",
    "        self.name = name\n",
    "        \n",
    "        classifier = nn.Sequential(\n",
    "            nn.Flatten(),\n",
    "            nn.Dropout(p=0.2, inplace=True), \n",
    "            nn.Linear(in_features=1280, out_features=256, bias=True),\n",
    "            nn.GELU(),\n",
    "            nn.Dropout(p=0.2, inplace=True),\n",
    "            nn.Linear(in_features=256, out_features=num_classes, bias=False)\n",
    "        ).to(device)\n",
    "        \n",
    "        self._set_classifier(classifier)\n",
    "        \n",
    "    def _set_classifier(self, classifier:nn.Module) -> None:\n",
    "        self.backbone_model.classifier = classifier\n",
    "    \n",
    "    def forward(self, image):\n",
    "        return self.backbone_model(image)"
   ]
  },
  {
   "cell_type": "code",
   "execution_count": 16,
   "metadata": {},
   "outputs": [],
   "source": [
    "def get_efficientnetv2_model(device: torch.device=CFG.DEVICE) -> nn.Module:\n",
    "    torch.manual_seed(CFG.SEED)\n",
    "    torch.cuda.manual_seed(CFG.SEED)\n",
    "    model_weights = (\n",
    "        torchvision\n",
    "        .models\n",
    "        .EfficientNet_V2_L_Weights\n",
    "        .DEFAULT\n",
    "    )\n",
    "    model = (torchvision.models.efficientnet_v2_l(weights=model_weights)).to(device) \n",
    "    for param in model.features.parameters():\n",
    "        param.requires_grad = False\n",
    "    return model"
   ]
  },
  {
   "cell_type": "code",
   "execution_count": 17,
   "metadata": {},
   "outputs": [],
   "source": [
    "backbone_model = get_efficientnetv2_model(CFG.DEVICE)\n",
    "efficientnetv2_params = {\n",
    "    'backbone_model'    : backbone_model,\n",
    "    'name'              : 'efficientnet-v2-large',\n",
    "    'device'            : CFG.DEVICE\n",
    "}\n",
    "efficientnet_model = EfficientNetV2Model(**efficientnetv2_params)"
   ]
  },
  {
   "cell_type": "markdown",
   "metadata": {},
   "source": [
    "## Extracting Features\n",
    "This following method and definition is the extraction of features from the training data using the EfficientNet model. We will use train_features in our exploration of clustering and pca (disjoint and joint)."
   ]
  },
  {
   "cell_type": "code",
   "execution_count": 18,
   "metadata": {},
   "outputs": [],
   "source": [
    "def extract_features(loader, model):\n",
    "    model.eval()\n",
    "    features = []\n",
    "    with torch.no_grad():\n",
    "        for images_tuple, _, _ in loader:\n",
    "            for i in range(len(images_tuple)):\n",
    "                images = images_tuple[i].unsqueeze(0).to(CFG.DEVICE)\n",
    "                outputs = model(images)\n",
    "                features.append(outputs.cpu().numpy())\n",
    "    return np.concatenate(features)"
   ]
  },
  {
   "cell_type": "code",
   "execution_count": 19,
   "metadata": {},
   "outputs": [],
   "source": [
    "train_features = extract_features(train_loader, backbone_model)"
   ]
  },
  {
   "cell_type": "code",
   "execution_count": 20,
   "metadata": {},
   "outputs": [
    {
     "data": {
      "text/plain": [
       "(456, 4)"
      ]
     },
     "execution_count": 20,
     "metadata": {},
     "output_type": "execute_result"
    }
   ],
   "source": [
    "train_features.shape"
   ]
  },
  {
   "cell_type": "code",
   "execution_count": 21,
   "metadata": {},
   "outputs": [
    {
     "data": {
      "text/plain": [
       "array([[ 0.11626496, -0.3400525 , -0.12886052,  0.17364553],\n",
       "       [ 0.0682099 , -0.23905693, -0.00883662,  0.05627975],\n",
       "       [-0.00741937, -0.2427105 , -0.00590452,  0.04787653],\n",
       "       ...,\n",
       "       [ 0.03762403, -0.22000238,  0.01747047, -0.0058722 ],\n",
       "       [ 0.02195917, -0.10082559, -0.27153164, -0.14898492],\n",
       "       [-0.01650461, -0.24188109,  0.06820329, -0.01721361]],\n",
       "      dtype=float32)"
      ]
     },
     "execution_count": 21,
     "metadata": {},
     "output_type": "execute_result"
    }
   ],
   "source": [
    "train_features[180:]"
   ]
  },
  {
   "cell_type": "markdown",
   "metadata": {},
   "source": [
    "## Clustering"
   ]
  },
  {
   "cell_type": "code",
   "execution_count": 22,
   "metadata": {},
   "outputs": [
    {
     "data": {
      "text/plain": [
       "4"
      ]
     },
     "execution_count": 22,
     "metadata": {},
     "output_type": "execute_result"
    }
   ],
   "source": [
    "CFG.NUM_CLASSES"
   ]
  },
  {
   "cell_type": "code",
   "execution_count": 23,
   "metadata": {},
   "outputs": [],
   "source": [
    "def perform_clustering(features, method='kmeans'):\n",
    "    kmeans = KMeans(n_clusters=CFG.NUM_CLASSES, random_state=42)\n",
    "    clusters = kmeans.fit_predict(features)\n",
    "    return clusters"
   ]
  },
  {
   "cell_type": "code",
   "execution_count": 24,
   "metadata": {},
   "outputs": [
    {
     "data": {
      "text/plain": [
       "456"
      ]
     },
     "execution_count": 24,
     "metadata": {},
     "output_type": "execute_result"
    }
   ],
   "source": [
    "# Perform clustering on training features\n",
    "train_clusters_kmeans = perform_clustering(train_features, method='kmeans')\n",
    "train_new_df['cluster_kmeans'] = train_clusters_kmeans\n",
    "len(train_clusters_kmeans)"
   ]
  },
  {
   "cell_type": "code",
   "execution_count": 25,
   "metadata": {},
   "outputs": [
    {
     "data": {
      "text/plain": [
       "array([0, 1, 1, 1, 0, 0, 3, 1, 0, 1, 1, 3, 0, 1, 3, 0, 0, 0, 3, 1, 3, 0,\n",
       "       1, 0, 0, 0, 3, 3, 2, 0, 0, 3, 2, 0, 1, 3, 3, 2, 3, 2, 1, 3, 0, 0,\n",
       "       3, 1, 1, 3, 0, 3, 0, 1, 3, 0, 1, 1, 0, 1, 3, 3, 2, 2, 0, 0, 0, 3,\n",
       "       2, 1, 0, 1, 0, 0, 1, 3, 0, 0, 1, 1, 0, 0, 1, 3, 1, 3, 0, 0, 0, 1,\n",
       "       2, 0, 1, 0, 1, 3, 2, 3, 0, 0, 1, 3, 3, 1, 3, 2, 2, 0, 3, 0, 2, 1,\n",
       "       0, 0, 0, 0, 3, 1, 1, 0, 3, 1, 1, 1, 3, 2, 2, 3, 0, 0, 0, 3, 2, 0,\n",
       "       1, 3, 0, 1, 0, 3, 1, 3, 0, 1, 0, 3, 3, 3, 0, 3, 3, 0, 3, 1, 1, 1,\n",
       "       0, 0, 3, 3, 1, 0, 0, 2, 1, 0, 1, 0, 0, 3, 1, 1, 1, 0, 0, 3, 0, 3,\n",
       "       3, 0, 0, 1, 3, 1, 1, 1, 0, 1, 1, 0, 1, 1, 3, 2, 0, 0, 1, 1, 0, 0,\n",
       "       3, 0, 0, 0, 0, 1, 2, 2, 1, 0, 0, 2, 0, 1, 3, 0, 1, 1, 0, 0, 0, 0,\n",
       "       2, 2, 0, 2, 1, 3, 3, 0, 3, 3, 3, 1, 0, 3, 0, 1, 2, 0, 1, 1, 0, 1,\n",
       "       0, 1, 3, 3, 2, 0, 1, 0, 1, 0, 0, 1, 1, 0, 0, 2, 3, 3, 1, 0, 1, 1,\n",
       "       1, 0, 0, 0, 3, 1, 3, 3, 2, 0, 1, 0, 0, 2, 3, 1, 0, 0, 1, 1, 0, 1,\n",
       "       0, 1, 3, 3, 3, 3, 1, 3, 0, 3, 0, 1, 0, 3, 0, 0, 1, 3, 0, 1, 1, 1,\n",
       "       1, 1, 0, 2, 0, 3, 1, 3, 1, 0, 0, 1, 0, 3, 0, 2, 0, 3, 2, 1, 0, 3,\n",
       "       0, 3, 1, 3, 1, 0, 0, 1, 3, 2, 0, 1, 3, 3, 0, 0, 0, 1, 0, 0, 2, 0,\n",
       "       1, 2, 0, 0, 2, 3, 1, 1, 0, 3, 1, 0, 3, 3, 0, 0, 2, 2, 1, 0, 1, 3,\n",
       "       1, 0, 0, 0, 0, 3, 3, 0, 3, 0, 0, 0, 1, 3, 0, 1, 1, 1, 1, 3, 3, 2,\n",
       "       0, 3, 3, 0, 0, 1, 1, 0, 2, 3, 0, 3, 1, 1, 1, 0, 0, 0, 0, 3, 0, 0,\n",
       "       0, 3, 2, 1, 0, 1, 0, 0, 3, 3, 3, 2, 3, 0, 0, 0, 3, 0, 3, 1, 3, 3,\n",
       "       0, 3, 0, 0, 0, 1, 1, 1, 1, 0, 3, 0, 3, 0, 3, 0], dtype=int32)"
      ]
     },
     "execution_count": 25,
     "metadata": {},
     "output_type": "execute_result"
    }
   ],
   "source": [
    "train_clusters_kmeans"
   ]
  },
  {
   "cell_type": "code",
   "execution_count": 26,
   "metadata": {},
   "outputs": [],
   "source": [
    "# Incorporate clustering labels into the training dataset\n",
    "kmeans_encoded = pd.get_dummies(train_new_df['cluster_kmeans'], prefix='cluster_kmeans')\n",
    "train_new_df = pd.concat([train_new_df, kmeans_encoded], axis=1)"
   ]
  },
  {
   "cell_type": "code",
   "execution_count": 27,
   "metadata": {},
   "outputs": [],
   "source": [
    "# Define new data loaders with clustering labels\n",
    "train_ds_cluster_kmeans = BrainTumorMRIDataset(train_new_df, transform=train_transforms, clustering='cluster_kmeans')"
   ]
  },
  {
   "cell_type": "markdown",
   "metadata": {},
   "source": [
    "Now, we will calculate the cluster metrics (average and standard deviation) of each cluster label (we have 4). This is important because it provides quantitative insights into the characteristics of each cluster. Such summary of the data within each cluster will help us understand its central tendency, spread, and other statistical properties. Here, our average intensity can help identify clusters that correspond with different visual characteristics/classes."
   ]
  },
  {
   "cell_type": "code",
   "execution_count": 28,
   "metadata": {},
   "outputs": [],
   "source": [
    "def compute_cluster_metrics(dataset):\n",
    "    cluster_pixels = {}\n",
    "    for image, _, cluster_label in dataset:\n",
    "        pixels = image.cpu().numpy().flatten()\n",
    "        pixels = pixels * 255   # Since tensors are normalized, we'll convert them back to a typical intensity scale if needed\n",
    "        if cluster_label in cluster_pixels:\n",
    "            cluster_pixels[cluster_label].extend(pixels)\n",
    "        else:\n",
    "            cluster_pixels[cluster_label] = list(pixels)\n",
    "\n",
    "    cluster_metrics = {}\n",
    "    for cluster, pixels in cluster_pixels.items():\n",
    "        pixels = np.array(pixels)\n",
    "        avg_intensity = np.mean(pixels)\n",
    "        std_dev = np.std(pixels)\n",
    "        cluster_metrics[cluster] = {'avg_intensity': avg_intensity, 'std_dev': std_dev}\n",
    "\n",
    "    return cluster_metrics"
   ]
  },
  {
   "cell_type": "code",
   "execution_count": 29,
   "metadata": {},
   "outputs": [
    {
     "data": {
      "text/plain": [
       "{0: {'avg_intensity': 44.272827, 'std_dev': 49.66397},\n",
       " 1: {'avg_intensity': 48.403694, 'std_dev': 50.78202},\n",
       " 3: {'avg_intensity': 49.589294, 'std_dev': 52.107452},\n",
       " 2: {'avg_intensity': 49.394497, 'std_dev': 51.052105}}"
      ]
     },
     "execution_count": 29,
     "metadata": {},
     "output_type": "execute_result"
    }
   ],
   "source": [
    "kmeans_metrics = compute_cluster_metrics(train_ds_cluster_kmeans)\n",
    "kmeans_metrics"
   ]
  },
  {
   "cell_type": "markdown",
   "metadata": {},
   "source": [
    "### KMeans Cluster Metrics\n",
    "We chose the optimal number of clusters to be 4 because in our supervised learning context, there are four distinct classes/features that define each object: meningioma, pituitary, no tumor, and glioma. By aligning the number of clusters with these predefined categories, we aim to enhance the model's ability to accurately classify and differentiate between these specific types of brain tumors, ensuring that each cluster corresponds to a meaningful and clinically relevant group.\n",
    "\n",
    "Following this, let us define how we calculated kmeans. Initially, cluster centroids are randomly selected or initialized using methods like K-means++. Then, the algorithm alternates between two main steps: the assignment step and the update step. In the assignment step, each data point is assigned to the nearest centroid based on a distance metric, typically Euclidean distance. Next, in the update step, the centroids are recalculated as the mean of the data points assigned to each cluster. This process continues iteratively until either the centroids converge or a specified number of iterations is reached. The final result is a set of cluster centroids representing the centers of the clusters, and each data point is assigned to the cluster with the nearest centroid."
   ]
  },
  {
   "cell_type": "markdown",
   "metadata": {},
   "source": [
    "## Training the Model"
   ]
  },
  {
   "cell_type": "code",
   "execution_count": 30,
   "metadata": {},
   "outputs": [],
   "source": [
    "# Ensure DataLoader uses proper collate_fn to handle None values\n",
    "def custom_collate_fn(batch):\n",
    "    # Filter out None values in the batch\n",
    "    batch = [b for b in batch if b is not None]\n",
    "    if len(batch) == 0:\n",
    "        return None\n",
    "    return torch.utils.data.dataloader.default_collate(batch)"
   ]
  },
  {
   "cell_type": "code",
   "execution_count": 31,
   "metadata": {},
   "outputs": [],
   "source": [
    "loss_fn = nn.CrossEntropyLoss(label_smoothing=0.1)\n",
    "optimizer = optim.AdamW(efficientnet_model.parameters(), lr=CFG.LR)"
   ]
  },
  {
   "cell_type": "code",
   "execution_count": 32,
   "metadata": {},
   "outputs": [],
   "source": [
    "def execute_epoch(model, dataloader, optimizer, loss_fn, device):\n",
    "    model.train()\n",
    "    train_loss, train_acc = 0, 0\n",
    "    for batch_idx, (images, targets, clustering_labels) in enumerate(tqdm(dataloader)):\n",
    "        images, targets = images.to(device), targets.to(device)\n",
    "        optimizer.zero_grad()\n",
    "        outputs = model(images)\n",
    "        loss = loss_fn(outputs, targets)\n",
    "        loss.backward()\n",
    "        optimizer.step()\n",
    "        train_loss += loss.item() * images.size(0)\n",
    "        _, predicted = outputs.max(1)\n",
    "        correct = predicted.eq(targets).sum().item()\n",
    "        train_acc += correct\n",
    "    \n",
    "    train_loss /= len(dataloader.dataset)\n",
    "    train_acc /= len(dataloader.dataset)\n",
    "    return train_loss, train_acc"
   ]
  },
  {
   "cell_type": "code",
   "execution_count": 33,
   "metadata": {},
   "outputs": [],
   "source": [
    "def evaluate(model, dataloader, loss_fn, device) -> Tuple[float, float]:\n",
    "    model.eval()\n",
    "    eval_loss, eval_acc = 0, 0\n",
    "    with torch.inference_mode():\n",
    "        for batch_idx, batch in enumerate(dataloader):\n",
    "            if batch is None:\n",
    "                print(f\"Batch {batch_idx} is None, skipping.\")\n",
    "                continue\n",
    "            \n",
    "            X, y, _ = batch\n",
    "            if X is None or len(X) == 0:\n",
    "                print(f\"Batch {batch_idx} is empty, skipping.\")\n",
    "                continue\n",
    "            X, y = X.to(device), y.to(device)\n",
    "            y_pred = model(X)\n",
    "            loss = loss_fn(y_pred, y)\n",
    "            eval_loss += loss.item()\n",
    "            predicted_class = torch.argmax(torch.softmax(y_pred, dim=1), dim=1)\n",
    "            eval_acc += (predicted_class == y).sum().item() / len(y_pred)\n",
    "\n",
    "    eval_loss = eval_loss / len(dataloader)\n",
    "    eval_acc = eval_acc / len(dataloader)\n",
    "    return eval_loss, eval_acc"
   ]
  },
  {
   "cell_type": "code",
   "execution_count": 34,
   "metadata": {},
   "outputs": [],
   "source": [
    "def train(model, train_dataloader, eval_dataloader, optimizer, loss_fn, epochs, device) -> Dict[str, List]:\n",
    "    session = {\n",
    "        'loss': [],\n",
    "        'accuracy': [],\n",
    "        'eval_loss': [],\n",
    "        'eval_accuracy': []\n",
    "    }\n",
    "    \n",
    "    for epoch in tqdm(range(epochs)):\n",
    "        print(f'\\nEpoch {epoch + 1}/{epochs}')\n",
    "        train_loss, train_acc = execute_epoch(model, train_dataloader, optimizer, loss_fn, device)\n",
    "        if train_loss is None or train_acc is None:\n",
    "            print(f\"Warning: Training loss or accuracy is None for epoch {epoch + 1}. Skipping evaluation.\")\n",
    "            continue\n",
    "        eval_loss, eval_acc = evaluate(model, eval_dataloader, loss_fn, device)\n",
    "        if eval_loss is None or eval_acc is None:\n",
    "            eval_loss = 0\n",
    "            eval_acc = 0\n",
    "        print(f'loss: {train_loss:.4f} - acc: {train_acc:.4f} - eval_loss: {eval_loss:.4f} - eval_acc: {eval_acc:.4f}')\n",
    "        session['loss'].append(train_loss)\n",
    "        session['accuracy'].append(train_acc)\n",
    "        session['eval_loss'].append(eval_loss)\n",
    "        session['eval_accuracy'].append(eval_acc)\n",
    "    return session"
   ]
  },
  {
   "cell_type": "code",
   "execution_count": 35,
   "metadata": {},
   "outputs": [],
   "source": [
    "train_loader_kmeans = DataLoader(train_ds_cluster_kmeans, batch_size=CFG.BATCH_SIZE, shuffle=True, num_workers=CFG.NUM_WORKERS, collate_fn=custom_collate_fn)"
   ]
  },
  {
   "cell_type": "code",
   "execution_count": 36,
   "metadata": {},
   "outputs": [
    {
     "name": "stdout",
     "output_type": "stream",
     "text": [
      "Training EfficientNet Model (KMeans Cluster)\n",
      "Train on 456 samples, validate on 115 samples.\n",
      "----------------------------------\n"
     ]
    },
    {
     "data": {
      "application/vnd.jupyter.widget-view+json": {
       "model_id": "a7920c8f6fcd4fc9ad4b469515bdb2f3",
       "version_major": 2,
       "version_minor": 0
      },
      "text/plain": [
       "  0%|          | 0/16 [00:00<?, ?it/s]"
      ]
     },
     "metadata": {},
     "output_type": "display_data"
    },
    {
     "name": "stdout",
     "output_type": "stream",
     "text": [
      "\n",
      "Epoch 1/16\n"
     ]
    },
    {
     "data": {
      "application/vnd.jupyter.widget-view+json": {
       "model_id": "d1769cf42e5c49aca5d11f889412c6a3",
       "version_major": 2,
       "version_minor": 0
      },
      "text/plain": [
       "  0%|          | 0/15 [00:00<?, ?it/s]"
      ]
     },
     "metadata": {},
     "output_type": "display_data"
    },
    {
     "name": "stdout",
     "output_type": "stream",
     "text": [
      "loss: 1.4058 - acc: 0.2632 - eval_loss: 1.3927 - eval_acc: 0.2586\n",
      "\n",
      "Epoch 2/16\n"
     ]
    },
    {
     "data": {
      "application/vnd.jupyter.widget-view+json": {
       "model_id": "56e7c0622b4048bf8e8ee5481083eaaa",
       "version_major": 2,
       "version_minor": 0
      },
      "text/plain": [
       "  0%|          | 0/15 [00:00<?, ?it/s]"
      ]
     },
     "metadata": {},
     "output_type": "display_data"
    },
    {
     "name": "stdout",
     "output_type": "stream",
     "text": [
      "loss: 1.3954 - acc: 0.2588 - eval_loss: 1.3951 - eval_acc: 0.2714\n",
      "\n",
      "Epoch 3/16\n"
     ]
    },
    {
     "data": {
      "application/vnd.jupyter.widget-view+json": {
       "model_id": "eb75cde4a2734125a69276b6c230bf51",
       "version_major": 2,
       "version_minor": 0
      },
      "text/plain": [
       "  0%|          | 0/15 [00:00<?, ?it/s]"
      ]
     },
     "metadata": {},
     "output_type": "display_data"
    },
    {
     "name": "stdout",
     "output_type": "stream",
     "text": [
      "loss: 1.4082 - acc: 0.2368 - eval_loss: 1.4050 - eval_acc: 0.2377\n",
      "\n",
      "Epoch 4/16\n"
     ]
    },
    {
     "data": {
      "application/vnd.jupyter.widget-view+json": {
       "model_id": "dccfc8086f13424db174eff3d82fb7b3",
       "version_major": 2,
       "version_minor": 0
      },
      "text/plain": [
       "  0%|          | 0/15 [00:00<?, ?it/s]"
      ]
     },
     "metadata": {},
     "output_type": "display_data"
    },
    {
     "name": "stdout",
     "output_type": "stream",
     "text": [
      "loss: 1.4062 - acc: 0.2654 - eval_loss: 1.3960 - eval_acc: 0.2504\n",
      "\n",
      "Epoch 5/16\n"
     ]
    },
    {
     "data": {
      "application/vnd.jupyter.widget-view+json": {
       "model_id": "3190d8b0b4c84e5fa60283cf596fc314",
       "version_major": 2,
       "version_minor": 0
      },
      "text/plain": [
       "  0%|          | 0/15 [00:00<?, ?it/s]"
      ]
     },
     "metadata": {},
     "output_type": "display_data"
    },
    {
     "name": "stdout",
     "output_type": "stream",
     "text": [
      "loss: 1.4073 - acc: 0.2456 - eval_loss: 1.3937 - eval_acc: 0.2841\n",
      "\n",
      "Epoch 6/16\n"
     ]
    },
    {
     "data": {
      "application/vnd.jupyter.widget-view+json": {
       "model_id": "31fe63f3a69e4dd096dfc648fe8dcc51",
       "version_major": 2,
       "version_minor": 0
      },
      "text/plain": [
       "  0%|          | 0/15 [00:00<?, ?it/s]"
      ]
     },
     "metadata": {},
     "output_type": "display_data"
    },
    {
     "name": "stdout",
     "output_type": "stream",
     "text": [
      "loss: 1.4025 - acc: 0.2588 - eval_loss: 1.3978 - eval_acc: 0.2216\n",
      "\n",
      "Epoch 7/16\n"
     ]
    },
    {
     "data": {
      "application/vnd.jupyter.widget-view+json": {
       "model_id": "6ee3336e7042402aac0585fa6a675fcc",
       "version_major": 2,
       "version_minor": 0
      },
      "text/plain": [
       "  0%|          | 0/15 [00:00<?, ?it/s]"
      ]
     },
     "metadata": {},
     "output_type": "display_data"
    },
    {
     "name": "stdout",
     "output_type": "stream",
     "text": [
      "loss: 1.3926 - acc: 0.2544 - eval_loss: 1.3976 - eval_acc: 0.2163\n",
      "\n",
      "Epoch 8/16\n"
     ]
    },
    {
     "data": {
      "application/vnd.jupyter.widget-view+json": {
       "model_id": "2b9d118b8cb4467080d9c514c6bdfc04",
       "version_major": 2,
       "version_minor": 0
      },
      "text/plain": [
       "  0%|          | 0/15 [00:00<?, ?it/s]"
      ]
     },
     "metadata": {},
     "output_type": "display_data"
    },
    {
     "name": "stdout",
     "output_type": "stream",
     "text": [
      "loss: 1.3965 - acc: 0.2544 - eval_loss: 1.3992 - eval_acc: 0.2241\n",
      "\n",
      "Epoch 9/16\n"
     ]
    },
    {
     "data": {
      "application/vnd.jupyter.widget-view+json": {
       "model_id": "ba5837e0392a48099034edd8a56226d3",
       "version_major": 2,
       "version_minor": 0
      },
      "text/plain": [
       "  0%|          | 0/15 [00:00<?, ?it/s]"
      ]
     },
     "metadata": {},
     "output_type": "display_data"
    },
    {
     "name": "stdout",
     "output_type": "stream",
     "text": [
      "loss: 1.4063 - acc: 0.2368 - eval_loss: 1.3967 - eval_acc: 0.2660\n",
      "\n",
      "Epoch 10/16\n"
     ]
    },
    {
     "data": {
      "application/vnd.jupyter.widget-view+json": {
       "model_id": "a7ac80c5fc7b41449466d132e709d7f2",
       "version_major": 2,
       "version_minor": 0
      },
      "text/plain": [
       "  0%|          | 0/15 [00:00<?, ?it/s]"
      ]
     },
     "metadata": {},
     "output_type": "display_data"
    },
    {
     "name": "stdout",
     "output_type": "stream",
     "text": [
      "loss: 1.4063 - acc: 0.2785 - eval_loss: 1.3992 - eval_acc: 0.2216\n",
      "\n",
      "Epoch 11/16\n"
     ]
    },
    {
     "data": {
      "application/vnd.jupyter.widget-view+json": {
       "model_id": "f36f741377d5400ba72a56d875303018",
       "version_major": 2,
       "version_minor": 0
      },
      "text/plain": [
       "  0%|          | 0/15 [00:00<?, ?it/s]"
      ]
     },
     "metadata": {},
     "output_type": "display_data"
    },
    {
     "name": "stdout",
     "output_type": "stream",
     "text": [
      "loss: 1.3910 - acc: 0.2588 - eval_loss: 1.3993 - eval_acc: 0.2007\n",
      "\n",
      "Epoch 12/16\n"
     ]
    },
    {
     "data": {
      "application/vnd.jupyter.widget-view+json": {
       "model_id": "8bda026aef0345aea4b6297d93281894",
       "version_major": 2,
       "version_minor": 0
      },
      "text/plain": [
       "  0%|          | 0/15 [00:00<?, ?it/s]"
      ]
     },
     "metadata": {},
     "output_type": "display_data"
    },
    {
     "name": "stdout",
     "output_type": "stream",
     "text": [
      "loss: 1.4103 - acc: 0.2456 - eval_loss: 1.3967 - eval_acc: 0.2294\n",
      "\n",
      "Epoch 13/16\n"
     ]
    },
    {
     "data": {
      "application/vnd.jupyter.widget-view+json": {
       "model_id": "c396fa4e3a06469da9e8888c58551398",
       "version_major": 2,
       "version_minor": 0
      },
      "text/plain": [
       "  0%|          | 0/15 [00:00<?, ?it/s]"
      ]
     },
     "metadata": {},
     "output_type": "display_data"
    },
    {
     "name": "stdout",
     "output_type": "stream",
     "text": [
      "loss: 1.3998 - acc: 0.2522 - eval_loss: 1.3988 - eval_acc: 0.2060\n",
      "\n",
      "Epoch 14/16\n"
     ]
    },
    {
     "data": {
      "application/vnd.jupyter.widget-view+json": {
       "model_id": "2b9200d3370b4f90a6395b7aa3f4e9a0",
       "version_major": 2,
       "version_minor": 0
      },
      "text/plain": [
       "  0%|          | 0/15 [00:00<?, ?it/s]"
      ]
     },
     "metadata": {},
     "output_type": "display_data"
    },
    {
     "name": "stdout",
     "output_type": "stream",
     "text": [
      "loss: 1.4017 - acc: 0.2522 - eval_loss: 1.3973 - eval_acc: 0.2373\n",
      "\n",
      "Epoch 15/16\n"
     ]
    },
    {
     "data": {
      "application/vnd.jupyter.widget-view+json": {
       "model_id": "647d509660434696bcd14ea3904fb80e",
       "version_major": 2,
       "version_minor": 0
      },
      "text/plain": [
       "  0%|          | 0/15 [00:00<?, ?it/s]"
      ]
     },
     "metadata": {},
     "output_type": "display_data"
    },
    {
     "name": "stdout",
     "output_type": "stream",
     "text": [
      "loss: 1.4051 - acc: 0.2325 - eval_loss: 1.3983 - eval_acc: 0.2216\n",
      "\n",
      "Epoch 16/16\n"
     ]
    },
    {
     "data": {
      "application/vnd.jupyter.widget-view+json": {
       "model_id": "6606bc5f5a03445899f8f0773ea20e97",
       "version_major": 2,
       "version_minor": 0
      },
      "text/plain": [
       "  0%|          | 0/15 [00:00<?, ?it/s]"
      ]
     },
     "metadata": {},
     "output_type": "display_data"
    },
    {
     "name": "stdout",
     "output_type": "stream",
     "text": [
      "loss: 1.4000 - acc: 0.2632 - eval_loss: 1.3993 - eval_acc: 0.2294\n"
     ]
    }
   ],
   "source": [
    "# Training the dataset based off the KMeans cluster\n",
    "print('Training EfficientNet Model (KMeans Cluster)')\n",
    "print(f'Train on {len(train_new_df)} samples, validate on {len(val_df)} samples.')\n",
    "print('----------------------------------')\n",
    "\n",
    "efficientnet_model_kmeans = EfficientNetV2Model(**efficientnetv2_params)\n",
    "efficientnet_model_kmeans.to(CFG.DEVICE)\n",
    "efficientnet_session_config_kmeans = {\n",
    "    'model': efficientnet_model_kmeans,\n",
    "    'train_dataloader': train_loader_kmeans,\n",
    "    'eval_dataloader': val_loader,\n",
    "    'optimizer': optimizer,\n",
    "    'loss_fn': loss_fn,\n",
    "    'epochs': CFG.EPOCHS,\n",
    "    'device': CFG.DEVICE\n",
    "}\n",
    "\n",
    "efficientnet_session_history = train(**efficientnet_session_config_kmeans)"
   ]
  },
  {
   "cell_type": "markdown",
   "metadata": {},
   "source": [
    "## Performance Analysis"
   ]
  },
  {
   "cell_type": "code",
   "execution_count": 37,
   "metadata": {},
   "outputs": [],
   "source": [
    "def predict(model, dataloader, device):\n",
    "    predictions = []\n",
    "    model.eval()\n",
    "    with torch.no_grad():\n",
    "        for images, _, _ in tqdm(dataloader):\n",
    "            images = images.to(device)\n",
    "            outputs = model(images)\n",
    "            _, predicted = torch.max(outputs, 1)\n",
    "            predictions.extend(predicted.cpu().numpy())\n",
    "    return predictions"
   ]
  },
  {
   "cell_type": "code",
   "execution_count": 38,
   "metadata": {},
   "outputs": [],
   "source": [
    "def plot_training_curves(history):\n",
    "    loss = np.array(history['loss'])\n",
    "    accuracy = np.array(history['accuracy'])\n",
    "    val_loss = np.array(history['eval_loss'])\n",
    "    val_accuracy = np.array(history['eval_accuracy'])\n",
    "    epochs = range(len(history['loss']))\n",
    "\n",
    "    # Plot loss\n",
    "    fig, (ax1, ax2) = plt.subplots(1, 2, figsize=(20, 8))\n",
    "    ax1.plot(epochs, loss, label='training_loss', marker='o')\n",
    "    ax1.plot(epochs, val_loss, label='eval_loss', marker='o')\n",
    "    ax1.fill_between(epochs, loss, val_loss, where=(loss > val_loss), color='C0', alpha=0.3, interpolate=True)\n",
    "    ax1.fill_between(epochs, loss, val_loss, where=(loss < val_loss), color='C1', alpha=0.3, interpolate=True)\n",
    "    ax1.set_title('Loss (Lower Means Better)', fontsize=16)\n",
    "    ax1.set_xlabel('Epochs', fontsize=12)\n",
    "    ax1.legend()\n",
    "\n",
    "    # Plot accuracy\n",
    "    ax2.plot(epochs, accuracy, label='training_accuracy', marker='o')\n",
    "    ax2.plot(epochs, val_accuracy, label='eval_accuracy', marker='o')\n",
    "    ax2.fill_between(epochs, accuracy, val_accuracy, where=(accuracy > val_accuracy), color='C0', alpha=0.3, interpolate=True)\n",
    "    ax2.fill_between(epochs, accuracy, val_accuracy, where=(accuracy < val_accuracy), color='C1', alpha=0.3, interpolate=True)\n",
    "    ax2.set_title('Accuracy (Higher Means Better)', fontsize=16)\n",
    "    ax2.set_xlabel('Epochs', fontsize=12)\n",
    "    ax2.legend();\n",
    "    \n",
    "    sns.despine();\n",
    "    return"
   ]
  },
  {
   "cell_type": "code",
   "execution_count": 39,
   "metadata": {},
   "outputs": [],
   "source": [
    "def plot_confusion_matrix(y_true, y_pred, classes='auto', figsize=(8, 7), text_size=10): \n",
    "    cm = confusion_matrix(y_true, y_pred)\n",
    "    plt.figure(figsize=figsize)\n",
    "    disp = sns.heatmap(cm, annot=True, cmap='Blues', annot_kws={\"size\": text_size}, fmt='g',\n",
    "                      linewidths=0.5, linecolor='black', clip_on=False, xticklabels=classes, yticklabels=classes)\n",
    "    disp.set_title('Confusion Matrix', fontsize=15)\n",
    "    disp.set_xlabel('Predicted Label', fontsize=12) \n",
    "    disp.set_ylabel('True Label', fontsize=12)\n",
    "    plt.yticks(rotation=0) \n",
    "    plt.show()\n",
    "    return"
   ]
  },
  {
   "cell_type": "code",
   "execution_count": 40,
   "metadata": {},
   "outputs": [],
   "source": [
    "test_labels = [*map(test_ds.class_to_idx.get, test_ds.labels)]"
   ]
  },
  {
   "cell_type": "code",
   "execution_count": 41,
   "metadata": {},
   "outputs": [
    {
     "data": {
      "application/vnd.jupyter.widget-view+json": {
       "model_id": "9f1c5fc67c604d01a0ef1b8c4e272d21",
       "version_major": 2,
       "version_minor": 0
      },
      "text/plain": [
       "  0%|          | 0/41 [00:00<?, ?it/s]"
      ]
     },
     "metadata": {},
     "output_type": "display_data"
    },
    {
     "name": "stdout",
     "output_type": "stream",
     "text": [
      "[1, 3, 1, 0, 2, 3, 3, 0, 3, 3, 0, 1, 3, 3, 0, 2, 2, 3, 0, 2, 0, 2, 0, 1, 2, 0, 0, 3, 2, 2, 1, 0, 2, 0, 0, 3, 2, 0, 1, 0, 0, 0, 2, 0, 0, 3, 2, 3, 1, 2, 1, 0, 2, 3, 2, 0, 2, 2, 3, 3, 3, 2, 3, 2, 2, 2, 1, 1, 1, 2, 2, 0, 2, 1, 0, 1, 3, 2, 2, 0, 2, 3, 3, 0, 0, 0, 0, 0, 0, 1, 2, 3, 2, 1, 0, 2, 0, 2, 2, 0, 2, 2, 1, 1, 1, 2, 0, 3, 1, 3, 3, 2, 0, 0, 0, 3, 3, 2, 1, 1, 1, 1, 0, 3, 1, 2, 3, 0, 2, 3, 2, 0, 2, 2, 3, 2, 2, 0, 2, 3, 2, 1, 0, 0, 3, 2, 3, 2, 1, 0, 0, 2, 2, 3, 3, 2, 0, 0, 3, 2, 2, 2, 3, 1, 2, 3, 0, 0, 1, 1, 1, 1, 0, 2, 0, 0, 1, 0, 0, 3, 3, 1, 2, 2, 1, 3, 1, 2, 2, 3, 2, 1, 1, 1, 3, 3, 3, 0, 3, 0, 2, 2, 0, 0, 3, 2, 3, 1, 0, 0, 1, 0, 3, 3, 2, 1, 1, 2, 0, 3, 1, 0, 2, 0, 3, 0, 0, 0, 1, 3, 0, 0, 0, 2, 2, 1, 0, 2, 3, 0, 3, 2, 2, 1, 0, 0, 3, 0, 1, 0, 2, 3, 2, 0, 2, 1, 2, 0, 2, 3, 1, 0, 0, 1, 0, 3, 2, 0, 1, 2, 0, 1, 0, 2, 3, 3, 3, 3, 3, 2, 0, 1, 3, 2, 1, 3, 2, 1, 1, 1, 2, 1, 1, 1, 2, 2, 1, 0, 0, 3, 0, 2, 0, 2, 0, 0, 0, 0, 0, 2, 0, 2, 2, 2, 2, 1, 2, 2, 0, 1, 0, 0, 0, 2, 0, 2, 2, 2, 3, 2, 1, 3, 0, 0, 2, 2, 2, 3, 0, 2, 3, 2, 0, 0, 3, 0, 2, 3, 2, 0, 2, 3, 0, 1, 0, 0, 2, 2, 0, 2, 1, 2, 0, 0, 0, 0, 1, 0, 0, 1, 1, 2, 0, 0, 2, 3, 2, 2, 2, 2, 2, 0, 0, 3, 2, 0, 0, 3, 0, 0, 0, 2, 0, 2, 0, 2, 1, 2, 2, 0, 3, 2, 2, 2, 3, 3, 1, 0, 2, 2, 0, 0, 0, 0, 2, 0, 1, 0, 2, 3, 0, 0, 1, 2, 0, 0, 0, 2, 0, 0, 3, 2, 0, 2, 2, 3, 0, 0, 2, 2, 2, 0, 0, 2, 3, 2, 0, 2, 1, 0, 3, 0, 2, 2, 2, 0, 0, 2, 3, 3, 2, 2, 2, 3, 1, 2, 2, 0, 2, 2, 3, 1, 0, 2, 0, 2, 2, 2, 0, 0, 2, 2, 1, 2, 3, 3, 3, 2, 2, 1, 3, 3, 0, 0, 0, 2, 0, 2, 2, 1, 2, 0, 2, 2, 2, 0, 2, 2, 0, 1, 0, 0, 3, 0, 2, 1, 2, 2, 0, 2, 1, 0, 2, 0, 2, 2, 0, 2, 2, 2, 1, 0, 2, 3, 2, 2, 2, 2, 3, 2, 2, 2, 2, 2, 3, 2, 2, 0, 3, 2, 2, 2, 2, 3, 0, 1, 2, 2, 2, 2, 3, 0, 2, 2, 3, 2, 0, 2, 2, 2, 2, 2, 0, 0, 0, 1, 1, 0, 1, 2, 0, 2, 2, 1, 2, 1, 2, 0, 0, 2, 2, 2, 2, 0, 0, 0, 2, 0, 2, 2, 0, 0, 2, 2, 2, 2, 1, 2, 1, 1, 2, 2, 2, 2, 2, 0, 2, 3, 2, 2, 2, 0, 2, 3, 2, 0, 2, 1, 0, 2, 2, 3, 0, 0, 2, 2, 2, 2, 2, 2, 2, 0, 2, 3, 0, 1, 2, 2, 2, 3, 0, 3, 2, 3, 2, 0, 2, 0, 2, 2, 3, 0, 0, 2, 2, 2, 0, 0, 0, 2, 0, 0, 0, 2, 2, 0, 0, 0, 3, 0, 0, 0, 0, 2, 2, 0, 2, 2, 0, 0, 2, 2, 2, 2, 2, 2, 2, 2, 0, 0, 2, 2, 1, 0, 0, 0, 1, 2, 0, 0, 2, 2, 2, 0, 0, 3, 0, 2, 0, 2, 2, 0, 1, 3, 2, 3, 3, 2, 0, 3, 1, 2, 2, 2, 1, 0, 3, 2, 2, 2, 0, 0, 0, 2, 2, 2, 0, 2, 3, 3, 0, 3, 2, 2, 0, 3, 3, 2, 0, 2, 2, 0, 0, 2, 0, 2, 1, 2, 2, 2, 2, 2, 2, 0, 2, 2, 3, 3, 2, 0, 2, 2, 2, 3, 0, 2, 0, 0, 1, 2, 2, 2, 0, 0, 3, 0, 2, 2, 3, 0, 0, 2, 2, 0, 2, 2, 0, 2, 2, 1, 3, 2, 0, 2, 2, 2, 3, 2, 0, 2, 2, 2, 2, 0, 3, 2, 2, 2, 2, 3, 0, 0, 3, 0, 3, 0, 0, 2, 2, 0, 0, 0, 0, 2, 0, 2, 2, 0, 3, 2, 0, 3, 2, 2, 2, 2, 2, 2, 3, 0, 2, 0, 2, 2, 1, 2, 2, 2, 2, 2, 2, 2, 0, 2, 1, 3, 2, 0, 0, 0, 2, 2, 0, 2, 2, 0, 3, 0, 2, 2, 2, 2, 2, 1, 0, 2, 0, 2, 0, 0, 0, 0, 0, 2, 0, 2, 2, 2, 0, 0, 0, 2, 0, 2, 2, 0, 3, 2, 3, 0, 0, 1, 0, 2, 2, 2, 0, 2, 0, 0, 3, 2, 0, 2, 0, 2, 0, 0, 2, 0, 2, 2, 0, 0, 1, 2, 2, 0, 2, 0, 0, 0, 2, 2, 0, 0, 2, 2, 0, 3, 0, 2, 0, 2, 0, 0, 2, 0, 2, 3, 0, 2, 0, 2, 0, 2, 2, 0, 2, 3, 0, 0, 0, 0, 0, 2, 3, 0, 2, 0, 3, 2, 0, 0, 0, 0, 0, 0, 2, 2, 0, 2, 2, 3, 0, 2, 2, 3, 2, 0, 0, 2, 3, 2, 2, 0, 0, 2, 2, 2, 0, 2, 0, 0, 0, 2, 0, 0, 0, 0, 0, 2, 2, 2, 0, 0, 0, 2, 2, 3, 0, 0, 0, 0, 0, 0, 2, 0, 2, 0, 0, 0, 0, 0, 0, 0, 2, 0, 0, 3, 3, 2, 1, 2, 0, 0, 2, 2, 2, 0, 0, 2, 0, 2, 1, 0, 2, 3, 0, 0, 0, 0, 3, 2, 2, 0, 0, 2, 2, 2, 0, 0, 2, 0, 2, 0, 0, 2, 2, 2, 2, 2, 2, 0, 3, 0, 0, 3, 2, 3, 0, 2, 0, 0, 0, 0, 0, 3, 0, 2, 0, 2, 2, 3, 0, 0, 0, 2, 0, 0, 3, 2, 0, 3, 0, 0, 2, 0, 2, 0, 2, 0, 2, 3, 3, 0, 2, 1, 2, 3, 2, 3, 0, 2, 0, 1, 2, 2, 2, 0, 2, 0, 0, 0, 2, 0, 0, 0, 0, 2, 0, 0, 0, 0, 0, 0, 0, 0, 2, 3, 0, 0, 0, 2, 0, 3, 2, 3, 0, 0, 0, 3, 0, 2, 2, 0, 0, 3, 0, 2, 1, 2, 0, 0, 0, 0, 0, 0, 3, 2, 0, 0, 2, 3, 0, 2, 0, 0, 3, 0, 2, 2, 0, 2, 3, 2, 0, 0, 2, 0, 2, 0, 0, 0, 2, 2, 3, 0, 0, 0, 0, 0, 2, 2, 0, 0, 2, 0, 0, 0, 0, 0, 0, 0, 2, 2, 2, 0, 2, 2, 0, 0, 0, 2, 2, 2, 0, 2, 2, 3, 0, 2, 0, 2, 2, 2, 2, 3, 2, 0, 2, 2, 0, 0, 0, 0, 2, 0, 2, 2, 2, 0, 2, 0, 0, 2, 2, 2, 0, 2, 3, 3, 0, 0, 0, 3, 0, 0, 3, 0, 2]\n"
     ]
    }
   ],
   "source": [
    "efficientnet_test_preds_kmeans = predict(efficientnet_model_kmeans, test_loader, CFG.DEVICE)\n",
    "print(efficientnet_test_preds_kmeans)"
   ]
  },
  {
   "cell_type": "code",
   "execution_count": 42,
   "metadata": {},
   "outputs": [
    {
     "data": {
      "text/html": [
       "<div>\n",
       "<style scoped>\n",
       "    .dataframe tbody tr th:only-of-type {\n",
       "        vertical-align: middle;\n",
       "    }\n",
       "\n",
       "    .dataframe tbody tr th {\n",
       "        vertical-align: top;\n",
       "    }\n",
       "\n",
       "    .dataframe thead th {\n",
       "        text-align: right;\n",
       "    }\n",
       "</style>\n",
       "<table border=\"1\" class=\"dataframe\">\n",
       "  <thead>\n",
       "    <tr style=\"text-align: right;\">\n",
       "      <th></th>\n",
       "      <th>loss</th>\n",
       "      <th>accuracy</th>\n",
       "      <th>eval_loss</th>\n",
       "      <th>eval_accuracy</th>\n",
       "    </tr>\n",
       "  </thead>\n",
       "  <tbody>\n",
       "    <tr>\n",
       "      <th>0</th>\n",
       "      <td>1.405797</td>\n",
       "      <td>0.263158</td>\n",
       "      <td>1.392682</td>\n",
       "      <td>0.258635</td>\n",
       "    </tr>\n",
       "    <tr>\n",
       "      <th>1</th>\n",
       "      <td>1.395381</td>\n",
       "      <td>0.258772</td>\n",
       "      <td>1.395084</td>\n",
       "      <td>0.271382</td>\n",
       "    </tr>\n",
       "    <tr>\n",
       "      <th>2</th>\n",
       "      <td>1.408166</td>\n",
       "      <td>0.236842</td>\n",
       "      <td>1.404980</td>\n",
       "      <td>0.237664</td>\n",
       "    </tr>\n",
       "    <tr>\n",
       "      <th>3</th>\n",
       "      <td>1.406193</td>\n",
       "      <td>0.265351</td>\n",
       "      <td>1.396002</td>\n",
       "      <td>0.250411</td>\n",
       "    </tr>\n",
       "    <tr>\n",
       "      <th>4</th>\n",
       "      <td>1.407303</td>\n",
       "      <td>0.245614</td>\n",
       "      <td>1.393674</td>\n",
       "      <td>0.284128</td>\n",
       "    </tr>\n",
       "    <tr>\n",
       "      <th>5</th>\n",
       "      <td>1.402528</td>\n",
       "      <td>0.258772</td>\n",
       "      <td>1.397779</td>\n",
       "      <td>0.221628</td>\n",
       "    </tr>\n",
       "    <tr>\n",
       "      <th>6</th>\n",
       "      <td>1.392604</td>\n",
       "      <td>0.254386</td>\n",
       "      <td>1.397613</td>\n",
       "      <td>0.216283</td>\n",
       "    </tr>\n",
       "    <tr>\n",
       "      <th>7</th>\n",
       "      <td>1.396469</td>\n",
       "      <td>0.254386</td>\n",
       "      <td>1.399234</td>\n",
       "      <td>0.224095</td>\n",
       "    </tr>\n",
       "    <tr>\n",
       "      <th>8</th>\n",
       "      <td>1.406306</td>\n",
       "      <td>0.236842</td>\n",
       "      <td>1.396724</td>\n",
       "      <td>0.266036</td>\n",
       "    </tr>\n",
       "    <tr>\n",
       "      <th>9</th>\n",
       "      <td>1.406319</td>\n",
       "      <td>0.278509</td>\n",
       "      <td>1.399150</td>\n",
       "      <td>0.221628</td>\n",
       "    </tr>\n",
       "    <tr>\n",
       "      <th>10</th>\n",
       "      <td>1.390957</td>\n",
       "      <td>0.258772</td>\n",
       "      <td>1.399267</td>\n",
       "      <td>0.200658</td>\n",
       "    </tr>\n",
       "    <tr>\n",
       "      <th>11</th>\n",
       "      <td>1.410272</td>\n",
       "      <td>0.245614</td>\n",
       "      <td>1.396722</td>\n",
       "      <td>0.229441</td>\n",
       "    </tr>\n",
       "    <tr>\n",
       "      <th>12</th>\n",
       "      <td>1.399811</td>\n",
       "      <td>0.252193</td>\n",
       "      <td>1.398766</td>\n",
       "      <td>0.206003</td>\n",
       "    </tr>\n",
       "    <tr>\n",
       "      <th>13</th>\n",
       "      <td>1.401682</td>\n",
       "      <td>0.252193</td>\n",
       "      <td>1.397321</td>\n",
       "      <td>0.237253</td>\n",
       "    </tr>\n",
       "    <tr>\n",
       "      <th>14</th>\n",
       "      <td>1.405064</td>\n",
       "      <td>0.232456</td>\n",
       "      <td>1.398334</td>\n",
       "      <td>0.221628</td>\n",
       "    </tr>\n",
       "    <tr>\n",
       "      <th>15</th>\n",
       "      <td>1.400006</td>\n",
       "      <td>0.263158</td>\n",
       "      <td>1.399281</td>\n",
       "      <td>0.229441</td>\n",
       "    </tr>\n",
       "  </tbody>\n",
       "</table>\n",
       "</div>"
      ],
      "text/plain": [
       "        loss  accuracy  eval_loss  eval_accuracy\n",
       "0   1.405797  0.263158   1.392682       0.258635\n",
       "1   1.395381  0.258772   1.395084       0.271382\n",
       "2   1.408166  0.236842   1.404980       0.237664\n",
       "3   1.406193  0.265351   1.396002       0.250411\n",
       "4   1.407303  0.245614   1.393674       0.284128\n",
       "5   1.402528  0.258772   1.397779       0.221628\n",
       "6   1.392604  0.254386   1.397613       0.216283\n",
       "7   1.396469  0.254386   1.399234       0.224095\n",
       "8   1.406306  0.236842   1.396724       0.266036\n",
       "9   1.406319  0.278509   1.399150       0.221628\n",
       "10  1.390957  0.258772   1.399267       0.200658\n",
       "11  1.410272  0.245614   1.396722       0.229441\n",
       "12  1.399811  0.252193   1.398766       0.206003\n",
       "13  1.401682  0.252193   1.397321       0.237253\n",
       "14  1.405064  0.232456   1.398334       0.221628\n",
       "15  1.400006  0.263158   1.399281       0.229441"
      ]
     },
     "execution_count": 42,
     "metadata": {},
     "output_type": "execute_result"
    }
   ],
   "source": [
    "# Convert EfficientNet history dict to DataFrame\n",
    "efficientnet_kmeans_history_df = pd.DataFrame(efficientnet_session_history)\n",
    "efficientnet_kmeans_history_df"
   ]
  },
  {
   "cell_type": "code",
   "execution_count": 43,
   "metadata": {},
   "outputs": [
    {
     "data": {
      "image/png": "[encoded data removed]",
      "text/plain": [
       "<Figure size 2000x800 with 2 Axes>"
      ]
     },
     "metadata": {},
     "output_type": "display_data"
    }
   ],
   "source": [
    "plot_training_curves(efficientnet_session_history)"
   ]
  },
  {
   "cell_type": "markdown",
   "metadata": {},
   "source": [
    "**Training Loss vs. Eval Loss (Left Plot)**\n",
    "- The training loss (blue line) and evaluation loss (orange line) show a lot of fluctuation across the epochs.\n",
    "- The high variance suggests that the model might be unstable or that the learning rate might be too high.\n",
    "\n",
    "**Training Accuracy vs. Eval Accuracy (Right Plot)**\n",
    "- Similar to the loss plot, the training accuracy (blue line) and evaluation accuracy (orange line) also fluctuate significantly.\n",
    "- This inconsisitency indicates potential overfitting or that the model is struggling to learn effectively."
   ]
  },
  {
   "cell_type": "code",
   "execution_count": 46,
   "metadata": {},
   "outputs": [
    {
     "data": {
      "image/png": "[encoded data removed]",
      "text/plain": [
       "<Figure size 800x700 with 2 Axes>"
      ]
     },
     "metadata": {},
     "output_type": "display_data"
    }
   ],
   "source": [
    "plot_confusion_matrix(test_labels, efficientnet_test_preds_kmeans)"
   ]
  },
  {
   "cell_type": "markdown",
   "metadata": {},
   "source": [
    "**Confusion Matrix (True vs. Predicted Labels)**\n",
    "\n",
    "The confusion matrix shows the distribution of true labels versus the predicted labels for the four categories (glioma, meningioma, notumor, and pituitary). The highest values should be on the diagonals (matching (0,0), (1,1), (2,2), and (3,3)). However, there are significant misclassifications, especially in cells like (2,0) and (2,1). Below is a more detailed analysis of the specific classes:\n",
    "- Class 0 (glioma): there is a pretty 1:1 ratio amount of true class 0 images that are misclassified across the other classes\n",
    "- Class 1 (meningioma): a large portion of true class 1 images are misclassified with the (1,1) having the least images\n",
    "- Class 2 (notumor): a substatial number of images are misclassified as class 0, but the second-most images is right at (2,2)\n",
    "- Class 3 (pituitary): many are misclassified in class 0 and 2"
   ]
  },
  {
   "cell_type": "markdown",
   "metadata": {},
   "source": [
    "**What we additionally learn from this - more closely related pairs than we thought**\n",
    "\n",
    "By analyzing this confusion matrix, we can find the patterns of which classes were easily confused with one another. This tells us that the tumor placement/shape/size have similarities.\n",
    "- **Class 0 (glioma) and Class 2 (notumor):** There is a significant number of instances where Class 0 is misclassified as Class 2 (86 instances) and vice versa (206 instances). This suggests that these two classes have features that are often similar, making them more closely related in the feature space.\n",
    "- **Class 1 (meningioma) and Class 2 (notumor):** A large number of Class 1 instances are misclassified as Class 2 (155 instances), indicating a close relationship between these two classes. Additionally, some instances of Class 2 are misclassified as Class 1 (7 instances).\n",
    "- **Class 3 (pituitary) and Class 2 (notumor):** Many Class 3 instances are misclassified as Class 2 (136 instances), and some Class 2 instances are misclassified as Class 3 (43 instances). This indicates that these two classes also share similar features.\n",
    "\n",
    "The observation that all the tumorous classes (glioma, meningioma, and pituitary) have the most similarity with the \"no tumor\" class can be attributed to several potential factors:\n",
    "1. **Limited Discriminative Features:** The features extracted from the images may not be sufficiently discriminative to clearly separate tumorous classes from non-tumorous ones. This could be due to inadequate feature selection or extraction methods that fail to capture the nuances between the classes.\n",
    "2. **Visual Similarities:** In medical imaging, especially brain MRIs, non-tumorous regions and certain tumor types might have similar visual characteristics in terms of texture, intensity, or shape, leading to confusion between the classes.\n",
    "3. **Shared Features:** Some features used for clustering might be present in both tumorous and non-tumorous regions, such as variations in brightness or shape that are not unique to tumors but also appear in healthy brain tissue."
   ]
  },
  {
   "cell_type": "code",
   "execution_count": 50,
   "metadata": {},
   "outputs": [
    {
     "data": {
      "text/plain": [
       "0.21815408085430968"
      ]
     },
     "execution_count": 50,
     "metadata": {},
     "output_type": "execute_result"
    }
   ],
   "source": [
    "accuracy_score(test_labels, efficientnet_test_preds_kmeans)"
   ]
  },
  {
   "cell_type": "markdown",
   "metadata": {},
   "source": [
    "Here in the unsupervised learning (with clustering), we have an accuracy score of 21.8%. This is quite normal for an unsupervised learning model because such models do not have access to labeled data during training. Without labels, the model must rely solely on the inherent structure of the data to form clusters, which often leads to less precise grouping compared to supervised learning. Supervised learning models benefit from explicit guidance on how to classify each data point, resulting in much higher accuracy, which we can see in our P2_supervised jupyter notebook. In contrast, unsupervised models aim to find patterns and relationships in the data without this guidance. \n",
    "\n",
    "Consequently, accuracy scores around 20-25% are common, as the clusters formed by the model might not align perfectly with the true labels. This disparity highlights the fundamental challenge of unsupervised learning: discovering meaningful patterns in data without predefined categories, which is especially difficult given what our dataset consists of. Brain tumor images likely have high-dimensional feature spaces that can complicate clustering. Dimensionality reduction techniques like PCA can help but might still not fully capture the separable structure. Following this, we will now explore how PCA techniques affect our model."
   ]
  },
  {
   "cell_type": "markdown",
   "metadata": {},
   "source": [
    "## PCA"
   ]
  },
  {
   "cell_type": "code",
   "execution_count": null,
   "metadata": {},
   "outputs": [],
   "source": []
  }
 ],
 "metadata": {
  "kernelspec": {
   "display_name": "Python 3 (ipykernel)",
   "language": "python",
   "name": "python3"
  },
  "language_info": {
   "codemirror_mode": {
    "name": "ipython",
    "version": 3
   },
   "file_extension": ".py",
   "mimetype": "text/x-python",
   "name": "python",
   "nbconvert_exporter": "python",
   "pygments_lexer": "ipython3",
   "version": "3.8.10"
  }
 },
 "nbformat": 4,
 "nbformat_minor": 4
}
