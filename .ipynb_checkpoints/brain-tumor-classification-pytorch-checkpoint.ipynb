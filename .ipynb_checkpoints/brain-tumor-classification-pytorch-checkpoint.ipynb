{
 "cells": [
  {
   "cell_type": "code",
   "execution_count": 1,
   "id": "35d484cb",
   "metadata": {
    "_cell_guid": "b1076dfc-b9ad-4769-8c92-a6c4dae69d19",
    "_uuid": "8f2839f25d086af736a60e9eeb907d3b93b6e0e5",
    "execution": {
     "iopub.execute_input": "2023-08-28T18:22:37.295365Z",
     "iopub.status.busy": "2023-08-28T18:22:37.294946Z",
     "iopub.status.idle": "2023-08-28T18:22:40.528281Z",
     "shell.execute_reply": "2023-08-28T18:22:40.527276Z"
    },
    "papermill": {
     "duration": 3.249252,
     "end_time": "2023-08-28T18:22:40.530741",
     "exception": false,
     "start_time": "2023-08-28T18:22:37.281489",
     "status": "completed"
    },
    "tags": []
   },
   "outputs": [],
   "source": [
    "# Imports\n",
    "import os\n",
    "import sys\n",
    "import glob\n",
    "import torch\n",
    "import torchvision\n",
    "\n",
    "import numpy as np\n",
    "import datetime as dt\n",
    "import torch.nn as nn\n",
    "import torch.nn.functional as F\n",
    "import matplotlib.pyplot as plt\n",
    "\n",
    "from PIL import Image\n",
    "from collections import Counter  # Add this import\n",
    "from torch.utils.data import Dataset\n",
    "from torch.autograd import Variable\n",
    "from torch.optim import lr_scheduler\n",
    "\n",
    "from torch.utils.data import Dataset, DataLoader\n",
    "from torch.utils.data.sampler import SubsetRandomSampler\n",
    "from torchvision import transforms, datasets, models\n",
    "from os import listdir, makedirs, getcwd, remove\n",
    "from os.path import isfile, join, abspath, exists, isdir, expanduser\n",
    "\n",
    "\n"
   ]
  },
  {
   "cell_type": "code",
   "execution_count": 2,
   "id": "197b1bbe",
   "metadata": {
    "execution": {
     "iopub.execute_input": "2023-08-28T18:22:40.546058Z",
     "iopub.status.busy": "2023-08-28T18:22:40.545533Z",
     "iopub.status.idle": "2023-08-28T18:22:40.598829Z",
     "shell.execute_reply": "2023-08-28T18:22:40.597827Z"
    },
    "papermill": {
     "duration": 0.063115,
     "end_time": "2023-08-28T18:22:40.600987",
     "exception": false,
     "start_time": "2023-08-28T18:22:40.537872",
     "status": "completed"
    },
    "tags": []
   },
   "outputs": [],
   "source": [
    "# Set the device for training\n",
    "device = torch.device('cuda' if torch.cuda.is_available() else 'cpu')"
   ]
  },
  {
   "cell_type": "code",
   "execution_count": 3,
   "id": "812aaf16",
   "metadata": {
    "execution": {
     "iopub.execute_input": "2023-08-28T18:22:40.615585Z",
     "iopub.status.busy": "2023-08-28T18:22:40.615293Z",
     "iopub.status.idle": "2023-08-28T18:22:40.619405Z",
     "shell.execute_reply": "2023-08-28T18:22:40.618428Z"
    },
    "papermill": {
     "duration": 0.013721,
     "end_time": "2023-08-28T18:22:40.621549",
     "exception": false,
     "start_time": "2023-08-28T18:22:40.607828",
     "status": "completed"
    },
    "tags": []
   },
   "outputs": [],
   "source": [
    "# pip install numpy==1.23.5\n"
   ]
  },
  {
   "cell_type": "code",
   "execution_count": 4,
   "id": "7dc968c3",
   "metadata": {
    "execution": {
     "iopub.execute_input": "2023-08-28T18:22:40.636198Z",
     "iopub.status.busy": "2023-08-28T18:22:40.635915Z",
     "iopub.status.idle": "2023-08-28T18:22:45.740454Z",
     "shell.execute_reply": "2023-08-28T18:22:45.739451Z"
    },
    "papermill": {
     "duration": 5.114615,
     "end_time": "2023-08-28T18:22:45.742837",
     "exception": false,
     "start_time": "2023-08-28T18:22:40.628222",
     "status": "completed"
    },
    "tags": []
   },
   "outputs": [],
   "source": [
    "from torchvision.datasets import ImageFolder\n",
    "\n",
    "\n",
    "# Modify the data transformation for grayscale images\n",
    "transforms = transforms.Compose([\n",
    "    transforms.Resize((224, 224)),\n",
    "    transforms.RandomHorizontalFlip(),\n",
    "    transforms.RandomRotation(10),\n",
    "    transforms.Grayscale(num_output_channels=3),  \n",
    "    transforms.ToTensor(),\n",
    "    transforms.Normalize(mean=[0.485], std=[0.229])  # Use single value for mean and std\n",
    "])\n",
    "\n",
    "train_dataset = ImageFolder('./data/original/Training', transform=transforms)\n",
    "train_loader = DataLoader(train_dataset, batch_size=16, shuffle=True)\n",
    "\n",
    "val_dataset = ImageFolder('./data/original/Testing', transform=transforms)\n",
    "val_loader = DataLoader(val_dataset, batch_size=16, shuffle=False)\n"
   ]
  },
  {
   "cell_type": "code",
   "execution_count": 5,
   "id": "0757e9a9",
   "metadata": {
    "execution": {
     "iopub.execute_input": "2023-08-28T18:22:45.757906Z",
     "iopub.status.busy": "2023-08-28T18:22:45.757590Z",
     "iopub.status.idle": "2023-08-28T18:22:45.767651Z",
     "shell.execute_reply": "2023-08-28T18:22:45.766756Z"
    },
    "papermill": {
     "duration": 0.020038,
     "end_time": "2023-08-28T18:22:45.769844",
     "exception": false,
     "start_time": "2023-08-28T18:22:45.749806",
     "status": "completed"
    },
    "tags": []
   },
   "outputs": [],
   "source": [
    "# Compute class weights\n",
    "def compute_class_weights(labels):\n",
    "    label_counts = Counter(labels)\n",
    "    class_weights = [1.0 / label_counts[label] for label in labels]\n",
    "    return torch.tensor(class_weights, dtype=torch.float)\n",
    "\n",
    "class Tumor(Dataset):\n",
    "    def __init__(self, path, transform=None):\n",
    "        self.classes = os.listdir(path)\n",
    "        self.path = [f\"{path}/{className}\" for className in self.classes]\n",
    "        self.file_list = [glob.glob(f\"{x}/*\") for x in self.path]\n",
    "        self.transform = transform\n",
    "\n",
    "        files = []\n",
    "        for i, className in enumerate(self.classes):\n",
    "            for fileName in self.file_list[i]:\n",
    "                files.append([i, fileName])\n",
    "        self.file_list = files\n",
    "\n",
    "        # Compute class weights\n",
    "        labels = [item[0] for item in self.file_list]\n",
    "        self.class_weights = compute_class_weights(labels)\n",
    "\n",
    "    def __len__(self):\n",
    "        return len(self.file_list)\n",
    "\n",
    "    def __getitem__(self, idx):\n",
    "        fileName = self.file_list[idx][1]\n",
    "        classCategory = self.file_list[idx][0]\n",
    "        im = Image.open(fileName)\n",
    "\n",
    "        if self.transform:\n",
    "            im = self.transform(im)\n",
    "\n",
    "        return im, classCategory"
   ]
  },
  {
   "cell_type": "code",
   "execution_count": 6,
   "id": "5e6240ff",
   "metadata": {
    "execution": {
     "iopub.execute_input": "2023-08-28T18:22:45.784210Z",
     "iopub.status.busy": "2023-08-28T18:22:45.783930Z",
     "iopub.status.idle": "2023-08-28T18:22:45.788350Z",
     "shell.execute_reply": "2023-08-28T18:22:45.787455Z"
    },
    "papermill": {
     "duration": 0.01396,
     "end_time": "2023-08-28T18:22:45.790399",
     "exception": false,
     "start_time": "2023-08-28T18:22:45.776439",
     "status": "completed"
    },
    "tags": []
   },
   "outputs": [],
   "source": [
    "data_path = \"/kaggle/input/brain-tumor-mri-dataset\"\n",
    "train_path = join(data_path, \"Training\")\n",
    "test_path = join(data_path,\"Testing\")"
   ]
  },
  {
   "cell_type": "code",
   "execution_count": 7,
   "id": "23aaf579",
   "metadata": {
    "execution": {
     "iopub.execute_input": "2023-08-28T18:22:45.805553Z",
     "iopub.status.busy": "2023-08-28T18:22:45.804812Z",
     "iopub.status.idle": "2023-08-28T18:22:45.853058Z",
     "shell.execute_reply": "2023-08-28T18:22:45.852172Z"
    },
    "papermill": {
     "duration": 0.05762,
     "end_time": "2023-08-28T18:22:45.855001",
     "exception": false,
     "start_time": "2023-08-28T18:22:45.797381",
     "status": "completed"
    },
    "tags": []
   },
   "outputs": [
    {
     "ename": "FileNotFoundError",
     "evalue": "[Errno 2] No such file or directory: '/kaggle/input/brain-tumor-mri-dataset/Training'",
     "output_type": "error",
     "traceback": [
      "\u001b[0;31m---------------------------------------------------------------------------\u001b[0m",
      "\u001b[0;31mFileNotFoundError\u001b[0m                         Traceback (most recent call last)",
      "Cell \u001b[0;32mIn[7], line 1\u001b[0m\n\u001b[0;32m----> 1\u001b[0m train_data \u001b[38;5;241m=\u001b[39m \u001b[43mTumor\u001b[49m\u001b[43m(\u001b[49m\u001b[43mtrain_path\u001b[49m\u001b[43m,\u001b[49m\u001b[43m \u001b[49m\u001b[43mtransform\u001b[49m\u001b[38;5;241;43m=\u001b[39;49m\u001b[43mtransforms\u001b[49m\u001b[43m)\u001b[49m\n\u001b[1;32m      2\u001b[0m test_data \u001b[38;5;241m=\u001b[39m Tumor(test_path, transform\u001b[38;5;241m=\u001b[39mtransforms)\n",
      "Cell \u001b[0;32mIn[5], line 9\u001b[0m, in \u001b[0;36mTumor.__init__\u001b[0;34m(self, path, transform)\u001b[0m\n\u001b[1;32m      8\u001b[0m \u001b[38;5;28;01mdef\u001b[39;00m \u001b[38;5;21m__init__\u001b[39m(\u001b[38;5;28mself\u001b[39m, path, transform\u001b[38;5;241m=\u001b[39m\u001b[38;5;28;01mNone\u001b[39;00m):\n\u001b[0;32m----> 9\u001b[0m     \u001b[38;5;28mself\u001b[39m\u001b[38;5;241m.\u001b[39mclasses \u001b[38;5;241m=\u001b[39m \u001b[43mos\u001b[49m\u001b[38;5;241;43m.\u001b[39;49m\u001b[43mlistdir\u001b[49m\u001b[43m(\u001b[49m\u001b[43mpath\u001b[49m\u001b[43m)\u001b[49m\n\u001b[1;32m     10\u001b[0m     \u001b[38;5;28mself\u001b[39m\u001b[38;5;241m.\u001b[39mpath \u001b[38;5;241m=\u001b[39m [\u001b[38;5;124mf\u001b[39m\u001b[38;5;124m\"\u001b[39m\u001b[38;5;132;01m{\u001b[39;00mpath\u001b[38;5;132;01m}\u001b[39;00m\u001b[38;5;124m/\u001b[39m\u001b[38;5;132;01m{\u001b[39;00mclassName\u001b[38;5;132;01m}\u001b[39;00m\u001b[38;5;124m\"\u001b[39m \u001b[38;5;28;01mfor\u001b[39;00m className \u001b[38;5;129;01min\u001b[39;00m \u001b[38;5;28mself\u001b[39m\u001b[38;5;241m.\u001b[39mclasses]\n\u001b[1;32m     11\u001b[0m     \u001b[38;5;28mself\u001b[39m\u001b[38;5;241m.\u001b[39mfile_list \u001b[38;5;241m=\u001b[39m [glob\u001b[38;5;241m.\u001b[39mglob(\u001b[38;5;124mf\u001b[39m\u001b[38;5;124m\"\u001b[39m\u001b[38;5;132;01m{\u001b[39;00mx\u001b[38;5;132;01m}\u001b[39;00m\u001b[38;5;124m/*\u001b[39m\u001b[38;5;124m\"\u001b[39m) \u001b[38;5;28;01mfor\u001b[39;00m x \u001b[38;5;129;01min\u001b[39;00m \u001b[38;5;28mself\u001b[39m\u001b[38;5;241m.\u001b[39mpath]\n",
      "\u001b[0;31mFileNotFoundError\u001b[0m: [Errno 2] No such file or directory: '/kaggle/input/brain-tumor-mri-dataset/Training'"
     ]
    }
   ],
   "source": [
    "train_data = Tumor(train_path, transform=transforms)\n",
    "test_data = Tumor(test_path, transform=transforms)"
   ]
  },
  {
   "cell_type": "code",
   "execution_count": null,
   "id": "8f55036b",
   "metadata": {
    "execution": {
     "iopub.execute_input": "2023-08-28T18:22:45.870961Z",
     "iopub.status.busy": "2023-08-28T18:22:45.869327Z",
     "iopub.status.idle": "2023-08-28T18:22:48.508767Z",
     "shell.execute_reply": "2023-08-28T18:22:48.507626Z"
    },
    "papermill": {
     "duration": 2.669158,
     "end_time": "2023-08-28T18:22:48.530812",
     "exception": false,
     "start_time": "2023-08-28T18:22:45.861654",
     "status": "completed"
    },
    "tags": []
   },
   "outputs": [],
   "source": [
    "# step 3\n",
    "# Load a batch of images and labels for visualization\n",
    "data_iter = iter(train_loader)\n",
    "images, labels = next(data_iter)\n",
    "\n",
    "# Convert images to numpy arrays and denormalize\n",
    "mean = np.array([0.485, 0.456, 0.406])\n",
    "std = np.array([0.229, 0.224, 0.225])\n",
    "images = (images.numpy().transpose((0, 2, 3, 1)) * std + mean).clip(0, 1)\n",
    "\n",
    "# Create a grid of images\n",
    "num_images = len(images)\n",
    "rows = int(np.ceil(num_images / 4))\n",
    "fig, axes = plt.subplots(rows, 4, figsize=(15, 15))\n",
    "\n",
    "# Plot images with labels\n",
    "for i, ax in enumerate(axes.flat):\n",
    "    if i < num_images:\n",
    "        ax.imshow(images[i])\n",
    "        ax.set_title(f'Label: {train_dataset.classes[labels[i]]}')\n",
    "    ax.axis('off')\n",
    "\n",
    "plt.tight_layout()\n",
    "plt.show()"
   ]
  },
  {
   "cell_type": "code",
   "execution_count": null,
   "id": "facd90e8",
   "metadata": {
    "execution": {
     "iopub.execute_input": "2023-08-28T18:22:48.588463Z",
     "iopub.status.busy": "2023-08-28T18:22:48.588116Z",
     "iopub.status.idle": "2023-08-28T18:22:49.579023Z",
     "shell.execute_reply": "2023-08-28T18:22:49.578027Z"
    },
    "papermill": {
     "duration": 1.023338,
     "end_time": "2023-08-28T18:22:49.581516",
     "exception": false,
     "start_time": "2023-08-28T18:22:48.558178",
     "status": "completed"
    },
    "tags": []
   },
   "outputs": [],
   "source": [
    "import numpy as np\n",
    "from sklearn.model_selection import train_test_split\n",
    "\n",
    "validation_split = 0.2\n",
    "random_seed = 42\n",
    "shuffle_dataset = True  # Define shuffle_dataset variable here\n",
    "\n",
    "# Creating data indices for training and validation splits\n",
    "dataset_size = len(train_data)\n",
    "indices = list(range(dataset_size))\n",
    "split = int(np.floor(validation_split * dataset_size))\n",
    "\n",
    "if shuffle_dataset:\n",
    "    np.random.seed(random_seed)\n",
    "    np.random.shuffle(indices)\n",
    "\n",
    "train_indices, val_indices = indices[split:], indices[:split]"
   ]
  },
  {
   "cell_type": "code",
   "execution_count": null,
   "id": "fbc7e959",
   "metadata": {
    "execution": {
     "iopub.execute_input": "2023-08-28T18:22:49.640251Z",
     "iopub.status.busy": "2023-08-28T18:22:49.639607Z",
     "iopub.status.idle": "2023-08-28T18:22:49.643923Z",
     "shell.execute_reply": "2023-08-28T18:22:49.643002Z"
    },
    "papermill": {
     "duration": 0.036658,
     "end_time": "2023-08-28T18:22:49.646026",
     "exception": false,
     "start_time": "2023-08-28T18:22:49.609368",
     "status": "completed"
    },
    "tags": []
   },
   "outputs": [],
   "source": [
    "batch_size=16"
   ]
  },
  {
   "cell_type": "code",
   "execution_count": null,
   "id": "75e32926",
   "metadata": {
    "execution": {
     "iopub.execute_input": "2023-08-28T18:22:49.703884Z",
     "iopub.status.busy": "2023-08-28T18:22:49.703528Z",
     "iopub.status.idle": "2023-08-28T18:22:49.709521Z",
     "shell.execute_reply": "2023-08-28T18:22:49.708630Z"
    },
    "papermill": {
     "duration": 0.038194,
     "end_time": "2023-08-28T18:22:49.711571",
     "exception": false,
     "start_time": "2023-08-28T18:22:49.673377",
     "status": "completed"
    },
    "tags": []
   },
   "outputs": [],
   "source": [
    "from torch.utils.data import SubsetRandomSampler, DataLoader\n",
    "\n",
    "train_sampler = SubsetRandomSampler(train_indices)\n",
    "val_sampler = SubsetRandomSampler(val_indices)\n",
    "\n",
    "train_loader = DataLoader(train_data, batch_size=batch_size, sampler=train_sampler)\n",
    "val_loader = DataLoader(train_data, batch_size=batch_size, sampler=val_sampler)\n",
    "test_loader = DataLoader(test_data, batch_size=batch_size)"
   ]
  },
  {
   "cell_type": "code",
   "execution_count": null,
   "id": "8b8b3aac",
   "metadata": {
    "execution": {
     "iopub.execute_input": "2023-08-28T18:22:49.769760Z",
     "iopub.status.busy": "2023-08-28T18:22:49.768862Z",
     "iopub.status.idle": "2023-08-28T18:22:49.775708Z",
     "shell.execute_reply": "2023-08-28T18:22:49.774879Z"
    },
    "papermill": {
     "duration": 0.03934,
     "end_time": "2023-08-28T18:22:49.778000",
     "exception": false,
     "start_time": "2023-08-28T18:22:49.738660",
     "status": "completed"
    },
    "tags": []
   },
   "outputs": [],
   "source": [
    "import torch\n",
    "import torch.nn as nn\n",
    "import torch.optim as optim\n",
    "from torchvision.models import resnet50\n",
    "# Step 4: Define the ResNet-50 based classifier\n",
    "class TumorClassifier(nn.Module):\n",
    "    def __init__(self, num_classes):\n",
    "        super(TumorClassifier, self).__init__()\n",
    "        self.resnet50 = resnet50(pretrained=True)\n",
    "        self.resnet50.fc = nn.Linear(self.resnet50.fc.in_features, num_classes)\n",
    "        \n",
    "    def forward(self, x):\n",
    "        return self.resnet50(x)\n"
   ]
  },
  {
   "cell_type": "code",
   "execution_count": null,
   "id": "2a68d4db",
   "metadata": {
    "execution": {
     "iopub.execute_input": "2023-08-28T18:22:49.836234Z",
     "iopub.status.busy": "2023-08-28T18:22:49.835554Z",
     "iopub.status.idle": "2023-08-28T18:23:03.954806Z",
     "shell.execute_reply": "2023-08-28T18:23:03.953621Z"
    },
    "papermill": {
     "duration": 14.152437,
     "end_time": "2023-08-28T18:23:03.957661",
     "exception": false,
     "start_time": "2023-08-28T18:22:49.805224",
     "status": "completed"
    },
    "tags": []
   },
   "outputs": [],
   "source": [
    "!pip install efficientnet-pytorch\n"
   ]
  },
  {
   "cell_type": "code",
   "execution_count": null,
   "id": "4508397e",
   "metadata": {
    "execution": {
     "iopub.execute_input": "2023-08-28T18:23:04.018035Z",
     "iopub.status.busy": "2023-08-28T18:23:04.017668Z",
     "iopub.status.idle": "2023-08-28T18:23:04.030070Z",
     "shell.execute_reply": "2023-08-28T18:23:04.029191Z"
    },
    "papermill": {
     "duration": 0.045433,
     "end_time": "2023-08-28T18:23:04.032129",
     "exception": false,
     "start_time": "2023-08-28T18:23:03.986696",
     "status": "completed"
    },
    "tags": []
   },
   "outputs": [],
   "source": [
    "from efficientnet_pytorch import EfficientNet\n",
    "\n",
    "# Step 4: Define the EfficientNet-based classifier\n",
    "class TumorClassifier(nn.Module):\n",
    "    def __init__(self, num_classes):\n",
    "        super(TumorClassifier, self).__init__()\n",
    "        self.efficientnet = EfficientNet.from_pretrained('efficientnet-b0')  # You can choose different variants\n",
    "        num_ftrs = self.efficientnet._fc.in_features\n",
    "        self.efficientnet._fc = nn.Linear(num_ftrs, num_classes)\n",
    "        \n",
    "    def forward(self, x):\n",
    "        return self.efficientnet(x)"
   ]
  },
  {
   "cell_type": "code",
   "execution_count": null,
   "id": "e78bab54",
   "metadata": {
    "execution": {
     "iopub.execute_input": "2023-08-28T18:23:04.092227Z",
     "iopub.status.busy": "2023-08-28T18:23:04.091265Z",
     "iopub.status.idle": "2023-08-28T18:23:04.098154Z",
     "shell.execute_reply": "2023-08-28T18:23:04.097275Z"
    },
    "papermill": {
     "duration": 0.039852,
     "end_time": "2023-08-28T18:23:04.100145",
     "exception": false,
     "start_time": "2023-08-28T18:23:04.060293",
     "status": "completed"
    },
    "tags": []
   },
   "outputs": [],
   "source": [
    "from torchvision.models import densenet121\n",
    "\n",
    "# Step 4: Define the DenseNet-based classifier\n",
    "class TumorClassifier(nn.Module):\n",
    "    def __init__(self, num_classes):\n",
    "        super(TumorClassifier, self).__init__()\n",
    "        self.densenet = densenet121(pretrained=True)\n",
    "        num_ftrs = self.densenet.classifier.in_features\n",
    "        self.densenet.classifier = nn.Linear(num_ftrs, num_classes)\n",
    "        \n",
    "    def forward(self, x):\n",
    "        return self.densenet(x)"
   ]
  },
  {
   "cell_type": "code",
   "execution_count": null,
   "id": "de69eaaa",
   "metadata": {
    "papermill": {
     "duration": 0.028675,
     "end_time": "2023-08-28T18:23:04.156779",
     "exception": false,
     "start_time": "2023-08-28T18:23:04.128104",
     "status": "completed"
    },
    "tags": []
   },
   "outputs": [],
   "source": []
  },
  {
   "cell_type": "code",
   "execution_count": null,
   "id": "459f7f24",
   "metadata": {
    "_kg_hide-input": false,
    "_kg_hide-output": true,
    "execution": {
     "iopub.execute_input": "2023-08-28T18:23:04.216781Z",
     "iopub.status.busy": "2023-08-28T18:23:04.215779Z",
     "iopub.status.idle": "2023-08-28T18:23:07.554160Z",
     "shell.execute_reply": "2023-08-28T18:23:07.553125Z"
    },
    "papermill": {
     "duration": 3.371186,
     "end_time": "2023-08-28T18:23:07.556561",
     "exception": false,
     "start_time": "2023-08-28T18:23:04.185375",
     "status": "completed"
    },
    "tags": []
   },
   "outputs": [],
   "source": [
    "import torch.optim as optim\n",
    "# Create the model, move it to the device, define loss function and optimizer\n",
    "model = TumorClassifier(num_classes=4)\n",
    "model.to(device)\n",
    "criterion = nn.CrossEntropyLoss()\n",
    "optimizer = optim.Adam(model.parameters(), lr=0.0002)\n"
   ]
  },
  {
   "cell_type": "code",
   "execution_count": null,
   "id": "d3e5b1ac",
   "metadata": {
    "execution": {
     "iopub.execute_input": "2023-08-14T18:09:02.209347Z",
     "iopub.status.busy": "2023-08-14T18:09:02.208983Z",
     "iopub.status.idle": "2023-08-14T18:09:02.214450Z",
     "shell.execute_reply": "2023-08-14T18:09:02.213212Z",
     "shell.execute_reply.started": "2023-08-14T18:09:02.209317Z"
    },
    "papermill": {
     "duration": 0.0331,
     "end_time": "2023-08-28T18:23:07.625362",
     "exception": false,
     "start_time": "2023-08-28T18:23:07.592262",
     "status": "completed"
    },
    "tags": []
   },
   "outputs": [],
   "source": [
    "\n"
   ]
  },
  {
   "cell_type": "code",
   "execution_count": null,
   "id": "df159b8c",
   "metadata": {
    "execution": {
     "iopub.execute_input": "2023-08-28T18:23:07.693547Z",
     "iopub.status.busy": "2023-08-28T18:23:07.692657Z",
     "iopub.status.idle": "2023-08-28T18:23:07.705049Z",
     "shell.execute_reply": "2023-08-28T18:23:07.704038Z"
    },
    "papermill": {
     "duration": 0.049344,
     "end_time": "2023-08-28T18:23:07.707226",
     "exception": false,
     "start_time": "2023-08-28T18:23:07.657882",
     "status": "completed"
    },
    "tags": []
   },
   "outputs": [],
   "source": [
    "import numpy as np\n",
    "\n",
    "def train(model, criterion, train_loader, val_loader, optimizer, num_epochs, patience):\n",
    "    \"\"\"Train a model with early stopping.\"\"\"\n",
    "   \n",
    "\n",
    "    # Exponential moving average of the loss.\n",
    "    ema_loss = None\n",
    "\n",
    "    # Variables for early stopping\n",
    "    best_loss = np.inf\n",
    "    epochs_without_improvement = 0\n",
    "\n",
    "    print('----- Training Loop -----')\n",
    "\n",
    "    # Loop over epochs.\n",
    "    for epoch in range(num_epochs):\n",
    "        # Training phase\n",
    "        model.train()\n",
    "\n",
    "        # Loop over training data.\n",
    "        for batch_idx, (features, target) in enumerate(train_loader):\n",
    "            # Move data to the device.\n",
    "            features = features.to(device)\n",
    "            target = target.to(device)\n",
    "\n",
    "            # Forward pass.\n",
    "            output = model(features)\n",
    "            loss = criterion(output, target)\n",
    "\n",
    "            # Backward pass.\n",
    "            optimizer.zero_grad()\n",
    "            loss.backward()\n",
    "            optimizer.step()\n",
    "\n",
    "            # Update exponential moving average of the loss.\n",
    "            if ema_loss is None:\n",
    "                ema_loss = loss.item()\n",
    "            else:\n",
    "                ema_loss += (loss.item() - ema_loss) * 0.01\n",
    "\n",
    "        # Print training progress at the end of the epoch.\n",
    "        print('Epoch: {} \\tTraining Loss: {:.3f}'.format(epoch, ema_loss))\n",
    "\n",
    "        # Validation phase\n",
    "        model.eval()\n",
    "        val_loss = 0.0\n",
    "\n",
    "        with torch.no_grad():\n",
    "            for val_data in val_loader:\n",
    "                val_inputs, val_labels = val_data\n",
    "                val_inputs = val_inputs.to(device)\n",
    "                val_labels = val_labels.to(device)\n",
    "\n",
    "                val_outputs = model(val_inputs)\n",
    "                loss = criterion(val_outputs, val_labels)\n",
    "                val_loss += loss.item()\n",
    "\n",
    "        val_loss /= len(val_loader)\n",
    "\n",
    "        # Check if validation loss has improved\n",
    "        if val_loss < best_loss:\n",
    "            best_loss = val_loss\n",
    "            epochs_without_improvement = 0\n",
    "        else:\n",
    "            epochs_without_improvement += 1\n",
    "\n",
    "        \n"
   ]
  },
  {
   "cell_type": "code",
   "execution_count": null,
   "id": "8aa708a6",
   "metadata": {
    "execution": {
     "iopub.execute_input": "2023-08-28T18:23:07.776924Z",
     "iopub.status.busy": "2023-08-28T18:23:07.776207Z",
     "iopub.status.idle": "2023-08-28T18:42:14.371313Z",
     "shell.execute_reply": "2023-08-28T18:42:14.370274Z"
    },
    "papermill": {
     "duration": 1146.632441,
     "end_time": "2023-08-28T18:42:14.373834",
     "exception": false,
     "start_time": "2023-08-28T18:23:07.741393",
     "status": "completed"
    },
    "tags": []
   },
   "outputs": [],
   "source": [
    "# Train the model\n",
    "num_epochs = 20\n",
    "patience = 3\n",
    "train(model, criterion, train_loader, val_loader, optimizer, num_epochs, patience)\n"
   ]
  },
  {
   "cell_type": "code",
   "execution_count": null,
   "id": "430b2864",
   "metadata": {
    "execution": {
     "iopub.execute_input": "2023-08-28T18:42:14.445142Z",
     "iopub.status.busy": "2023-08-28T18:42:14.444236Z",
     "iopub.status.idle": "2023-08-28T18:42:14.452122Z",
     "shell.execute_reply": "2023-08-28T18:42:14.451156Z"
    },
    "papermill": {
     "duration": 0.04543,
     "end_time": "2023-08-28T18:42:14.454239",
     "exception": false,
     "start_time": "2023-08-28T18:42:14.408809",
     "status": "completed"
    },
    "tags": []
   },
   "outputs": [],
   "source": [
    "def test(model, data_loader):\n",
    "    \"\"\"Measures the accuracy of a model on a data set.\"\"\"\n",
    "    # Make sure the model is in evaluation mode.\n",
    "    model.eval()\n",
    "    correct = 0\n",
    "    total = 0\n",
    "\n",
    "    print('----- Model Evaluation -----')\n",
    "    # We do not need to maintain intermediate activations while testing.\n",
    "    with torch.no_grad():\n",
    "        # Loop over test data.\n",
    "        for features, target in data_loader:\n",
    "            # Move data to the device.\n",
    "            features = features.to(device)\n",
    "            target = target.to(device)\n",
    "\n",
    "            # Forward pass.\n",
    "            output = model(features)\n",
    "\n",
    "            # Get the label corresponding to the highest predicted probability.\n",
    "            _, predicted = torch.max(output.data, 1)\n",
    "\n",
    "            # Count number of correct predictions.\n",
    "            total += target.size(0)\n",
    "            correct += (predicted == target).sum().item()\n",
    "\n",
    "    # Calculate test accuracy.\n",
    "    accuracy = 100 * correct / total\n",
    "    print(f'Test accuracy: {correct} / {total} ({accuracy:.2f}%)')\n",
    "\n",
    "    return accuracy\n"
   ]
  },
  {
   "cell_type": "code",
   "execution_count": null,
   "id": "fdcebf20",
   "metadata": {
    "execution": {
     "iopub.execute_input": "2023-08-28T18:42:14.524343Z",
     "iopub.status.busy": "2023-08-28T18:42:14.524006Z",
     "iopub.status.idle": "2023-08-28T18:42:21.531634Z",
     "shell.execute_reply": "2023-08-28T18:42:21.530679Z"
    },
    "papermill": {
     "duration": 7.045326,
     "end_time": "2023-08-28T18:42:21.533713",
     "exception": false,
     "start_time": "2023-08-28T18:42:14.488387",
     "status": "completed"
    },
    "tags": []
   },
   "outputs": [],
   "source": [
    "test(model, val_loader)"
   ]
  },
  {
   "cell_type": "code",
   "execution_count": null,
   "id": "568fec25",
   "metadata": {
    "execution": {
     "iopub.execute_input": "2023-08-28T18:42:21.606013Z",
     "iopub.status.busy": "2023-08-28T18:42:21.605047Z",
     "iopub.status.idle": "2023-08-28T18:42:35.453904Z",
     "shell.execute_reply": "2023-08-28T18:42:35.452492Z"
    },
    "papermill": {
     "duration": 13.886727,
     "end_time": "2023-08-28T18:42:35.455350",
     "exception": true,
     "start_time": "2023-08-28T18:42:21.568623",
     "status": "failed"
    },
    "tags": []
   },
   "outputs": [],
   "source": [
    "# Set the model to evaluation mode\n",
    "model.eval()\n",
    "\n",
    "# Make predictions on the test images\n",
    "predictions = []\n",
    "test_image_fileNames = []\n",
    "\n",
    "# Loop over test data.\n",
    "for image, label in test_loader:\n",
    "    # Move data to the device.\n",
    "    image = image.to(device)\n",
    "    \n",
    "    # Perform the prediction on the batch of images\n",
    "    with torch.no_grad():\n",
    "        output = model(image)\n",
    "        _, predicted = torch.max(output.data, 1)\n",
    "        \n",
    "    # Convert the predicted labels to class names\n",
    "    predicted_classes = [train_dataset.classes[p.item()] for p in predicted]\n",
    "    \n",
    "    # Append the predicted classes and image names to the lists\n",
    "    predictions.extend(predicted_classes)\n",
    "    test_image_fileNames.extend(label)\n",
    "\n",
    "# Print the predictions for each image\n",
    "for image_name, prediction in zip(test_image_fileNames, predictions):\n",
    "    print(f\"Image: {image_name}, Predicted Class: {prediction}\")"
   ]
  },
  {
   "cell_type": "code",
   "execution_count": null,
   "id": "d73810d1",
   "metadata": {
    "papermill": {
     "duration": null,
     "end_time": null,
     "exception": null,
     "start_time": null,
     "status": "pending"
    },
    "tags": []
   },
   "outputs": [],
   "source": []
  }
 ],
 "metadata": {
  "kernelspec": {
   "display_name": "Python 3 (ipykernel)",
   "language": "python",
   "name": "python3"
  },
  "language_info": {
   "codemirror_mode": {
    "name": "ipython",
    "version": 3
   },
   "file_extension": ".py",
   "mimetype": "text/x-python",
   "name": "python",
   "nbconvert_exporter": "python",
   "pygments_lexer": "ipython3",
   "version": "3.10.14"
  },
  "papermill": {
   "default_parameters": {},
   "duration": 1210.211919,
   "end_time": "2023-08-28T18:42:37.920131",
   "environment_variables": {},
   "exception": true,
   "input_path": "__notebook__.ipynb",
   "output_path": "__notebook__.ipynb",
   "parameters": {},
   "start_time": "2023-08-28T18:22:27.708212",
   "version": "2.4.0"
  }
 },
 "nbformat": 4,
 "nbformat_minor": 5
}
