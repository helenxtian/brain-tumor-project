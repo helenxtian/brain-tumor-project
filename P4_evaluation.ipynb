{
 "cells": [
  {
   "cell_type": "code",
   "execution_count": 1,
   "id": "9083833b-9a4c-4486-a619-33f9d775490b",
   "metadata": {},
   "outputs": [],
   "source": [
    "# import all necessary libraries\n",
    "import glob, warnings, random, os\n",
    "import pandas as pd\n",
    "import numpy as np\n",
    "import matplotlib.pyplot as plt\n",
    "import seaborn as sns\n",
    "\n",
    "import torch\n",
    "import torchvision\n",
    "import torch.nn as nn\n",
    "import torch.optim as optim\n",
    "import torch.nn.functional as F\n",
    "import torchvision.transforms as transforms\n",
    "import torch.optim.lr_scheduler as lr_scheduler\n",
    "from torch.utils.data import Dataset, DataLoader\n",
    "from torchvision.models import VGG19_Weights, EfficientNet_V2_L_Weights\n",
    "\n",
    "from PIL import Image\n",
    "from typing import Dict, List, Tuple\n",
    "from tqdm.notebook import tqdm\n",
    "from sklearn.model_selection import train_test_split\n",
    "from sklearn.metrics import (\n",
    "    accuracy_score, precision_recall_fscore_support, roc_auc_score,\n",
    "    confusion_matrix, ConfusionMatrixDisplay\n",
    ")\n",
    "from datasets_supervised import BrainTumorMRIDataset"
   ]
  },
  {
   "cell_type": "code",
   "execution_count": 2,
   "id": "6df1ba66-f0d0-4085-a460-3f47a864fd4f",
   "metadata": {},
   "outputs": [],
   "source": [
    "warnings.filterwarnings(\"ignore\")"
   ]
  },
  {
   "cell_type": "code",
   "execution_count": 3,
   "id": "9eeee119-7623-4662-bb5f-97dbf9ef3e65",
   "metadata": {},
   "outputs": [],
   "source": [
    "class CFG:\n",
    "    DEVICE = 'cuda' if torch.cuda.is_available() else 'cpu'\n",
    "    NUM_DEVICES = torch.cuda.device_count()\n",
    "    NUM_WORKERS = os.cpu_count()\n",
    "    NUM_CLASSES = 4\n",
    "    EPOCHS = 16\n",
    "    BATCH_SIZE = (\n",
    "        32 if torch.cuda.device_count() < 2 \n",
    "        else (32 * torch.cuda.device_count())\n",
    "    )\n",
    "    LR = 0.001\n",
    "    APPLY_SHUFFLE = True\n",
    "    SEED = 768\n",
    "    HEIGHT = 224\n",
    "    WIDTH = 224\n",
    "    CHANNELS = 3\n",
    "    IMAGE_SIZE = (224, 224, 3)\n",
    "    \n",
    "    # Define paths\n",
    "    DATASET_PATH = './data/original/'\n",
    "    TRAIN_PATH = './data/original//Training/'\n",
    "    TEST_PATH = './data/original/Testing/'"
   ]
  },
  {
   "cell_type": "code",
   "execution_count": 4,
   "id": "4951ee48-9889-4aad-8254-a6a9393c9628",
   "metadata": {},
   "outputs": [],
   "source": [
    "train_images = glob.glob(f\"{CFG.TRAIN_PATH}**/*.jpg\")\n",
    "test_images = glob.glob(f\"{CFG.TEST_PATH}**/*.jpg\")"
   ]
  },
  {
   "cell_type": "code",
   "execution_count": 5,
   "id": "fa91878c-d788-4bab-ba31-0efd4c889d75",
   "metadata": {},
   "outputs": [],
   "source": [
    "def generate_labels(image_paths):\n",
    "    return [(_.split('/')[-2:][0]).replace('-', '_') for _ in image_paths]\n",
    "\n",
    "def build_df(image_paths, labels):\n",
    "    df = pd.DataFrame({'image_path': image_paths, 'label': generate_labels(labels)})\n",
    "    return df\n",
    "\n",
    "def _load(image_path, as_tensor=True, target_size=(224,224)):\n",
    "    image = Image.open(image_path)\n",
    "    image = image.resize(target_size)\n",
    "    image = image.convert('RGB')\n",
    "    if as_tensor:\n",
    "        converter = transforms.Compose([transforms.ToTensor(), transforms.Grayscale()])\n",
    "        return converter(image)\n",
    "    else:\n",
    "        return image"
   ]
  },
  {
   "cell_type": "code",
   "execution_count": 6,
   "id": "8d2ca01e-b367-4ca5-8b1c-849aafae92a2",
   "metadata": {},
   "outputs": [],
   "source": [
    "train_df = build_df(train_images, generate_labels(train_images))\n",
    "test_df = build_df(test_images, generate_labels(test_images))"
   ]
  },
  {
   "cell_type": "code",
   "execution_count": 7,
   "id": "cc952933-3b77-4da4-b13b-ec62cf961a09",
   "metadata": {},
   "outputs": [],
   "source": [
    "train_df_sample = train_df.sample(frac=0.30, random_state=42).reset_index(drop=True)\n",
    "train_split_idx, val_split_idx, _, _ = (train_test_split(\n",
    "    train_df_sample.index,\n",
    "    train_df_sample.label,\n",
    "    test_size=0.20, \n",
    "    stratify=train_df_sample.label,\n",
    "    random_state=CFG.SEED))"
   ]
  },
  {
   "cell_type": "code",
   "execution_count": 8,
   "id": "ce675ee1-ce57-4098-9430-1bb1be114c38",
   "metadata": {},
   "outputs": [
    {
     "data": {
      "text/plain": [
       "((1371, 2), (343, 2))"
      ]
     },
     "execution_count": 8,
     "metadata": {},
     "output_type": "execute_result"
    }
   ],
   "source": [
    "train_new_df = train_df_sample.iloc[train_split_idx].reset_index(drop=True)\n",
    "val_df = train_df_sample.iloc[val_split_idx].reset_index(drop=True)\n",
    "train_new_df.shape, val_df.shape"
   ]
  },
  {
   "cell_type": "code",
   "execution_count": 9,
   "id": "8ddb3af3-a293-4a54-86eb-2115b87367df",
   "metadata": {},
   "outputs": [
    {
     "data": {
      "text/html": [
       "<div>\n",
       "<style scoped>\n",
       "    .dataframe tbody tr th:only-of-type {\n",
       "        vertical-align: middle;\n",
       "    }\n",
       "\n",
       "    .dataframe tbody tr th {\n",
       "        vertical-align: top;\n",
       "    }\n",
       "\n",
       "    .dataframe thead th {\n",
       "        text-align: right;\n",
       "    }\n",
       "</style>\n",
       "<table border=\"1\" class=\"dataframe\">\n",
       "  <thead>\n",
       "    <tr style=\"text-align: right;\">\n",
       "      <th></th>\n",
       "      <th>image_path</th>\n",
       "      <th>label</th>\n",
       "    </tr>\n",
       "  </thead>\n",
       "  <tbody>\n",
       "    <tr>\n",
       "      <th>0</th>\n",
       "      <td>./data/original//Training/notumor/Tr-no_1020.jpg</td>\n",
       "      <td>notumor</td>\n",
       "    </tr>\n",
       "    <tr>\n",
       "      <th>1</th>\n",
       "      <td>./data/original//Training/notumor/Tr-no_0146.jpg</td>\n",
       "      <td>notumor</td>\n",
       "    </tr>\n",
       "    <tr>\n",
       "      <th>2</th>\n",
       "      <td>./data/original//Training/meningioma/Tr-me_001...</td>\n",
       "      <td>meningioma</td>\n",
       "    </tr>\n",
       "    <tr>\n",
       "      <th>3</th>\n",
       "      <td>./data/original//Training/glioma/Tr-gl_1239.jpg</td>\n",
       "      <td>glioma</td>\n",
       "    </tr>\n",
       "    <tr>\n",
       "      <th>4</th>\n",
       "      <td>./data/original//Training/notumor/Tr-no_1415.jpg</td>\n",
       "      <td>notumor</td>\n",
       "    </tr>\n",
       "    <tr>\n",
       "      <th>...</th>\n",
       "      <td>...</td>\n",
       "      <td>...</td>\n",
       "    </tr>\n",
       "    <tr>\n",
       "      <th>1366</th>\n",
       "      <td>./data/original//Training/glioma/Tr-gl_0897.jpg</td>\n",
       "      <td>glioma</td>\n",
       "    </tr>\n",
       "    <tr>\n",
       "      <th>1367</th>\n",
       "      <td>./data/original//Training/meningioma/Tr-me_028...</td>\n",
       "      <td>meningioma</td>\n",
       "    </tr>\n",
       "    <tr>\n",
       "      <th>1368</th>\n",
       "      <td>./data/original//Training/notumor/Tr-no_0649.jpg</td>\n",
       "      <td>notumor</td>\n",
       "    </tr>\n",
       "    <tr>\n",
       "      <th>1369</th>\n",
       "      <td>./data/original//Training/notumor/Tr-no_1304.jpg</td>\n",
       "      <td>notumor</td>\n",
       "    </tr>\n",
       "    <tr>\n",
       "      <th>1370</th>\n",
       "      <td>./data/original//Training/notumor/Tr-no_0168.jpg</td>\n",
       "      <td>notumor</td>\n",
       "    </tr>\n",
       "  </tbody>\n",
       "</table>\n",
       "<p>1371 rows × 2 columns</p>\n",
       "</div>"
      ],
      "text/plain": [
       "                                             image_path       label\n",
       "0      ./data/original//Training/notumor/Tr-no_1020.jpg     notumor\n",
       "1      ./data/original//Training/notumor/Tr-no_0146.jpg     notumor\n",
       "2     ./data/original//Training/meningioma/Tr-me_001...  meningioma\n",
       "3       ./data/original//Training/glioma/Tr-gl_1239.jpg      glioma\n",
       "4      ./data/original//Training/notumor/Tr-no_1415.jpg     notumor\n",
       "...                                                 ...         ...\n",
       "1366    ./data/original//Training/glioma/Tr-gl_0897.jpg      glioma\n",
       "1367  ./data/original//Training/meningioma/Tr-me_028...  meningioma\n",
       "1368   ./data/original//Training/notumor/Tr-no_0649.jpg     notumor\n",
       "1369   ./data/original//Training/notumor/Tr-no_1304.jpg     notumor\n",
       "1370   ./data/original//Training/notumor/Tr-no_0168.jpg     notumor\n",
       "\n",
       "[1371 rows x 2 columns]"
      ]
     },
     "execution_count": 9,
     "metadata": {},
     "output_type": "execute_result"
    }
   ],
   "source": [
    "train_new_df"
   ]
  },
  {
   "cell_type": "code",
   "execution_count": 10,
   "id": "762397ce-c734-498c-9ff6-9f1705adb931",
   "metadata": {},
   "outputs": [
    {
     "name": "stdout",
     "output_type": "stream",
     "text": [
      "train samples count:\t\t1371\t(79.99%)\n",
      "validation samples count:\t343\t(20.01%)\n",
      "================================================\n",
      "TOTAL:\t\t\t\t1714\t(100.00%)\n",
      "\n",
      "INDEPENDENT test samples count:\t\t1311\t\n"
     ]
    }
   ],
   "source": [
    "train_size = len(train_new_df)\n",
    "val_size = len(val_df)\n",
    "test_size = len(test_df)\n",
    "total = train_size + val_size\n",
    "\n",
    "# View the counts\n",
    "print(f'train samples count:\\t\\t{train_size}\\t({(100 * train_size/total):.2f}%)')\n",
    "print(f'validation samples count:\\t{val_size}\\t({(100 * val_size/total):.2f}%)')\n",
    "print('================================================')\n",
    "print(f'TOTAL:\\t\\t\\t\\t{total}\\t({(100 * total/total):.2f}%)')\n",
    "\n",
    "print('')\n",
    "print(f'INDEPENDENT test samples count:\\t\\t{test_size}\\t')"
   ]
  },
  {
   "cell_type": "code",
   "execution_count": 11,
   "id": "825232ad-7f74-4efa-ad76-69022440982b",
   "metadata": {},
   "outputs": [],
   "source": [
    "train_transforms = transforms.Compose([\n",
    "    transforms.Resize((CFG.HEIGHT, CFG.WIDTH)),\n",
    "    transforms.Grayscale(num_output_channels=3),\n",
    "    transforms.RandomHorizontalFlip(p=0.5),\n",
    "    transforms.RandomVerticalFlip(p=0.5),\n",
    "    transforms.ToTensor()\n",
    "])\n",
    "test_transforms = transforms.Compose([\n",
    "    transforms.Resize((CFG.HEIGHT, CFG.WIDTH)),\n",
    "    transforms.Grayscale(num_output_channels=3),\n",
    "    transforms.ToTensor()\n",
    "])\n",
    "idx = random.sample(train_df_sample.index.to_list(), 1)[0]\n",
    "aug_image = _load(train_df_sample.image_path[idx], as_tensor=False)"
   ]
  },
  {
   "cell_type": "code",
   "execution_count": 12,
   "id": "845cb852-ff1b-4321-a77d-d1ed59f933db",
   "metadata": {},
   "outputs": [],
   "source": [
    "# Create datasets and dataloaders\n",
    "train_ds = BrainTumorMRIDataset(train_new_df, transform=train_transforms)\n",
    "val_ds = BrainTumorMRIDataset(val_df, transform=test_transforms)\n",
    "test_ds = BrainTumorMRIDataset(test_df, transform=test_transforms)"
   ]
  },
  {
   "cell_type": "code",
   "execution_count": 22,
   "id": "0ab9d2d0-039a-4dc9-8e70-fa21c66b3571",
   "metadata": {},
   "outputs": [],
   "source": [
    "train_loader = DataLoader(\n",
    "    dataset=train_ds, \n",
    "    batch_size=CFG.BATCH_SIZE,\n",
    "    num_workers=CFG.NUM_WORKERS,\n",
    "    shuffle=CFG.APPLY_SHUFFLE,\n",
    ")\n",
    "val_loader = DataLoader(\n",
    "    dataset=val_ds,\n",
    "    batch_size=CFG.BATCH_SIZE,\n",
    "    num_workers=CFG.NUM_WORKERS,\n",
    "    shuffle=False\n",
    ")\n",
    "test_loader = DataLoader(\n",
    "    dataset=test_ds,\n",
    "    batch_size=CFG.BATCH_SIZE,\n",
    "    num_workers=CFG.NUM_WORKERS,\n",
    "    shuffle=False\n",
    ")"
   ]
  },
  {
   "cell_type": "markdown",
   "id": "41610479-2a74-4158-b163-34d2e85f5ac6",
   "metadata": {},
   "source": [
    "## Defining and Training the EfficientNetV2 Model"
   ]
  },
  {
   "cell_type": "code",
   "execution_count": 14,
   "id": "03ed3032-cd93-4940-bfac-de90cad258fe",
   "metadata": {},
   "outputs": [],
   "source": [
    "class EfficientNetV2Model(nn.Module):\n",
    "    def __init__(self, backbone_model, name='efficientnet-v2-large', \n",
    "                 num_classes=CFG.NUM_CLASSES, device=CFG.DEVICE):\n",
    "        super(EfficientNetV2Model, self).__init__()\n",
    "        \n",
    "        self.backbone_model = backbone_model\n",
    "        self.device = device\n",
    "        self.num_classes = num_classes\n",
    "        self.name = name\n",
    "        \n",
    "        classifier = nn.Sequential(\n",
    "            nn.Flatten(),\n",
    "            nn.Dropout(p=0.2, inplace=True), \n",
    "            nn.Linear(in_features=1280, out_features=256, bias=True),\n",
    "            nn.GELU(),\n",
    "            nn.Dropout(p=0.2, inplace=True),\n",
    "            nn.Linear(in_features=256, out_features=num_classes, bias=False)\n",
    "        ).to(device)\n",
    "        \n",
    "        self._set_classifier(classifier)\n",
    "        \n",
    "    def _set_classifier(self, classifier:nn.Module) -> None:\n",
    "        self.backbone_model.classifier = classifier\n",
    "    \n",
    "    def forward(self, image):\n",
    "        return self.backbone_model(image)"
   ]
  },
  {
   "cell_type": "code",
   "execution_count": 15,
   "id": "2d0fb912-75be-4d6c-9647-62ed03219973",
   "metadata": {},
   "outputs": [],
   "source": [
    "def get_efficientnetv2_model(\n",
    "    device: torch.device=CFG.NUM_CLASSES) -> nn.Module:\n",
    "    torch.manual_seed(CFG.SEED)\n",
    "    torch.cuda.manual_seed(CFG.SEED)\n",
    "    model_weights = (\n",
    "        torchvision\n",
    "        .models\n",
    "        .EfficientNet_V2_L_Weights\n",
    "        .DEFAULT)\n",
    "    model = (torchvision.models.efficientnet_v2_l(weights=model_weights)).to(device) \n",
    "    for param in model.features.parameters():\n",
    "        param.requires_grad = False \n",
    "    return model"
   ]
  },
  {
   "cell_type": "code",
   "execution_count": 16,
   "id": "e0c2b70d-9d1c-4c4e-a0e2-10a9ce34835b",
   "metadata": {},
   "outputs": [],
   "source": [
    "backbone_model = get_efficientnetv2_model(CFG.DEVICE)\n",
    "efficientnetv2_params = {\n",
    "    'backbone_model'    : backbone_model,\n",
    "    'name'              : 'efficientnet-v2-large',\n",
    "    'device'            : CFG.DEVICE}\n",
    "efficientnet_model = EfficientNetV2Model(**efficientnetv2_params)"
   ]
  },
  {
   "cell_type": "code",
   "execution_count": 17,
   "id": "f2728727-98e4-467b-9a17-f26b1125e720",
   "metadata": {},
   "outputs": [],
   "source": [
    "loss_fn = nn.CrossEntropyLoss(label_smoothing=0.1)\n",
    "optimizer = torch.optim.AdamW(efficientnet_model.parameters(), lr=CFG.LR)"
   ]
  },
  {
   "cell_type": "code",
   "execution_count": 18,
   "id": "a57fa110-f1d4-4c86-a370-7d1e7cf9b500",
   "metadata": {},
   "outputs": [],
   "source": [
    "def execute_epoch(\n",
    "    model:torch.nn.Module,\n",
    "    dataloader:torch.utils.data.DataLoader,\n",
    "    optimizer:torch.optim.Optimizer,\n",
    "    loss_fn:torch.nn.Module,\n",
    "    device:torch.device) -> Tuple[float, float]:\n",
    "    \n",
    "    model.train()\n",
    "    train_loss, train_acc = 0, 0\n",
    "    for batch, (X, y) in enumerate(tqdm(dataloader)):\n",
    "        X, y = X.to(device), y.to(device)\n",
    "        y_pred = model(X)\n",
    "        loss = loss_fn(y_pred, y)\n",
    "        train_loss += loss.item() \n",
    "        \n",
    "        # Gradients & Backpropagate Loss\n",
    "        optimizer.zero_grad()\n",
    "        loss.backward()\n",
    "        optimizer.step()\n",
    "        \n",
    "        # Compute Batch Metrics\n",
    "        predicted_class = torch.argmax(torch.softmax(y_pred, dim=1), dim=1)\n",
    "        train_acc += (predicted_class == y).sum().item() / len(y_pred)\n",
    "        \n",
    "    # Compute Step Metrics\n",
    "    train_loss = train_loss / len(dataloader)\n",
    "    train_acc = train_acc / len(dataloader)\n",
    "    \n",
    "    return train_loss, train_acc"
   ]
  },
  {
   "cell_type": "code",
   "execution_count": 19,
   "id": "4d90a8c0-08a3-434a-bafd-adad52a94c5d",
   "metadata": {},
   "outputs": [],
   "source": [
    "def evaluate(\n",
    "    model:torch.nn.Module,\n",
    "    dataloader:torch.utils.data.DataLoader,\n",
    "    loss_fn:torch.nn.Module,\n",
    "    device:torch.device) -> Tuple[float, float]:\n",
    "    \n",
    "    model.eval()\n",
    "    eval_loss, eval_acc = 0, 0\n",
    "    with torch.inference_mode():\n",
    "        for batch, (X, y) in enumerate(dataloader):\n",
    "            X, y = X.to(device), y.to(device)\n",
    "            y_pred = model(X)\n",
    "            loss = loss_fn(y_pred, y)\n",
    "            eval_loss += loss.item()\n",
    "            predicted_class = torch.argmax(torch.softmax(y_pred, dim=1), dim=1)\n",
    "            eval_acc += (predicted_class == y).sum().item() / len(y_pred)\n",
    "\n",
    "    eval_loss = eval_loss / len(dataloader)\n",
    "    eval_acc = eval_acc / len(dataloader)\n",
    "    return eval_loss, eval_acc"
   ]
  },
  {
   "cell_type": "code",
   "execution_count": 20,
   "id": "c6ed8161-65cd-45b6-b63f-166481adbc92",
   "metadata": {},
   "outputs": [],
   "source": [
    "def train(\n",
    "    model:torch.nn.Module,\n",
    "    train_dataloader:torch.utils.data.DataLoader,\n",
    "    eval_dataloader:torch.utils.data.DataLoader,\n",
    "    optimizer:torch.optim.Optimizer,\n",
    "    loss_fn:torch.nn.Module,\n",
    "    epochs:int,\n",
    "    device:torch.device) -> Dict[str, List]:\n",
    "    \n",
    "    session = {\n",
    "        'loss'          : [],\n",
    "        'accuracy'      : [],\n",
    "        'eval_loss'     : [],\n",
    "        'eval_accuaracy': []}\n",
    "    \n",
    "    for epoch in tqdm(range(epochs)):\n",
    "        print(f'\\nEpoch {epoch + 1}/{epochs}')\n",
    "        train_loss, train_acc = execute_epoch(\n",
    "            model, \n",
    "            train_dataloader, \n",
    "            optimizer, \n",
    "            loss_fn, \n",
    "            device)\n",
    "        eval_loss, eval_acc = evaluate(\n",
    "            model, \n",
    "            eval_dataloader,\n",
    "            loss_fn, \n",
    "            device)\n",
    "        print(f'loss: {train_loss:.4f} - acc: {train_acc:.4f} - eval_loss: {eval_loss:.4f} - eval_acc: {eval_acc:.4f}')\n",
    "        session['loss'].append(train_loss)\n",
    "        session['accuracy'].append(train_acc)\n",
    "        session['eval_loss'].append(eval_loss)\n",
    "        session['eval_accuaracy'].append(eval_acc)\n",
    "    return session"
   ]
  },
  {
   "cell_type": "code",
   "execution_count": 23,
   "id": "adc82640-e62b-424d-af9e-b4a7efda60a0",
   "metadata": {},
   "outputs": [
    {
     "name": "stdout",
     "output_type": "stream",
     "text": [
      "Training EfficientNet Model\n",
      "Train on 1371 samples, validate on 343 samples.\n",
      "----------------------------------\n"
     ]
    },
    {
     "data": {
      "application/vnd.jupyter.widget-view+json": {
       "model_id": "722b00df7af34d6cbaf2a87b62f81b9d",
       "version_major": 2,
       "version_minor": 0
      },
      "text/plain": [
       "  0%|          | 0/16 [00:00<?, ?it/s]"
      ]
     },
     "metadata": {},
     "output_type": "display_data"
    },
    {
     "name": "stdout",
     "output_type": "stream",
     "text": [
      "\n",
      "Epoch 1/16\n"
     ]
    },
    {
     "data": {
      "application/vnd.jupyter.widget-view+json": {
       "model_id": "245ae7a82b61468c860801f37652c6a7",
       "version_major": 2,
       "version_minor": 0
      },
      "text/plain": [
       "  0%|          | 0/43 [00:00<?, ?it/s]"
      ]
     },
     "metadata": {},
     "output_type": "display_data"
    },
    {
     "name": "stdout",
     "output_type": "stream",
     "text": [
      "loss: 0.8807 - acc: 0.7162 - eval_loss: 0.7089 - eval_acc: 0.8387\n",
      "\n",
      "Epoch 2/16\n"
     ]
    },
    {
     "data": {
      "application/vnd.jupyter.widget-view+json": {
       "model_id": "e55697a18a4d4db1b4cea2879794292e",
       "version_major": 2,
       "version_minor": 0
      },
      "text/plain": [
       "  0%|          | 0/43 [00:00<?, ?it/s]"
      ]
     },
     "metadata": {},
     "output_type": "display_data"
    },
    {
     "name": "stdout",
     "output_type": "stream",
     "text": [
      "loss: 0.6796 - acc: 0.8389 - eval_loss: 0.6289 - eval_acc: 0.8773\n",
      "\n",
      "Epoch 3/16\n"
     ]
    },
    {
     "data": {
      "application/vnd.jupyter.widget-view+json": {
       "model_id": "80a1e914d0274be094db006a7d2f43fb",
       "version_major": 2,
       "version_minor": 0
      },
      "text/plain": [
       "  0%|          | 0/43 [00:00<?, ?it/s]"
      ]
     },
     "metadata": {},
     "output_type": "display_data"
    },
    {
     "name": "stdout",
     "output_type": "stream",
     "text": [
      "loss: 0.6638 - acc: 0.8651 - eval_loss: 0.6245 - eval_acc: 0.8773\n",
      "\n",
      "Epoch 4/16\n"
     ]
    },
    {
     "data": {
      "application/vnd.jupyter.widget-view+json": {
       "model_id": "0d6dcf7bb8bb4d72bd9208a8445c4d7e",
       "version_major": 2,
       "version_minor": 0
      },
      "text/plain": [
       "  0%|          | 0/43 [00:00<?, ?it/s]"
      ]
     },
     "metadata": {},
     "output_type": "display_data"
    },
    {
     "name": "stdout",
     "output_type": "stream",
     "text": [
      "loss: 0.6385 - acc: 0.8726 - eval_loss: 0.6018 - eval_acc: 0.8887\n",
      "\n",
      "Epoch 5/16\n"
     ]
    },
    {
     "data": {
      "application/vnd.jupyter.widget-view+json": {
       "model_id": "049b411bf23b4e80a43f05f4a98d397f",
       "version_major": 2,
       "version_minor": 0
      },
      "text/plain": [
       "  0%|          | 0/43 [00:00<?, ?it/s]"
      ]
     },
     "metadata": {},
     "output_type": "display_data"
    },
    {
     "name": "stdout",
     "output_type": "stream",
     "text": [
      "loss: 0.6237 - acc: 0.8665 - eval_loss: 0.6059 - eval_acc: 0.8983\n",
      "\n",
      "Epoch 6/16\n"
     ]
    },
    {
     "data": {
      "application/vnd.jupyter.widget-view+json": {
       "model_id": "10709e26727a46919295082681a1f9d7",
       "version_major": 2,
       "version_minor": 0
      },
      "text/plain": [
       "  0%|          | 0/43 [00:00<?, ?it/s]"
      ]
     },
     "metadata": {},
     "output_type": "display_data"
    },
    {
     "name": "stdout",
     "output_type": "stream",
     "text": [
      "loss: 0.6053 - acc: 0.8865 - eval_loss: 0.5839 - eval_acc: 0.9012\n",
      "\n",
      "Epoch 7/16\n"
     ]
    },
    {
     "data": {
      "application/vnd.jupyter.widget-view+json": {
       "model_id": "2613453b428d45568d4d4d976d760218",
       "version_major": 2,
       "version_minor": 0
      },
      "text/plain": [
       "  0%|          | 0/43 [00:00<?, ?it/s]"
      ]
     },
     "metadata": {},
     "output_type": "display_data"
    },
    {
     "name": "stdout",
     "output_type": "stream",
     "text": [
      "loss: 0.6352 - acc: 0.8660 - eval_loss: 0.5769 - eval_acc: 0.8955\n",
      "\n",
      "Epoch 8/16\n"
     ]
    },
    {
     "data": {
      "application/vnd.jupyter.widget-view+json": {
       "model_id": "109bd970908546b2af1468211e77f8eb",
       "version_major": 2,
       "version_minor": 0
      },
      "text/plain": [
       "  0%|          | 0/43 [00:00<?, ?it/s]"
      ]
     },
     "metadata": {},
     "output_type": "display_data"
    },
    {
     "name": "stdout",
     "output_type": "stream",
     "text": [
      "loss: 0.6210 - acc: 0.8742 - eval_loss: 0.5830 - eval_acc: 0.8916\n",
      "\n",
      "Epoch 9/16\n"
     ]
    },
    {
     "data": {
      "application/vnd.jupyter.widget-view+json": {
       "model_id": "f4ba03a7f53040c898d6ff73ef257be8",
       "version_major": 2,
       "version_minor": 0
      },
      "text/plain": [
       "  0%|          | 0/43 [00:00<?, ?it/s]"
      ]
     },
     "metadata": {},
     "output_type": "display_data"
    },
    {
     "name": "stdout",
     "output_type": "stream",
     "text": [
      "loss: 0.6029 - acc: 0.8890 - eval_loss: 0.5665 - eval_acc: 0.8933\n",
      "\n",
      "Epoch 10/16\n"
     ]
    },
    {
     "data": {
      "application/vnd.jupyter.widget-view+json": {
       "model_id": "3a941f762e894de1aae8fc4e3563b9c6",
       "version_major": 2,
       "version_minor": 0
      },
      "text/plain": [
       "  0%|          | 0/43 [00:00<?, ?it/s]"
      ]
     },
     "metadata": {},
     "output_type": "display_data"
    },
    {
     "name": "stdout",
     "output_type": "stream",
     "text": [
      "loss: 0.5846 - acc: 0.8958 - eval_loss: 0.5587 - eval_acc: 0.9069\n",
      "\n",
      "Epoch 11/16\n"
     ]
    },
    {
     "data": {
      "application/vnd.jupyter.widget-view+json": {
       "model_id": "5fcb2f7ca3f642039b9006efc69455e5",
       "version_major": 2,
       "version_minor": 0
      },
      "text/plain": [
       "  0%|          | 0/43 [00:00<?, ?it/s]"
      ]
     },
     "metadata": {},
     "output_type": "display_data"
    },
    {
     "name": "stdout",
     "output_type": "stream",
     "text": [
      "loss: 0.5751 - acc: 0.9039 - eval_loss: 0.5593 - eval_acc: 0.8983\n",
      "\n",
      "Epoch 12/16\n"
     ]
    },
    {
     "data": {
      "application/vnd.jupyter.widget-view+json": {
       "model_id": "0db73c336b5d43aaa650ace1d3049abe",
       "version_major": 2,
       "version_minor": 0
      },
      "text/plain": [
       "  0%|          | 0/43 [00:00<?, ?it/s]"
      ]
     },
     "metadata": {},
     "output_type": "display_data"
    },
    {
     "name": "stdout",
     "output_type": "stream",
     "text": [
      "loss: 0.5636 - acc: 0.9118 - eval_loss: 0.5695 - eval_acc: 0.8933\n",
      "\n",
      "Epoch 13/16\n"
     ]
    },
    {
     "data": {
      "application/vnd.jupyter.widget-view+json": {
       "model_id": "0067f79631b242e3926d1ba23a346015",
       "version_major": 2,
       "version_minor": 0
      },
      "text/plain": [
       "  0%|          | 0/43 [00:00<?, ?it/s]"
      ]
     },
     "metadata": {},
     "output_type": "display_data"
    },
    {
     "name": "stdout",
     "output_type": "stream",
     "text": [
      "loss: 0.5602 - acc: 0.9112 - eval_loss: 0.5542 - eval_acc: 0.9001\n",
      "\n",
      "Epoch 14/16\n"
     ]
    },
    {
     "data": {
      "application/vnd.jupyter.widget-view+json": {
       "model_id": "5456ce8e5b224be788f3c8b7d5af24eb",
       "version_major": 2,
       "version_minor": 0
      },
      "text/plain": [
       "  0%|          | 0/43 [00:00<?, ?it/s]"
      ]
     },
     "metadata": {},
     "output_type": "display_data"
    },
    {
     "name": "stdout",
     "output_type": "stream",
     "text": [
      "loss: 0.5738 - acc: 0.9015 - eval_loss: 0.5763 - eval_acc: 0.8944\n",
      "\n",
      "Epoch 15/16\n"
     ]
    },
    {
     "data": {
      "application/vnd.jupyter.widget-view+json": {
       "model_id": "715a2d59c9ca4a63a638704bef9010c9",
       "version_major": 2,
       "version_minor": 0
      },
      "text/plain": [
       "  0%|          | 0/43 [00:00<?, ?it/s]"
      ]
     },
     "metadata": {},
     "output_type": "display_data"
    },
    {
     "name": "stdout",
     "output_type": "stream",
     "text": [
      "loss: 0.5476 - acc: 0.9250 - eval_loss: 0.5733 - eval_acc: 0.8972\n",
      "\n",
      "Epoch 16/16\n"
     ]
    },
    {
     "data": {
      "application/vnd.jupyter.widget-view+json": {
       "model_id": "cd2ef468a88b44e68894602b438fe52f",
       "version_major": 2,
       "version_minor": 0
      },
      "text/plain": [
       "  0%|          | 0/43 [00:00<?, ?it/s]"
      ]
     },
     "metadata": {},
     "output_type": "display_data"
    },
    {
     "name": "stdout",
     "output_type": "stream",
     "text": [
      "loss: 0.5638 - acc: 0.9019 - eval_loss: 0.5403 - eval_acc: 0.9058\n"
     ]
    }
   ],
   "source": [
    "print('Training EfficientNet Model')\n",
    "print(f'Train on {len(train_new_df)} samples, validate on {len(val_df)} samples.')\n",
    "print('----------------------------------')\n",
    "efficientnet_session_config = {\n",
    "    'model'               : efficientnet_model,\n",
    "    'train_dataloader'    : train_loader,\n",
    "    'eval_dataloader'     : val_loader,\n",
    "    'optimizer'           : optimizer,\n",
    "    'loss_fn'             : loss_fn,\n",
    "    'epochs'              : CFG.EPOCHS,\n",
    "    'device'              : CFG.DEVICE\n",
    "}\n",
    "efficientnet_session_history = train(**efficientnet_session_config)"
   ]
  },
  {
   "cell_type": "code",
   "execution_count": null,
   "id": "239c6bdb-1ce6-4d70-abff-1d8c2b6603a3",
   "metadata": {},
   "outputs": [],
   "source": []
  }
 ],
 "metadata": {
  "kernelspec": {
   "display_name": "Python 3 (ipykernel)",
   "language": "python",
   "name": "python3"
  },
  "language_info": {
   "codemirror_mode": {
    "name": "ipython",
    "version": 3
   },
   "file_extension": ".py",
   "mimetype": "text/x-python",
   "name": "python",
   "nbconvert_exporter": "python",
   "pygments_lexer": "ipython3",
   "version": "3.8.10"
  }
 },
 "nbformat": 4,
 "nbformat_minor": 5
}
