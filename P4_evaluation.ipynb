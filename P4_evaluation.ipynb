{
 "cells": [
  {
   "cell_type": "code",
   "execution_count": 1,
   "id": "9083833b-9a4c-4486-a619-33f9d775490b",
   "metadata": {},
   "outputs": [],
   "source": [
    "# import all necessary libraries\n",
    "import glob, warnings, random, os\n",
    "import pandas as pd\n",
    "import numpy as np\n",
    "import matplotlib.pyplot as plt\n",
    "import seaborn as sns\n",
    "\n",
    "import torch\n",
    "import torchvision\n",
    "import torch.nn as nn\n",
    "import torch.optim as optim\n",
    "import torch.nn.functional as F\n",
    "import torchvision.transforms as transforms\n",
    "import torch.optim.lr_scheduler as lr_scheduler\n",
    "from torch.utils.data import Dataset, DataLoader, TensorDataset\n",
    "from torchvision.models import VGG19_Weights, EfficientNet_V2_L_Weights\n",
    "\n",
    "from PIL import Image\n",
    "from typing import Dict, List, Tuple\n",
    "from tqdm.notebook import tqdm\n",
    "from sklearn.model_selection import train_test_split\n",
    "from sklearn.metrics import (\n",
    "    accuracy_score, precision_recall_fscore_support, roc_auc_score,\n",
    "    confusion_matrix, ConfusionMatrixDisplay, classification_report\n",
    ")\n",
    "from datasets_supervised import BrainTumorMRIDataset"
   ]
  },
  {
   "cell_type": "code",
   "execution_count": 2,
   "id": "6df1ba66-f0d0-4085-a460-3f47a864fd4f",
   "metadata": {},
   "outputs": [],
   "source": [
    "warnings.filterwarnings(\"ignore\")"
   ]
  },
  {
   "cell_type": "code",
   "execution_count": 3,
   "id": "9eeee119-7623-4662-bb5f-97dbf9ef3e65",
   "metadata": {},
   "outputs": [],
   "source": [
    "class CFG:\n",
    "    DEVICE = 'cuda' if torch.cuda.is_available() else 'cpu'\n",
    "    NUM_DEVICES = torch.cuda.device_count()\n",
    "    NUM_WORKERS = os.cpu_count()\n",
    "    NUM_CLASSES = 4\n",
    "    EPOCHS = 16\n",
    "    BATCH_SIZE = (\n",
    "        32 if torch.cuda.device_count() < 2 \n",
    "        else (32 * torch.cuda.device_count())\n",
    "    )\n",
    "    LR = 0.001\n",
    "    APPLY_SHUFFLE = True\n",
    "    SEED = 768\n",
    "    HEIGHT = 224\n",
    "    WIDTH = 224\n",
    "    CHANNELS = 3\n",
    "    IMAGE_SIZE = (224, 224, 3)\n",
    "    \n",
    "    # Define paths\n",
    "    DATASET_PATH = './data/original/'\n",
    "    TRAIN_PATH = './data/original//Training/'\n",
    "    TEST_PATH = './data/original/Testing/'"
   ]
  },
  {
   "cell_type": "code",
   "execution_count": 4,
   "id": "4951ee48-9889-4aad-8254-a6a9393c9628",
   "metadata": {},
   "outputs": [],
   "source": [
    "train_images = glob.glob(f\"{CFG.TRAIN_PATH}**/*.jpg\")\n",
    "test_images = glob.glob(f\"{CFG.TEST_PATH}**/*.jpg\")"
   ]
  },
  {
   "cell_type": "code",
   "execution_count": 5,
   "id": "fa91878c-d788-4bab-ba31-0efd4c889d75",
   "metadata": {},
   "outputs": [],
   "source": [
    "def generate_labels(image_paths):\n",
    "    return [(_.split('/')[-2:][0]).replace('-', '_') for _ in image_paths]\n",
    "\n",
    "def build_df(image_paths, labels):\n",
    "    df = pd.DataFrame({'image_path': image_paths, 'label': generate_labels(labels)})\n",
    "    return df\n",
    "\n",
    "def _load(image_path, as_tensor=True, target_size=(224,224)):\n",
    "    image = Image.open(image_path)\n",
    "    image = image.resize(target_size)\n",
    "    image = image.convert('RGB')\n",
    "    if as_tensor:\n",
    "        converter = transforms.Compose([transforms.ToTensor(), transforms.Grayscale()])\n",
    "        return converter(image)\n",
    "    else:\n",
    "        return image"
   ]
  },
  {
   "cell_type": "code",
   "execution_count": 6,
   "id": "8d2ca01e-b367-4ca5-8b1c-849aafae92a2",
   "metadata": {},
   "outputs": [],
   "source": [
    "train_df = build_df(train_images, generate_labels(train_images))\n",
    "test_df = build_df(test_images, generate_labels(test_images))"
   ]
  },
  {
   "cell_type": "code",
   "execution_count": 7,
   "id": "cc952933-3b77-4da4-b13b-ec62cf961a09",
   "metadata": {},
   "outputs": [],
   "source": [
    "train_df_sample = train_df.sample(frac=0.10, random_state=42).reset_index(drop=True)\n",
    "train_split_idx, val_split_idx, _, _ = (train_test_split(\n",
    "    train_df_sample.index,\n",
    "    train_df_sample.label,\n",
    "    test_size=0.20, \n",
    "    stratify=train_df_sample.label,\n",
    "    random_state=CFG.SEED))"
   ]
  },
  {
   "cell_type": "code",
   "execution_count": 8,
   "id": "ce675ee1-ce57-4098-9430-1bb1be114c38",
   "metadata": {},
   "outputs": [
    {
     "data": {
      "text/plain": [
       "((456, 2), (115, 2))"
      ]
     },
     "execution_count": 8,
     "metadata": {},
     "output_type": "execute_result"
    }
   ],
   "source": [
    "train_new_df = train_df_sample.iloc[train_split_idx].reset_index(drop=True)\n",
    "val_df = train_df_sample.iloc[val_split_idx].reset_index(drop=True)\n",
    "train_new_df.shape, val_df.shape"
   ]
  },
  {
   "cell_type": "code",
   "execution_count": 9,
   "id": "8ddb3af3-a293-4a54-86eb-2115b87367df",
   "metadata": {},
   "outputs": [
    {
     "data": {
      "text/html": [
       "<div>\n",
       "<style scoped>\n",
       "    .dataframe tbody tr th:only-of-type {\n",
       "        vertical-align: middle;\n",
       "    }\n",
       "\n",
       "    .dataframe tbody tr th {\n",
       "        vertical-align: top;\n",
       "    }\n",
       "\n",
       "    .dataframe thead th {\n",
       "        text-align: right;\n",
       "    }\n",
       "</style>\n",
       "<table border=\"1\" class=\"dataframe\">\n",
       "  <thead>\n",
       "    <tr style=\"text-align: right;\">\n",
       "      <th></th>\n",
       "      <th>image_path</th>\n",
       "      <th>label</th>\n",
       "    </tr>\n",
       "  </thead>\n",
       "  <tbody>\n",
       "    <tr>\n",
       "      <th>0</th>\n",
       "      <td>./data/original//Training/pituitary/Tr-pi_1405...</td>\n",
       "      <td>pituitary</td>\n",
       "    </tr>\n",
       "    <tr>\n",
       "      <th>1</th>\n",
       "      <td>./data/original//Training/glioma/Tr-gl_0772.jpg</td>\n",
       "      <td>glioma</td>\n",
       "    </tr>\n",
       "    <tr>\n",
       "      <th>2</th>\n",
       "      <td>./data/original//Training/glioma/Tr-gl_1055.jpg</td>\n",
       "      <td>glioma</td>\n",
       "    </tr>\n",
       "    <tr>\n",
       "      <th>3</th>\n",
       "      <td>./data/original//Training/pituitary/Tr-pi_1305...</td>\n",
       "      <td>pituitary</td>\n",
       "    </tr>\n",
       "    <tr>\n",
       "      <th>4</th>\n",
       "      <td>./data/original//Training/notumor/Tr-no_0347.jpg</td>\n",
       "      <td>notumor</td>\n",
       "    </tr>\n",
       "    <tr>\n",
       "      <th>...</th>\n",
       "      <td>...</td>\n",
       "      <td>...</td>\n",
       "    </tr>\n",
       "    <tr>\n",
       "      <th>451</th>\n",
       "      <td>./data/original//Training/notumor/Tr-no_1319.jpg</td>\n",
       "      <td>notumor</td>\n",
       "    </tr>\n",
       "    <tr>\n",
       "      <th>452</th>\n",
       "      <td>./data/original//Training/pituitary/Tr-pi_0883...</td>\n",
       "      <td>pituitary</td>\n",
       "    </tr>\n",
       "    <tr>\n",
       "      <th>453</th>\n",
       "      <td>./data/original//Training/glioma/Tr-gl_1286.jpg</td>\n",
       "      <td>glioma</td>\n",
       "    </tr>\n",
       "    <tr>\n",
       "      <th>454</th>\n",
       "      <td>./data/original//Training/glioma/Tr-gl_0093.jpg</td>\n",
       "      <td>glioma</td>\n",
       "    </tr>\n",
       "    <tr>\n",
       "      <th>455</th>\n",
       "      <td>./data/original//Training/meningioma/Tr-me_035...</td>\n",
       "      <td>meningioma</td>\n",
       "    </tr>\n",
       "  </tbody>\n",
       "</table>\n",
       "<p>456 rows × 2 columns</p>\n",
       "</div>"
      ],
      "text/plain": [
       "                                            image_path       label\n",
       "0    ./data/original//Training/pituitary/Tr-pi_1405...   pituitary\n",
       "1      ./data/original//Training/glioma/Tr-gl_0772.jpg      glioma\n",
       "2      ./data/original//Training/glioma/Tr-gl_1055.jpg      glioma\n",
       "3    ./data/original//Training/pituitary/Tr-pi_1305...   pituitary\n",
       "4     ./data/original//Training/notumor/Tr-no_0347.jpg     notumor\n",
       "..                                                 ...         ...\n",
       "451   ./data/original//Training/notumor/Tr-no_1319.jpg     notumor\n",
       "452  ./data/original//Training/pituitary/Tr-pi_0883...   pituitary\n",
       "453    ./data/original//Training/glioma/Tr-gl_1286.jpg      glioma\n",
       "454    ./data/original//Training/glioma/Tr-gl_0093.jpg      glioma\n",
       "455  ./data/original//Training/meningioma/Tr-me_035...  meningioma\n",
       "\n",
       "[456 rows x 2 columns]"
      ]
     },
     "execution_count": 9,
     "metadata": {},
     "output_type": "execute_result"
    }
   ],
   "source": [
    "train_new_df"
   ]
  },
  {
   "cell_type": "code",
   "execution_count": 10,
   "id": "762397ce-c734-498c-9ff6-9f1705adb931",
   "metadata": {},
   "outputs": [
    {
     "name": "stdout",
     "output_type": "stream",
     "text": [
      "train samples count:\t\t456\t(79.86%)\n",
      "validation samples count:\t115\t(20.14%)\n",
      "================================================\n",
      "TOTAL:\t\t\t\t571\t(100.00%)\n",
      "\n",
      "INDEPENDENT test samples count:\t\t1311\t\n"
     ]
    }
   ],
   "source": [
    "train_size = len(train_new_df)\n",
    "val_size = len(val_df)\n",
    "test_size = len(test_df)\n",
    "total = train_size + val_size\n",
    "\n",
    "# View the counts\n",
    "print(f'train samples count:\\t\\t{train_size}\\t({(100 * train_size/total):.2f}%)')\n",
    "print(f'validation samples count:\\t{val_size}\\t({(100 * val_size/total):.2f}%)')\n",
    "print('================================================')\n",
    "print(f'TOTAL:\\t\\t\\t\\t{total}\\t({(100 * total/total):.2f}%)')\n",
    "\n",
    "print('')\n",
    "print(f'INDEPENDENT test samples count:\\t\\t{test_size}\\t')"
   ]
  },
  {
   "cell_type": "code",
   "execution_count": 11,
   "id": "825232ad-7f74-4efa-ad76-69022440982b",
   "metadata": {},
   "outputs": [],
   "source": [
    "train_transforms = transforms.Compose([\n",
    "    transforms.Resize((CFG.HEIGHT, CFG.WIDTH)),\n",
    "    transforms.Grayscale(num_output_channels=3),\n",
    "    transforms.RandomHorizontalFlip(p=0.5),\n",
    "    transforms.RandomVerticalFlip(p=0.5),\n",
    "    transforms.ToTensor()\n",
    "])\n",
    "test_transforms = transforms.Compose([\n",
    "    transforms.Resize((CFG.HEIGHT, CFG.WIDTH)),\n",
    "    transforms.Grayscale(num_output_channels=3),\n",
    "    transforms.ToTensor()\n",
    "])\n",
    "idx = random.sample(train_df_sample.index.to_list(), 1)[0]\n",
    "aug_image = _load(train_df_sample.image_path[idx], as_tensor=False)"
   ]
  },
  {
   "cell_type": "code",
   "execution_count": 12,
   "id": "845cb852-ff1b-4321-a77d-d1ed59f933db",
   "metadata": {},
   "outputs": [],
   "source": [
    "# Create datasets and dataloaders\n",
    "train_ds = BrainTumorMRIDataset(train_new_df, transform=train_transforms)\n",
    "val_ds = BrainTumorMRIDataset(val_df, transform=test_transforms)\n",
    "test_ds = BrainTumorMRIDataset(test_df, transform=test_transforms)"
   ]
  },
  {
   "cell_type": "code",
   "execution_count": 13,
   "id": "0ab9d2d0-039a-4dc9-8e70-fa21c66b3571",
   "metadata": {},
   "outputs": [],
   "source": [
    "train_loader = DataLoader(\n",
    "    dataset=train_ds, \n",
    "    batch_size=CFG.BATCH_SIZE,\n",
    "    num_workers=CFG.NUM_WORKERS,\n",
    "    shuffle=CFG.APPLY_SHUFFLE,\n",
    ")\n",
    "val_loader = DataLoader(\n",
    "    dataset=val_ds,\n",
    "    batch_size=CFG.BATCH_SIZE,\n",
    "    num_workers=CFG.NUM_WORKERS,\n",
    "    shuffle=False\n",
    ")\n",
    "test_loader = DataLoader(\n",
    "    dataset=test_ds,\n",
    "    batch_size=CFG.BATCH_SIZE,\n",
    "    num_workers=CFG.NUM_WORKERS,\n",
    "    shuffle=False\n",
    ")"
   ]
  },
  {
   "cell_type": "markdown",
   "id": "562cad34-73f1-4276-bcea-01b98ea5a06f",
   "metadata": {},
   "source": [
    "## **ORIGINAL MODEL**"
   ]
  },
  {
   "cell_type": "markdown",
   "id": "41610479-2a74-4158-b163-34d2e85f5ac6",
   "metadata": {},
   "source": [
    "### Defining and Training the EfficientNetV2 Model"
   ]
  },
  {
   "cell_type": "code",
   "execution_count": 14,
   "id": "03ed3032-cd93-4940-bfac-de90cad258fe",
   "metadata": {},
   "outputs": [],
   "source": [
    "class EfficientNetV2Model(nn.Module):\n",
    "    def __init__(self, backbone_model, name='efficientnet-v2-large', \n",
    "                 num_classes=CFG.NUM_CLASSES, device=CFG.DEVICE):\n",
    "        super(EfficientNetV2Model, self).__init__()\n",
    "        \n",
    "        self.backbone_model = backbone_model\n",
    "        self.device = device\n",
    "        self.num_classes = num_classes\n",
    "        self.name = name\n",
    "        \n",
    "        classifier = nn.Sequential(\n",
    "            nn.Flatten(),\n",
    "            nn.Dropout(p=0.2, inplace=True), \n",
    "            nn.Linear(in_features=1280, out_features=256, bias=True),\n",
    "            nn.GELU(),\n",
    "            nn.Dropout(p=0.2, inplace=True),\n",
    "            nn.Linear(in_features=256, out_features=num_classes, bias=False)\n",
    "        ).to(device)\n",
    "        \n",
    "        self._set_classifier(classifier)\n",
    "        \n",
    "    def _set_classifier(self, classifier:nn.Module) -> None:\n",
    "        self.backbone_model.classifier = classifier\n",
    "\n",
    "    def set_params(self, **params):\n",
    "        for param_name, param_value in params.items():\n",
    "            setattr(self, param_name, param_value)\n",
    "    \n",
    "    def forward(self, image):\n",
    "        return self.backbone_model(image)\n",
    "\n",
    "    def fit(self, train_loader, val_loader, optimizer, loss_fn, epochs):\n",
    "        train_loss_history = []\n",
    "        val_loss_history = []\n",
    "        \n",
    "        for epoch in range(epochs):\n",
    "            train_loss = 0.0\n",
    "            val_loss = 0.0\n",
    "            \n",
    "            # Training\n",
    "            self.train()\n",
    "            for batch_idx, (data, target) in enumerate(train_loader):\n",
    "                data, target = data.to(self.device), target.to(self.device)\n",
    "                optimizer.zero_grad()\n",
    "                output = self(data)\n",
    "                loss = loss_fn(output, target)\n",
    "                loss.backward()\n",
    "                optimizer.step()\n",
    "                train_loss += loss.item() * data.size(0)\n",
    "            train_loss /= len(train_loader.dataset)\n",
    "            train_loss_history.append(train_loss)\n",
    "            \n",
    "            # Validation\n",
    "            self.eval()\n",
    "            for batch_idx, (data, target) in enumerate(val_loader):\n",
    "                data, target = data.to(self.device), target.to(self.device)\n",
    "                output = self(data)\n",
    "                loss = loss_fn(output, target)\n",
    "                val_loss += loss.item() * data.size(0)\n",
    "            val_loss /= len(val_loader.dataset)\n",
    "            val_loss_history.append(val_loss)\n",
    "            print(f'Epoch {epoch + 1}/{epochs}, Train Loss: {train_loss}, Val Loss: {val_loss}')\n",
    "        return train_loss_history, val_loss_history"
   ]
  },
  {
   "cell_type": "code",
   "execution_count": 15,
   "id": "2d0fb912-75be-4d6c-9647-62ed03219973",
   "metadata": {},
   "outputs": [],
   "source": [
    "def get_efficientnetv2_model(\n",
    "    device: torch.device=CFG.NUM_CLASSES) -> nn.Module:\n",
    "    torch.manual_seed(CFG.SEED)\n",
    "    torch.cuda.manual_seed(CFG.SEED)\n",
    "    model_weights = (\n",
    "        torchvision\n",
    "        .models\n",
    "        .EfficientNet_V2_L_Weights\n",
    "        .DEFAULT)\n",
    "    model = (torchvision.models.efficientnet_v2_l(weights=model_weights)).to(device) \n",
    "    for param in model.features.parameters():\n",
    "        param.requires_grad = False \n",
    "    return model"
   ]
  },
  {
   "cell_type": "code",
   "execution_count": 16,
   "id": "e0c2b70d-9d1c-4c4e-a0e2-10a9ce34835b",
   "metadata": {},
   "outputs": [],
   "source": [
    "backbone_model = get_efficientnetv2_model(CFG.DEVICE)\n",
    "efficientnetv2_params = {\n",
    "    'backbone_model'    : backbone_model,\n",
    "    'name'              : 'efficientnet-v2-large',\n",
    "    'device'            : CFG.DEVICE}\n",
    "efficientnet_model = EfficientNetV2Model(**efficientnetv2_params)"
   ]
  },
  {
   "cell_type": "code",
   "execution_count": 17,
   "id": "f2728727-98e4-467b-9a17-f26b1125e720",
   "metadata": {},
   "outputs": [],
   "source": [
    "loss_fn = nn.CrossEntropyLoss(label_smoothing=0.1)\n",
    "optimizer = torch.optim.AdamW(efficientnet_model.parameters(), lr=CFG.LR)"
   ]
  },
  {
   "cell_type": "code",
   "execution_count": 18,
   "id": "a57fa110-f1d4-4c86-a370-7d1e7cf9b500",
   "metadata": {},
   "outputs": [],
   "source": [
    "def execute_epoch(\n",
    "    model:torch.nn.Module,\n",
    "    dataloader:torch.utils.data.DataLoader,\n",
    "    optimizer:torch.optim.Optimizer,\n",
    "    loss_fn:torch.nn.Module,\n",
    "    device:torch.device) -> Tuple[float, float]:\n",
    "    \n",
    "    model.train()\n",
    "    train_loss, train_acc = 0, 0\n",
    "    for batch, (X, y) in enumerate(tqdm(dataloader)):\n",
    "        X, y = X.to(device), y.to(device)\n",
    "        y_pred = model(X)\n",
    "        loss = loss_fn(y_pred, y)\n",
    "        train_loss += loss.item() \n",
    "        \n",
    "        # Gradients & Backpropagate Loss\n",
    "        optimizer.zero_grad()\n",
    "        loss.backward()\n",
    "        optimizer.step()\n",
    "        \n",
    "        # Compute Batch Metrics\n",
    "        predicted_class = torch.argmax(torch.softmax(y_pred, dim=1), dim=1)\n",
    "        train_acc += (predicted_class == y).sum().item() / len(y_pred)\n",
    "        \n",
    "    # Compute Step Metrics\n",
    "    train_loss = train_loss / len(dataloader)\n",
    "    train_acc = train_acc / len(dataloader)\n",
    "    \n",
    "    return train_loss, train_acc"
   ]
  },
  {
   "cell_type": "code",
   "execution_count": 19,
   "id": "4d90a8c0-08a3-434a-bafd-adad52a94c5d",
   "metadata": {},
   "outputs": [],
   "source": [
    "def evaluate(\n",
    "    model:torch.nn.Module,\n",
    "    dataloader:torch.utils.data.DataLoader,\n",
    "    loss_fn:torch.nn.Module,\n",
    "    device:torch.device) -> Tuple[float, float]:\n",
    "    \n",
    "    model.eval()\n",
    "    eval_loss, eval_acc = 0, 0\n",
    "    with torch.inference_mode():\n",
    "        for batch, (X, y) in enumerate(dataloader):\n",
    "            X, y = X.to(device), y.to(device)\n",
    "            y_pred = model(X)\n",
    "            loss = loss_fn(y_pred, y)\n",
    "            eval_loss += loss.item()\n",
    "            predicted_class = torch.argmax(torch.softmax(y_pred, dim=1), dim=1)\n",
    "            eval_acc += (predicted_class == y).sum().item() / len(y_pred)\n",
    "\n",
    "    eval_loss = eval_loss / len(dataloader)\n",
    "    eval_acc = eval_acc / len(dataloader)\n",
    "    return eval_loss, eval_acc"
   ]
  },
  {
   "cell_type": "code",
   "execution_count": 20,
   "id": "c6ed8161-65cd-45b6-b63f-166481adbc92",
   "metadata": {},
   "outputs": [],
   "source": [
    "def train(\n",
    "    model:torch.nn.Module,\n",
    "    train_dataloader:torch.utils.data.DataLoader,\n",
    "    eval_dataloader:torch.utils.data.DataLoader,\n",
    "    optimizer:torch.optim.Optimizer,\n",
    "    loss_fn:torch.nn.Module,\n",
    "    epochs:int,\n",
    "    device:torch.device) -> Dict[str, List]:\n",
    "    \n",
    "    session = {\n",
    "        'loss'          : [],\n",
    "        'accuracy'      : [],\n",
    "        'eval_loss'     : [],\n",
    "        'eval_accuaracy': []}\n",
    "    \n",
    "    for epoch in tqdm(range(epochs)):\n",
    "        print(f'\\nEpoch {epoch + 1}/{epochs}')\n",
    "        train_loss, train_acc = execute_epoch(model, train_dataloader, optimizer, loss_fn, device)\n",
    "        eval_loss, eval_acc = evaluate(model, eval_dataloader, loss_fn, device)\n",
    "        print(f'loss: {train_loss:.4f} - acc: {train_acc:.4f} - eval_loss: {eval_loss:.4f} - eval_acc: {eval_acc:.4f}')\n",
    "        session['loss'].append(train_loss)\n",
    "        session['accuracy'].append(train_acc)\n",
    "        session['eval_loss'].append(eval_loss)\n",
    "        session['eval_accuaracy'].append(eval_acc)\n",
    "    return session"
   ]
  },
  {
   "cell_type": "markdown",
   "id": "0075f5ac-f859-40ec-9908-aa8847d305d6",
   "metadata": {},
   "source": [
    "### Original Training of Model (with no Fine-Tuning)"
   ]
  },
  {
   "cell_type": "code",
   "execution_count": 21,
   "id": "adc82640-e62b-424d-af9e-b4a7efda60a0",
   "metadata": {},
   "outputs": [
    {
     "name": "stdout",
     "output_type": "stream",
     "text": [
      "Training EfficientNet Model\n",
      "Train on 456 samples, validate on 115 samples.\n",
      "----------------------------------\n"
     ]
    },
    {
     "data": {
      "application/vnd.jupyter.widget-view+json": {
       "model_id": "12204a0d67684611bd8d2a5e70ab6848",
       "version_major": 2,
       "version_minor": 0
      },
      "text/plain": [
       "  0%|          | 0/16 [00:00<?, ?it/s]"
      ]
     },
     "metadata": {},
     "output_type": "display_data"
    },
    {
     "name": "stdout",
     "output_type": "stream",
     "text": [
      "\n",
      "Epoch 1/16\n"
     ]
    },
    {
     "data": {
      "application/vnd.jupyter.widget-view+json": {
       "model_id": "5a8d085c7d7a4de8b49ed5f10976a245",
       "version_major": 2,
       "version_minor": 0
      },
      "text/plain": [
       "  0%|          | 0/15 [00:00<?, ?it/s]"
      ]
     },
     "metadata": {},
     "output_type": "display_data"
    },
    {
     "name": "stdout",
     "output_type": "stream",
     "text": [
      "loss: 1.1668 - acc: 0.5437 - eval_loss: 1.0712 - eval_acc: 0.5637\n",
      "\n",
      "Epoch 2/16\n"
     ]
    },
    {
     "data": {
      "application/vnd.jupyter.widget-view+json": {
       "model_id": "15e9af0f4c0e422c870f523aad49614c",
       "version_major": 2,
       "version_minor": 0
      },
      "text/plain": [
       "  0%|          | 0/15 [00:00<?, ?it/s]"
      ]
     },
     "metadata": {},
     "output_type": "display_data"
    },
    {
     "name": "stdout",
     "output_type": "stream",
     "text": [
      "loss: 0.8154 - acc: 0.7875 - eval_loss: 0.9447 - eval_acc: 0.6731\n",
      "\n",
      "Epoch 3/16\n"
     ]
    },
    {
     "data": {
      "application/vnd.jupyter.widget-view+json": {
       "model_id": "2d5cd3e4633f472eb1fbee4107d8158c",
       "version_major": 2,
       "version_minor": 0
      },
      "text/plain": [
       "  0%|          | 0/15 [00:00<?, ?it/s]"
      ]
     },
     "metadata": {},
     "output_type": "display_data"
    },
    {
     "name": "stdout",
     "output_type": "stream",
     "text": [
      "loss: 0.7709 - acc: 0.7875 - eval_loss: 0.7713 - eval_acc: 0.8092\n",
      "\n",
      "Epoch 4/16\n"
     ]
    },
    {
     "data": {
      "application/vnd.jupyter.widget-view+json": {
       "model_id": "b72927e25a5e4c35a06b73871b947fbb",
       "version_major": 2,
       "version_minor": 0
      },
      "text/plain": [
       "  0%|          | 0/15 [00:00<?, ?it/s]"
      ]
     },
     "metadata": {},
     "output_type": "display_data"
    },
    {
     "name": "stdout",
     "output_type": "stream",
     "text": [
      "loss: 0.6942 - acc: 0.8271 - eval_loss: 0.6829 - eval_acc: 0.8458\n",
      "\n",
      "Epoch 5/16\n"
     ]
    },
    {
     "data": {
      "application/vnd.jupyter.widget-view+json": {
       "model_id": "062a244eb2ac403388b35e58911739fc",
       "version_major": 2,
       "version_minor": 0
      },
      "text/plain": [
       "  0%|          | 0/15 [00:00<?, ?it/s]"
      ]
     },
     "metadata": {},
     "output_type": "display_data"
    },
    {
     "name": "stdout",
     "output_type": "stream",
     "text": [
      "loss: 0.6800 - acc: 0.8438 - eval_loss: 0.6624 - eval_acc: 0.8668\n",
      "\n",
      "Epoch 6/16\n"
     ]
    },
    {
     "data": {
      "application/vnd.jupyter.widget-view+json": {
       "model_id": "aa2dc557e1ec4ab681b1424ef1730e72",
       "version_major": 2,
       "version_minor": 0
      },
      "text/plain": [
       "  0%|          | 0/15 [00:00<?, ?it/s]"
      ]
     },
     "metadata": {},
     "output_type": "display_data"
    },
    {
     "name": "stdout",
     "output_type": "stream",
     "text": [
      "loss: 0.6714 - acc: 0.8521 - eval_loss: 0.6789 - eval_acc: 0.8746\n",
      "\n",
      "Epoch 7/16\n"
     ]
    },
    {
     "data": {
      "application/vnd.jupyter.widget-view+json": {
       "model_id": "cc7343b9d50f44fc803e82cf90909be5",
       "version_major": 2,
       "version_minor": 0
      },
      "text/plain": [
       "  0%|          | 0/15 [00:00<?, ?it/s]"
      ]
     },
     "metadata": {},
     "output_type": "display_data"
    },
    {
     "name": "stdout",
     "output_type": "stream",
     "text": [
      "loss: 0.7139 - acc: 0.8167 - eval_loss: 0.6298 - eval_acc: 0.8902\n",
      "\n",
      "Epoch 8/16\n"
     ]
    },
    {
     "data": {
      "application/vnd.jupyter.widget-view+json": {
       "model_id": "0848991e2c444f41b21684ecd7504ba0",
       "version_major": 2,
       "version_minor": 0
      },
      "text/plain": [
       "  0%|          | 0/15 [00:00<?, ?it/s]"
      ]
     },
     "metadata": {},
     "output_type": "display_data"
    },
    {
     "name": "stdout",
     "output_type": "stream",
     "text": [
      "loss: 0.7175 - acc: 0.8292 - eval_loss: 0.6418 - eval_acc: 0.8746\n",
      "\n",
      "Epoch 9/16\n"
     ]
    },
    {
     "data": {
      "application/vnd.jupyter.widget-view+json": {
       "model_id": "e0b6493dc5c546248c10937891c715ee",
       "version_major": 2,
       "version_minor": 0
      },
      "text/plain": [
       "  0%|          | 0/15 [00:00<?, ?it/s]"
      ]
     },
     "metadata": {},
     "output_type": "display_data"
    },
    {
     "name": "stdout",
     "output_type": "stream",
     "text": [
      "loss: 0.7632 - acc: 0.7896 - eval_loss: 0.6378 - eval_acc: 0.8746\n",
      "\n",
      "Epoch 10/16\n"
     ]
    },
    {
     "data": {
      "application/vnd.jupyter.widget-view+json": {
       "model_id": "dfa3703b83fb449ab6e90c36fed6144b",
       "version_major": 2,
       "version_minor": 0
      },
      "text/plain": [
       "  0%|          | 0/15 [00:00<?, ?it/s]"
      ]
     },
     "metadata": {},
     "output_type": "display_data"
    },
    {
     "name": "stdout",
     "output_type": "stream",
     "text": [
      "loss: 0.6525 - acc: 0.8604 - eval_loss: 0.6595 - eval_acc: 0.8458\n",
      "\n",
      "Epoch 11/16\n"
     ]
    },
    {
     "data": {
      "application/vnd.jupyter.widget-view+json": {
       "model_id": "66a7d067c3ab49d3b060ba7db260bdef",
       "version_major": 2,
       "version_minor": 0
      },
      "text/plain": [
       "  0%|          | 0/15 [00:00<?, ?it/s]"
      ]
     },
     "metadata": {},
     "output_type": "display_data"
    },
    {
     "name": "stdout",
     "output_type": "stream",
     "text": [
      "loss: 0.6517 - acc: 0.8542 - eval_loss: 0.6123 - eval_acc: 0.8746\n",
      "\n",
      "Epoch 12/16\n"
     ]
    },
    {
     "data": {
      "application/vnd.jupyter.widget-view+json": {
       "model_id": "c86e7463a6424a708e3aa902512c1157",
       "version_major": 2,
       "version_minor": 0
      },
      "text/plain": [
       "  0%|          | 0/15 [00:00<?, ?it/s]"
      ]
     },
     "metadata": {},
     "output_type": "display_data"
    },
    {
     "name": "stdout",
     "output_type": "stream",
     "text": [
      "loss: 0.5932 - acc: 0.9000 - eval_loss: 0.6338 - eval_acc: 0.8824\n",
      "\n",
      "Epoch 13/16\n"
     ]
    },
    {
     "data": {
      "application/vnd.jupyter.widget-view+json": {
       "model_id": "3665cb28b2aa4bd68f853f2637012efe",
       "version_major": 2,
       "version_minor": 0
      },
      "text/plain": [
       "  0%|          | 0/15 [00:00<?, ?it/s]"
      ]
     },
     "metadata": {},
     "output_type": "display_data"
    },
    {
     "name": "stdout",
     "output_type": "stream",
     "text": [
      "loss: 0.6165 - acc: 0.8646 - eval_loss: 0.6334 - eval_acc: 0.8668\n",
      "\n",
      "Epoch 14/16\n"
     ]
    },
    {
     "data": {
      "application/vnd.jupyter.widget-view+json": {
       "model_id": "2849369b453e4a04a3ffbbf6ac2a7c37",
       "version_major": 2,
       "version_minor": 0
      },
      "text/plain": [
       "  0%|          | 0/15 [00:00<?, ?it/s]"
      ]
     },
     "metadata": {},
     "output_type": "display_data"
    },
    {
     "name": "stdout",
     "output_type": "stream",
     "text": [
      "loss: 0.6172 - acc: 0.8896 - eval_loss: 0.6181 - eval_acc: 0.8824\n",
      "\n",
      "Epoch 15/16\n"
     ]
    },
    {
     "data": {
      "application/vnd.jupyter.widget-view+json": {
       "model_id": "21431e9514af4c99ab752e1f5ee93910",
       "version_major": 2,
       "version_minor": 0
      },
      "text/plain": [
       "  0%|          | 0/15 [00:00<?, ?it/s]"
      ]
     },
     "metadata": {},
     "output_type": "display_data"
    },
    {
     "name": "stdout",
     "output_type": "stream",
     "text": [
      "loss: 0.5637 - acc: 0.9146 - eval_loss: 0.6482 - eval_acc: 0.8824\n",
      "\n",
      "Epoch 16/16\n"
     ]
    },
    {
     "data": {
      "application/vnd.jupyter.widget-view+json": {
       "model_id": "23d7e23ec573476685ae68136b12c9ac",
       "version_major": 2,
       "version_minor": 0
      },
      "text/plain": [
       "  0%|          | 0/15 [00:00<?, ?it/s]"
      ]
     },
     "metadata": {},
     "output_type": "display_data"
    },
    {
     "name": "stdout",
     "output_type": "stream",
     "text": [
      "loss: 0.6135 - acc: 0.8833 - eval_loss: 0.5909 - eval_acc: 0.8849\n"
     ]
    }
   ],
   "source": [
    "print('Training EfficientNet Model')\n",
    "print(f'Train on {len(train_new_df)} samples, validate on {len(val_df)} samples.')\n",
    "print('----------------------------------')\n",
    "efficientnet_session_config = {\n",
    "    'model'               : efficientnet_model,\n",
    "    'train_dataloader'    : train_loader,\n",
    "    'eval_dataloader'     : val_loader,\n",
    "    'optimizer'           : optimizer,\n",
    "    'loss_fn'             : loss_fn,\n",
    "    'epochs'              : CFG.EPOCHS,\n",
    "    'device'              : CFG.DEVICE\n",
    "}\n",
    "efficientnet_session_history = train(**efficientnet_session_config)"
   ]
  },
  {
   "cell_type": "markdown",
   "id": "42df3253-5f5b-49ad-8c53-05ac3d0b7e3e",
   "metadata": {},
   "source": [
    "### Evaluate the Original Model\n",
    "We will be looking at accuracy and evaluation losses, a confusion matrix (matching true and predicted labels), and the accuracy score."
   ]
  },
  {
   "cell_type": "code",
   "execution_count": 31,
   "id": "d0bf4299-0056-44f6-9efc-d2d4002e4590",
   "metadata": {},
   "outputs": [],
   "source": [
    "def predict(\n",
    "    model:nn.Module, \n",
    "    sample_loader:torch.utils.data.DataLoader,\n",
    "    device:torch.device) -> np.ndarray:\n",
    "    model.eval() \n",
    "    predictions = []\n",
    "    with torch.inference_mode():\n",
    "        for batch, (X, y) in enumerate(tqdm(sample_loader)):\n",
    "            X, y = X.to(device), y.to(device)\n",
    "            y_pred = model(X) \n",
    "            predicted_probs = torch.softmax(y_pred, dim=1).cpu().numpy()\n",
    "            predictions.append(predicted_probs) \n",
    "    return np.vstack(predictions)"
   ]
  },
  {
   "cell_type": "code",
   "execution_count": 23,
   "id": "5dbf8e3a-1d61-4799-a3d9-6bfe04bd9f26",
   "metadata": {},
   "outputs": [
    {
     "data": {
      "application/vnd.jupyter.widget-view+json": {
       "model_id": "17aa5ac4872542c4be64cd3b2326b396",
       "version_major": 2,
       "version_minor": 0
      },
      "text/plain": [
       "  0%|          | 0/41 [00:00<?, ?it/s]"
      ]
     },
     "metadata": {},
     "output_type": "display_data"
    }
   ],
   "source": [
    "efficientnet_test_probs = predict(efficientnet_model, test_loader, CFG.DEVICE)"
   ]
  },
  {
   "cell_type": "code",
   "execution_count": 32,
   "id": "6b59b166-5564-48db-9e8f-8bc12e6b758f",
   "metadata": {},
   "outputs": [],
   "source": [
    "def plot_training_curves(history):\n",
    "    loss = np.array(history['loss'])\n",
    "    accuracy = np.array(history['accuracy'])\n",
    "    val_loss = np.array(history['eval_loss'])\n",
    "    val_accuracy = np.array(history['eval_accuaracy'])\n",
    "    epochs = range(len(history['loss']))\n",
    "\n",
    "    # Plot loss\n",
    "    fig, (ax1, ax2) = plt.subplots(1, 2, figsize=(20, 8))\n",
    "    ax1.plot(epochs, loss, label='training_loss', marker='o')\n",
    "    ax1.plot(epochs, val_loss, label='eval_loss', marker='o')\n",
    "    ax1.fill_between(epochs, loss, val_loss, where=(loss > val_loss), color='C0', alpha=0.3, interpolate=True)\n",
    "    ax1.fill_between(epochs, loss, val_loss, where=(loss < val_loss), color='C1', alpha=0.3, interpolate=True)\n",
    "    ax1.set_title('Loss (Lower Means Better)', fontsize=16)\n",
    "    ax1.set_xlabel('Epochs', fontsize=12)\n",
    "    ax1.legend()\n",
    "\n",
    "    # Plot accuracy\n",
    "    ax2.plot(epochs, accuracy, label='training_accuracy', marker='o')\n",
    "    ax2.plot(epochs, val_accuracy, label='eval_accuracy', marker='o')\n",
    "    ax2.fill_between(epochs, accuracy, val_accuracy, where=(accuracy > val_accuracy), color='C0', alpha=0.3, interpolate=True)\n",
    "    ax2.fill_between(epochs, accuracy, val_accuracy, where=(accuracy < val_accuracy), color='C1', alpha=0.3, interpolate=True)\n",
    "    ax2.set_title('Accuracy (Higher Means Better)', fontsize=16)\n",
    "    ax2.set_xlabel('Epochs', fontsize=12)\n",
    "    ax2.legend();\n",
    "    \n",
    "    sns.despine();\n",
    "    return"
   ]
  },
  {
   "cell_type": "code",
   "execution_count": 25,
   "id": "60951a0a-362c-47d7-9f8c-6ff653c55bad",
   "metadata": {},
   "outputs": [
    {
     "data": {
      "text/html": [
       "<div>\n",
       "<style scoped>\n",
       "    .dataframe tbody tr th:only-of-type {\n",
       "        vertical-align: middle;\n",
       "    }\n",
       "\n",
       "    .dataframe tbody tr th {\n",
       "        vertical-align: top;\n",
       "    }\n",
       "\n",
       "    .dataframe thead th {\n",
       "        text-align: right;\n",
       "    }\n",
       "</style>\n",
       "<table border=\"1\" class=\"dataframe\">\n",
       "  <thead>\n",
       "    <tr style=\"text-align: right;\">\n",
       "      <th></th>\n",
       "      <th>loss</th>\n",
       "      <th>accuracy</th>\n",
       "      <th>eval_loss</th>\n",
       "      <th>eval_accuaracy</th>\n",
       "    </tr>\n",
       "  </thead>\n",
       "  <tbody>\n",
       "    <tr>\n",
       "      <th>0</th>\n",
       "      <td>1.166783</td>\n",
       "      <td>0.543750</td>\n",
       "      <td>1.071176</td>\n",
       "      <td>0.563734</td>\n",
       "    </tr>\n",
       "    <tr>\n",
       "      <th>1</th>\n",
       "      <td>0.815438</td>\n",
       "      <td>0.787500</td>\n",
       "      <td>0.944709</td>\n",
       "      <td>0.673109</td>\n",
       "    </tr>\n",
       "    <tr>\n",
       "      <th>2</th>\n",
       "      <td>0.770866</td>\n",
       "      <td>0.787500</td>\n",
       "      <td>0.771332</td>\n",
       "      <td>0.809211</td>\n",
       "    </tr>\n",
       "    <tr>\n",
       "      <th>3</th>\n",
       "      <td>0.694151</td>\n",
       "      <td>0.827083</td>\n",
       "      <td>0.682944</td>\n",
       "      <td>0.845806</td>\n",
       "    </tr>\n",
       "    <tr>\n",
       "      <th>4</th>\n",
       "      <td>0.680025</td>\n",
       "      <td>0.843750</td>\n",
       "      <td>0.662430</td>\n",
       "      <td>0.866776</td>\n",
       "    </tr>\n",
       "    <tr>\n",
       "      <th>5</th>\n",
       "      <td>0.671421</td>\n",
       "      <td>0.852083</td>\n",
       "      <td>0.678861</td>\n",
       "      <td>0.874589</td>\n",
       "    </tr>\n",
       "    <tr>\n",
       "      <th>6</th>\n",
       "      <td>0.713905</td>\n",
       "      <td>0.816667</td>\n",
       "      <td>0.629790</td>\n",
       "      <td>0.890214</td>\n",
       "    </tr>\n",
       "    <tr>\n",
       "      <th>7</th>\n",
       "      <td>0.717515</td>\n",
       "      <td>0.829167</td>\n",
       "      <td>0.641770</td>\n",
       "      <td>0.874589</td>\n",
       "    </tr>\n",
       "    <tr>\n",
       "      <th>8</th>\n",
       "      <td>0.763169</td>\n",
       "      <td>0.789583</td>\n",
       "      <td>0.637804</td>\n",
       "      <td>0.874589</td>\n",
       "    </tr>\n",
       "    <tr>\n",
       "      <th>9</th>\n",
       "      <td>0.652453</td>\n",
       "      <td>0.860417</td>\n",
       "      <td>0.659522</td>\n",
       "      <td>0.845806</td>\n",
       "    </tr>\n",
       "    <tr>\n",
       "      <th>10</th>\n",
       "      <td>0.651704</td>\n",
       "      <td>0.854167</td>\n",
       "      <td>0.612285</td>\n",
       "      <td>0.874589</td>\n",
       "    </tr>\n",
       "    <tr>\n",
       "      <th>11</th>\n",
       "      <td>0.593213</td>\n",
       "      <td>0.900000</td>\n",
       "      <td>0.633775</td>\n",
       "      <td>0.882401</td>\n",
       "    </tr>\n",
       "    <tr>\n",
       "      <th>12</th>\n",
       "      <td>0.616525</td>\n",
       "      <td>0.864583</td>\n",
       "      <td>0.633389</td>\n",
       "      <td>0.866776</td>\n",
       "    </tr>\n",
       "    <tr>\n",
       "      <th>13</th>\n",
       "      <td>0.617233</td>\n",
       "      <td>0.889583</td>\n",
       "      <td>0.618132</td>\n",
       "      <td>0.882401</td>\n",
       "    </tr>\n",
       "    <tr>\n",
       "      <th>14</th>\n",
       "      <td>0.563675</td>\n",
       "      <td>0.914583</td>\n",
       "      <td>0.648231</td>\n",
       "      <td>0.882401</td>\n",
       "    </tr>\n",
       "    <tr>\n",
       "      <th>15</th>\n",
       "      <td>0.613516</td>\n",
       "      <td>0.883333</td>\n",
       "      <td>0.590916</td>\n",
       "      <td>0.884868</td>\n",
       "    </tr>\n",
       "  </tbody>\n",
       "</table>\n",
       "</div>"
      ],
      "text/plain": [
       "        loss  accuracy  eval_loss  eval_accuaracy\n",
       "0   1.166783  0.543750   1.071176        0.563734\n",
       "1   0.815438  0.787500   0.944709        0.673109\n",
       "2   0.770866  0.787500   0.771332        0.809211\n",
       "3   0.694151  0.827083   0.682944        0.845806\n",
       "4   0.680025  0.843750   0.662430        0.866776\n",
       "5   0.671421  0.852083   0.678861        0.874589\n",
       "6   0.713905  0.816667   0.629790        0.890214\n",
       "7   0.717515  0.829167   0.641770        0.874589\n",
       "8   0.763169  0.789583   0.637804        0.874589\n",
       "9   0.652453  0.860417   0.659522        0.845806\n",
       "10  0.651704  0.854167   0.612285        0.874589\n",
       "11  0.593213  0.900000   0.633775        0.882401\n",
       "12  0.616525  0.864583   0.633389        0.866776\n",
       "13  0.617233  0.889583   0.618132        0.882401\n",
       "14  0.563675  0.914583   0.648231        0.882401\n",
       "15  0.613516  0.883333   0.590916        0.884868"
      ]
     },
     "execution_count": 25,
     "metadata": {},
     "output_type": "execute_result"
    }
   ],
   "source": [
    "efficientnet_session_history_df = pd.DataFrame(efficientnet_session_history)\n",
    "efficientnet_session_history_df"
   ]
  },
  {
   "cell_type": "code",
   "execution_count": 26,
   "id": "29771aa0-edab-4dc7-80bb-c6b9c5433b61",
   "metadata": {},
   "outputs": [
    {
     "data": {
      "image/png": "[encoded data removed]",
      "text/plain": [
       "<Figure size 2000x800 with 2 Axes>"
      ]
     },
     "metadata": {},
     "output_type": "display_data"
    }
   ],
   "source": [
    "plot_training_curves(efficientnet_session_history)"
   ]
  },
  {
   "cell_type": "code",
   "execution_count": 33,
   "id": "56fe9906-4ca9-4344-885d-9eac65e25e70",
   "metadata": {},
   "outputs": [],
   "source": [
    "def plot_confusion_matrix(y_true, y_pred, classes='auto', figsize=(10, 10), text_size=12): \n",
    "    cm = confusion_matrix(y_true, y_pred)\n",
    "    plt.figure(figsize=figsize)\n",
    "    disp = sns.heatmap(cm, annot=True, cmap='OrRd', annot_kws={\"size\": text_size}, fmt='g',\n",
    "        linewidths=0.5, linecolor='black', clip_on=False, xticklabels=classes, yticklabels=classes)\n",
    "    disp.set_title('Confusion Matrix', fontsize=24)\n",
    "    disp.set_xlabel('Predicted Label', fontsize=20) \n",
    "    disp.set_ylabel('True Label', fontsize=20)\n",
    "    plt.yticks(rotation=0) \n",
    "    plt.show()\n",
    "    return"
   ]
  },
  {
   "cell_type": "code",
   "execution_count": 39,
   "id": "8e4d0b6f-84cb-4dbf-9ab1-abda418dc366",
   "metadata": {},
   "outputs": [
    {
     "name": "stdout",
     "output_type": "stream",
     "text": [
      "[0, 0, 0, 0, 0, 0, 0, 0, 0, 0, 0, 0, 0, 0, 0, 0, 0, 0, 0, 0, 0, 0, 0, 0, 0, 0, 0, 0, 0, 0, 0, 0, 0, 0, 0, 0, 0, 0, 0, 0, 0, 0, 0, 0, 0, 0, 0, 0, 0, 0, 0, 0, 0, 0, 0, 0, 0, 0, 0, 0, 0, 0, 0, 0, 0, 0, 0, 0, 0, 0, 0, 0, 0, 0, 0, 0, 0, 0, 0, 0, 0, 0, 0, 0, 0, 0, 0, 0, 0, 0, 0, 0, 0, 0, 0, 0, 0, 0, 0, 0, 0, 0, 0, 0, 0, 0, 0, 0, 0, 0, 0, 0, 0, 0, 0, 0, 0, 0, 0, 0, 0, 0, 0, 0, 0, 0, 0, 0, 0, 0, 0, 0, 0, 0, 0, 0, 0, 0, 0, 0, 0, 0, 0, 0, 0, 0, 0, 0, 0, 0, 0, 0, 0, 0, 0, 0, 0, 0, 0, 0, 0, 0, 0, 0, 0, 0, 0, 0, 0, 0, 0, 0, 0, 0, 0, 0, 0, 0, 0, 0, 0, 0, 0, 0, 0, 0, 0, 0, 0, 0, 0, 0, 0, 0, 0, 0, 0, 0, 0, 0, 0, 0, 0, 0, 0, 0, 0, 0, 0, 0, 0, 0, 0, 0, 0, 0, 0, 0, 0, 0, 0, 0, 0, 0, 0, 0, 0, 0, 0, 0, 0, 0, 0, 0, 0, 0, 0, 0, 0, 0, 0, 0, 0, 0, 0, 0, 0, 0, 0, 0, 0, 0, 0, 0, 0, 0, 0, 0, 0, 0, 0, 0, 0, 0, 0, 0, 0, 0, 0, 0, 0, 0, 0, 0, 0, 0, 0, 0, 0, 0, 0, 0, 0, 0, 0, 0, 0, 0, 0, 0, 0, 0, 0, 0, 0, 0, 0, 0, 0, 0, 3, 3, 3, 3, 3, 3, 3, 3, 3, 3, 3, 3, 3, 3, 3, 3, 3, 3, 3, 3, 3, 3, 3, 3, 3, 3, 3, 3, 3, 3, 3, 3, 3, 3, 3, 3, 3, 3, 3, 3, 3, 3, 3, 3, 3, 3, 3, 3, 3, 3, 3, 3, 3, 3, 3, 3, 3, 3, 3, 3, 3, 3, 3, 3, 3, 3, 3, 3, 3, 3, 3, 3, 3, 3, 3, 3, 3, 3, 3, 3, 3, 3, 3, 3, 3, 3, 3, 3, 3, 3, 3, 3, 3, 3, 3, 3, 3, 3, 3, 3, 3, 3, 3, 3, 3, 3, 3, 3, 3, 3, 3, 3, 3, 3, 3, 3, 3, 3, 3, 3, 3, 3, 3, 3, 3, 3, 3, 3, 3, 3, 3, 3, 3, 3, 3, 3, 3, 3, 3, 3, 3, 3, 3, 3, 3, 3, 3, 3, 3, 3, 3, 3, 3, 3, 3, 3, 3, 3, 3, 3, 3, 3, 3, 3, 3, 3, 3, 3, 3, 3, 3, 3, 3, 3, 3, 3, 3, 3, 3, 3, 3, 3, 3, 3, 3, 3, 3, 3, 3, 3, 3, 3, 3, 3, 3, 3, 3, 3, 3, 3, 3, 3, 3, 3, 3, 3, 3, 3, 3, 3, 3, 3, 3, 3, 3, 3, 3, 3, 3, 3, 3, 3, 3, 3, 3, 3, 3, 3, 3, 3, 3, 3, 3, 3, 3, 3, 3, 3, 3, 3, 3, 3, 3, 3, 3, 3, 3, 3, 3, 3, 3, 3, 3, 3, 3, 3, 3, 3, 3, 3, 3, 3, 3, 3, 3, 3, 3, 3, 3, 3, 3, 3, 3, 3, 3, 3, 3, 3, 3, 3, 3, 3, 3, 3, 3, 3, 3, 3, 3, 3, 3, 3, 3, 3, 3, 3, 3, 3, 3, 3, 1, 1, 1, 1, 1, 1, 1, 1, 1, 1, 1, 1, 1, 1, 1, 1, 1, 1, 1, 1, 1, 1, 1, 1, 1, 1, 1, 1, 1, 1, 1, 1, 1, 1, 1, 1, 1, 1, 1, 1, 1, 1, 1, 1, 1, 1, 1, 1, 1, 1, 1, 1, 1, 1, 1, 1, 1, 1, 1, 1, 1, 1, 1, 1, 1, 1, 1, 1, 1, 1, 1, 1, 1, 1, 1, 1, 1, 1, 1, 1, 1, 1, 1, 1, 1, 1, 1, 1, 1, 1, 1, 1, 1, 1, 1, 1, 1, 1, 1, 1, 1, 1, 1, 1, 1, 1, 1, 1, 1, 1, 1, 1, 1, 1, 1, 1, 1, 1, 1, 1, 1, 1, 1, 1, 1, 1, 1, 1, 1, 1, 1, 1, 1, 1, 1, 1, 1, 1, 1, 1, 1, 1, 1, 1, 1, 1, 1, 1, 1, 1, 1, 1, 1, 1, 1, 1, 1, 1, 1, 1, 1, 1, 1, 1, 1, 1, 1, 1, 1, 1, 1, 1, 1, 1, 1, 1, 1, 1, 1, 1, 1, 1, 1, 1, 1, 1, 1, 1, 1, 1, 1, 1, 1, 1, 1, 1, 1, 1, 1, 1, 1, 1, 1, 1, 1, 1, 1, 1, 1, 1, 1, 1, 1, 1, 1, 1, 1, 1, 1, 1, 1, 1, 1, 1, 1, 1, 1, 1, 1, 1, 1, 1, 1, 1, 1, 1, 1, 1, 1, 1, 1, 1, 1, 1, 1, 1, 1, 1, 1, 1, 1, 1, 1, 1, 1, 1, 1, 1, 1, 1, 1, 1, 1, 1, 1, 1, 1, 1, 1, 1, 1, 1, 1, 1, 1, 1, 1, 1, 1, 1, 1, 1, 1, 1, 1, 1, 1, 1, 1, 1, 1, 1, 1, 1, 1, 1, 1, 1, 1, 1, 1, 1, 1, 1, 1, 1, 2, 2, 2, 2, 2, 2, 2, 2, 2, 2, 2, 2, 2, 2, 2, 2, 2, 2, 2, 2, 2, 2, 2, 2, 2, 2, 2, 2, 2, 2, 2, 2, 2, 2, 2, 2, 2, 2, 2, 2, 2, 2, 2, 2, 2, 2, 2, 2, 2, 2, 2, 2, 2, 2, 2, 2, 2, 2, 2, 2, 2, 2, 2, 2, 2, 2, 2, 2, 2, 2, 2, 2, 2, 2, 2, 2, 2, 2, 2, 2, 2, 2, 2, 2, 2, 2, 2, 2, 2, 2, 2, 2, 2, 2, 2, 2, 2, 2, 2, 2, 2, 2, 2, 2, 2, 2, 2, 2, 2, 2, 2, 2, 2, 2, 2, 2, 2, 2, 2, 2, 2, 2, 2, 2, 2, 2, 2, 2, 2, 2, 2, 2, 2, 2, 2, 2, 2, 2, 2, 2, 2, 2, 2, 2, 2, 2, 2, 2, 2, 2, 2, 2, 2, 2, 2, 2, 2, 2, 2, 2, 2, 2, 2, 2, 2, 2, 2, 2, 2, 2, 2, 2, 2, 2, 2, 2, 2, 2, 2, 2, 2, 2, 2, 2, 2, 2, 2, 2, 2, 2, 2, 2, 2, 2, 2, 2, 2, 2, 2, 2, 2, 2, 2, 2, 2, 2, 2, 2, 2, 2, 2, 2, 2, 2, 2, 2, 2, 2, 2, 2, 2, 2, 2, 2, 2, 2, 2, 2, 2, 2, 2, 2, 2, 2, 2, 2, 2, 2, 2, 2, 2, 2, 2, 2, 2, 2, 2, 2, 2, 2, 2, 2, 2, 2, 2, 2, 2, 2, 2, 2, 2, 2, 2, 2, 2, 2, 2, 2, 2, 2, 2, 2, 2, 2, 2, 2, 2, 2, 2, 2, 2, 2, 2, 2, 2, 2, 2, 2, 2, 2, 2, 2, 2, 2, 2, 2, 2, 2, 2, 2, 2, 2, 2, 2, 2, 2, 2, 2, 2, 2, 2, 2, 2, 2, 2, 2, 2, 2, 2, 2, 2, 2, 2, 2, 2, 2, 2, 2, 2, 2, 2, 2, 2, 2, 2, 2, 2, 2, 2, 2, 2, 2, 2, 2, 2, 2, 2, 2, 2, 2, 2, 2, 2, 2, 2, 2, 2, 2, 2, 2, 2, 2, 2, 2, 2, 2, 2, 2, 2, 2, 2, 2, 2, 2, 2, 2, 2, 2, 2, 2, 2, 2, 2, 2, 2, 2, 2, 2, 2, 2, 2, 2, 2, 2, 2, 2, 2, 2, 2, 2, 2, 2, 2, 2, 2]\n"
     ]
    }
   ],
   "source": [
    "test_labels = [*map(test_ds.class_to_idx.get, test_ds.labels)]\n",
    "print(test_labels)"
   ]
  },
  {
   "cell_type": "code",
   "execution_count": 29,
   "id": "3b15ee54-56c3-41d5-9939-dcedfbeab3d5",
   "metadata": {},
   "outputs": [
    {
     "name": "stdout",
     "output_type": "stream",
     "text": [
      "[0 1 0 ... 2 2 2]\n"
     ]
    }
   ],
   "source": [
    "efficientnet_test_preds = np.argmax(efficientnet_test_probs, axis=1)\n",
    "print(efficientnet_test_preds)"
   ]
  },
  {
   "cell_type": "code",
   "execution_count": 30,
   "id": "abd3ccda-f57b-400b-8beb-551a33372d0a",
   "metadata": {},
   "outputs": [
    {
     "data": {
      "image/png": "[encoded data removed]",
      "text/plain": [
       "<Figure size 800x700 with 2 Axes>"
      ]
     },
     "metadata": {},
     "output_type": "display_data"
    }
   ],
   "source": [
    "plot_confusion_matrix(test_labels, efficientnet_test_preds, figsize=(8,7), classes=test_ds.classes)"
   ]
  },
  {
   "cell_type": "code",
   "execution_count": 31,
   "id": "54d501ef-43cf-4454-825b-d2a793963568",
   "metadata": {},
   "outputs": [
    {
     "data": {
      "text/plain": [
       "0.8680396643783371"
      ]
     },
     "execution_count": 31,
     "metadata": {},
     "output_type": "execute_result"
    }
   ],
   "source": [
    "accuracy_score(test_labels, efficientnet_test_preds)"
   ]
  },
  {
   "cell_type": "markdown",
   "id": "6496207d-867a-43d2-bdda-b1c3ca56105f",
   "metadata": {},
   "source": [
    "## **Hyperparameter tuning with GridSearchCV**"
   ]
  },
  {
   "cell_type": "markdown",
   "id": "176b4166-10c7-404b-b359-449aeea520df",
   "metadata": {},
   "source": [
    "GridSearchCV expects numpy arrays or similar objects for X and y, not PyTorch DataLoaders. We'll transform the data into a format that GridSearchCV can understand, but creating a function that converts a DataLoader to numpy array for X and y."
   ]
  },
  {
   "cell_type": "code",
   "execution_count": 21,
   "id": "a2e32079-5991-4d72-9bb6-486f08a6695e",
   "metadata": {},
   "outputs": [],
   "source": [
    "class NumpyDataset(Dataset):\n",
    "    def __init__(self, X, y=None, transform=None):\n",
    "        self.X = X\n",
    "        self.y = y\n",
    "        self.transform = transform\n",
    "\n",
    "    def __len__(self):\n",
    "        return len(self.X)\n",
    "\n",
    "    def __getitem__(self, idx):\n",
    "        sample = self.X[idx]\n",
    "        if self.transform:\n",
    "            sample = self.transform(sample)\n",
    "        if self.y is not None:\n",
    "            return sample, self.y[idx]\n",
    "        else:\n",
    "            return sample"
   ]
  },
  {
   "cell_type": "code",
   "execution_count": 22,
   "id": "e1830244-782a-47b5-b899-e1ecf86cf44f",
   "metadata": {},
   "outputs": [],
   "source": [
    "def dataloader_to_numpy(dataloader):\n",
    "    X_list = []\n",
    "    y_list = []\n",
    "    for data, targets in dataloader:\n",
    "        X_list.append(data.numpy())\n",
    "        y_list.append(targets.numpy())\n",
    "    X = np.concatenate(X_list, axis=0)\n",
    "    y = np.concatenate(y_list, axis=0)\n",
    "    return X, y"
   ]
  },
  {
   "cell_type": "code",
   "execution_count": 23,
   "id": "97fa4999-9eee-4cb5-9a7d-64818903ec8b",
   "metadata": {},
   "outputs": [],
   "source": [
    "# Convert train and validation DataLoader to numpy arrays\n",
    "X_train, y_train = dataloader_to_numpy(train_loader)\n",
    "X_val, y_val = dataloader_to_numpy(val_loader)"
   ]
  },
  {
   "cell_type": "markdown",
   "id": "88652b32-e427-4720-a9db-bb8a2db6fc36",
   "metadata": {},
   "source": [
    "GridSearchCV expects the model to follow scikit-learn's interface, which means we won't be able to use the above PyTorch model. As such, we will create a wrapper class for the PyTorch model such that it adheres to the scikit-learn estimator interface."
   ]
  },
  {
   "cell_type": "code",
   "execution_count": 24,
   "id": "9c5e9580-08b9-44bb-827d-f0560a5e60b4",
   "metadata": {},
   "outputs": [],
   "source": [
    "from sklearn.model_selection import GridSearchCV\n",
    "from sklearn.base import BaseEstimator, ClassifierMixin"
   ]
  },
  {
   "cell_type": "code",
   "execution_count": 25,
   "id": "cd235028-afb2-4f21-aa0c-3e43ac4e9402",
   "metadata": {},
   "outputs": [],
   "source": [
    "class SklearnWrapper(BaseEstimator, ClassifierMixin):\n",
    "    def __init__(self, num_classes=CFG.NUM_CLASSES, dropout_rate=0.2, weight_decay=0.01, momentum=0.9, lr=0.001, device=CFG.DEVICE):\n",
    "        self.num_classes = num_classes\n",
    "        self.dropout_rate = dropout_rate\n",
    "        self.weight_decay = weight_decay\n",
    "        self.momentum = momentum\n",
    "        self.lr = lr\n",
    "        self.device = device\n",
    "        self.model = self._initialize_model()\n",
    "        self.loss_fn = nn.CrossEntropyLoss()\n",
    "\n",
    "    def _initialize_model(self):\n",
    "        model = torchvision.models.efficientnet_v2_l(weights=EfficientNet_V2_L_Weights.DEFAULT)\n",
    "        model.classifier = nn.Sequential(\n",
    "            nn.Dropout(p=self.dropout_rate, inplace=True),\n",
    "            nn.Linear(model.classifier[1].in_features, self.num_classes)\n",
    "        ).to(self.device)\n",
    "        return model\n",
    "\n",
    "    def fit(self, X, y):\n",
    "        X_tensor = torch.tensor(X).float().to(self.device)\n",
    "        y_tensor = torch.tensor(y).long().to(self.device)\n",
    "        dataset = TensorDataset(X_tensor, y_tensor)\n",
    "        dataloader = DataLoader(dataset, batch_size=CFG.BATCH_SIZE, shuffle=True)\n",
    "        optimizer = optim.AdamW(self.model.parameters(), lr=self.lr, weight_decay=self.weight_decay)\n",
    "\n",
    "        self.model.train()\n",
    "        for epoch in range(CFG.EPOCHS):\n",
    "            running_loss = 0\n",
    "            correct = 0\n",
    "            total = 0\n",
    "            for data, targets in dataloader:\n",
    "                optimizer.zero_grad()\n",
    "                outputs = self.model(data)\n",
    "                loss = self.loss_fn(outputs, targets)\n",
    "                loss.backward()\n",
    "                optimizer.step()\n",
    "                \n",
    "                running_loss += loss.item()\n",
    "                _, predicted = outputs.max(1)\n",
    "                total += targets.size(0)\n",
    "                correct += predicted.eq(targets).sum().item()\n",
    "            print(f'Epoch {epoch+1}/{CFG.EPOCHS}, Loss: {running_loss/len(dataloader):.4f}, Accuracy: {100.*correct/total:.2f}%')\n",
    "        return self\n",
    "\n",
    "    def predict(self, X):\n",
    "        X_tensor = torch.tensor(X).float().to(self.device)\n",
    "        dataset = TensorDataset(X_tensor)\n",
    "        dataloader = DataLoader(dataset, batch_size=CFG.BATCH_SIZE, shuffle=False)\n",
    "        \n",
    "        self.model.eval()\n",
    "        preds = []\n",
    "        with torch.no_grad():\n",
    "            for data in dataloader:\n",
    "                outputs = self.model(data[0])\n",
    "                _, predicted = outputs.max(1)\n",
    "                preds.append(predicted.cpu().numpy())\n",
    "        return np.concatenate(preds)\n",
    "\n",
    "    def score(self, X, y):\n",
    "        X_tensor = torch.tensor(X).float().to(self.device)\n",
    "        y_tensor = torch.tensor(y).long().to(self.device)\n",
    "        dataset = TensorDataset(X_tensor, y_tensor)\n",
    "        dataloader = DataLoader(dataset, batch_size=CFG.BATCH_SIZE, shuffle=False)\n",
    "        \n",
    "        self.model.eval()\n",
    "        correct = 0\n",
    "        total = 0\n",
    "        with torch.no_grad():\n",
    "            for data, targets in dataloader:\n",
    "                outputs = self.model(data[0])\n",
    "                _, predicted = outputs.max(1)\n",
    "                total += targets.size(0)\n",
    "                correct += predicted.eq(targets).sum().item()\n",
    "        return 100. * correct / total"
   ]
  },
  {
   "cell_type": "code",
   "execution_count": 37,
   "id": "778ba2de-9838-485f-aef7-43d5011df249",
   "metadata": {},
   "outputs": [],
   "source": [
    "# Define your parameter grid\n",
    "param_grid = {\n",
    "    'dropout_rate': [0.0, 0.1, 0.2],\n",
    "    'weight_decay': [0.0, 0.001, 0.01],\n",
    "    'momentum': [0.9, 0.95],\n",
    "    'lr': [1e-4, 1e-3, 1e-2]}"
   ]
  },
  {
   "cell_type": "markdown",
   "id": "03400694-57c4-4119-a37c-5cba57643605",
   "metadata": {},
   "source": [
    "Above, I have listed out a the parameters I want to explore and fine-tune. Below, I will discuss what they and the respective values I have picked mean:\n",
    "1. **dropout_rate:** Dropout is a regularization technique used to prevent overfitting in neural networks. It randomly drops a fraction of the neurons during training, forcing the network to learn more robust features. The dropout_rate parameter controls the probability of dropping neurons during training. A value of 0.0 means no dropout, while values closer to 1.0 mean more aggressive dropout.\n",
    "2. **weight_decay:** Weight decay, also known as L2 regularization, is a regularization technique that penalizes large weights in the model. It adds a term to the loss function proportional to the squared magnitude of the weights. The weight_decay parameter controls the strength of this penalty. A value of 0.0 means no weight decay, while higher values impose stronger regularization by penalizing larger weights more.\n",
    "3. **momentum:** Momentum is a parameter used in optimization algorithms like SGD (Stochastic Gradient Descent) with momentum and variants like Adam. It helps accelerate gradients in the right direction and dampens oscillations. The momentum parameter controls the momentum term in the optimization algorithm. A value close to 1.0 means higher momentum, which helps in faster convergence, while values closer to 0.0 mean less momentum.\n",
    "4. **lr (learning rate):** The learning rate is one of the most crucial hyperparameters in training neural networks. It determines the step size taken during optimization to update the weights of the network. The lr parameter controls the learning rate used in the optimization algorithm. Lower values lead to slower but more precise convergence, while higher values can speed up convergence but risk overshooting the minimum of the loss function.\n",
    "\n",
    "I'm trying to find the right balance between model capacity (dropout_rate), regularization (weight_decay), optimization stability (momentum), and convergence speed (learning rate) to achieve a better performance on my dataset without overfitting."
   ]
  },
  {
   "cell_type": "code",
   "execution_count": 38,
   "id": "cb7cf1d8-1b9b-4d76-a707-a52ac7ca70c3",
   "metadata": {},
   "outputs": [],
   "source": [
    "# Initialize the model and optimizer outside the loop\n",
    "# backbone_model = torchvision.models.efficientnet_v2_l(weights=EfficientNet_V2_L_Weights.DEFAULT)"
   ]
  },
  {
   "cell_type": "code",
   "execution_count": 39,
   "id": "0850a121-2c51-4cdd-b662-8da32f4de30f",
   "metadata": {},
   "outputs": [
    {
     "name": "stdout",
     "output_type": "stream",
     "text": [
      "Epoch 1/16, Loss: 1.0050, Accuracy: 59.21%\n",
      "Epoch 2/16, Loss: 0.2892, Accuracy: 95.07%\n",
      "Epoch 3/16, Loss: 0.1514, Accuracy: 97.04%\n",
      "Epoch 4/16, Loss: 0.0595, Accuracy: 99.01%\n",
      "Epoch 5/16, Loss: 0.0570, Accuracy: 98.68%\n",
      "Epoch 6/16, Loss: 0.0232, Accuracy: 100.00%\n",
      "Epoch 7/16, Loss: 0.0178, Accuracy: 100.00%\n",
      "Epoch 8/16, Loss: 0.0133, Accuracy: 100.00%\n",
      "Epoch 9/16, Loss: 0.0086, Accuracy: 100.00%\n",
      "Epoch 10/16, Loss: 0.0101, Accuracy: 100.00%\n",
      "Epoch 11/16, Loss: 0.0166, Accuracy: 99.67%\n",
      "Epoch 12/16, Loss: 0.0135, Accuracy: 99.67%\n",
      "Epoch 13/16, Loss: 0.0192, Accuracy: 99.67%\n",
      "Epoch 14/16, Loss: 0.0156, Accuracy: 99.67%\n",
      "Epoch 15/16, Loss: 0.0055, Accuracy: 100.00%\n",
      "Epoch 16/16, Loss: 0.0099, Accuracy: 100.00%\n",
      "Epoch 1/16, Loss: 1.0437, Accuracy: 56.58%\n",
      "Epoch 2/16, Loss: 0.4211, Accuracy: 91.45%\n",
      "Epoch 3/16, Loss: 0.1659, Accuracy: 96.38%\n",
      "Epoch 4/16, Loss: 0.0892, Accuracy: 99.01%\n",
      "Epoch 5/16, Loss: 0.0492, Accuracy: 99.67%\n",
      "Epoch 6/16, Loss: 0.0370, Accuracy: 99.67%\n",
      "Epoch 7/16, Loss: 0.0140, Accuracy: 100.00%\n",
      "Epoch 8/16, Loss: 0.0167, Accuracy: 100.00%\n",
      "Epoch 9/16, Loss: 0.0302, Accuracy: 99.67%\n",
      "Epoch 10/16, Loss: 0.0240, Accuracy: 99.34%\n",
      "Epoch 11/16, Loss: 0.0118, Accuracy: 99.67%\n",
      "Epoch 12/16, Loss: 0.0219, Accuracy: 99.67%\n",
      "Epoch 13/16, Loss: 0.0204, Accuracy: 99.67%\n",
      "Epoch 14/16, Loss: 0.0157, Accuracy: 99.67%\n",
      "Epoch 15/16, Loss: 0.0096, Accuracy: 100.00%\n",
      "Epoch 16/16, Loss: 0.0170, Accuracy: 99.67%\n",
      "Epoch 1/16, Loss: 1.0789, Accuracy: 53.95%\n",
      "Epoch 2/16, Loss: 0.3288, Accuracy: 94.74%\n",
      "Epoch 3/16, Loss: 0.1528, Accuracy: 98.03%\n",
      "Epoch 4/16, Loss: 0.0835, Accuracy: 98.36%\n",
      "Epoch 5/16, Loss: 0.0327, Accuracy: 100.00%\n",
      "Epoch 6/16, Loss: 0.0271, Accuracy: 99.67%\n",
      "Epoch 7/16, Loss: 0.0218, Accuracy: 100.00%\n",
      "Epoch 8/16, Loss: 0.0328, Accuracy: 99.67%\n",
      "Epoch 9/16, Loss: 0.0119, Accuracy: 100.00%\n",
      "Epoch 10/16, Loss: 0.0178, Accuracy: 100.00%\n",
      "Epoch 11/16, Loss: 0.0149, Accuracy: 99.67%\n",
      "Epoch 12/16, Loss: 0.0080, Accuracy: 100.00%\n",
      "Epoch 13/16, Loss: 0.0166, Accuracy: 99.67%\n",
      "Epoch 14/16, Loss: 0.0045, Accuracy: 100.00%\n",
      "Epoch 15/16, Loss: 0.0093, Accuracy: 100.00%\n",
      "Epoch 16/16, Loss: 0.0059, Accuracy: 100.00%\n",
      "Epoch 1/16, Loss: 1.0160, Accuracy: 55.26%\n",
      "Epoch 2/16, Loss: 0.3554, Accuracy: 92.11%\n",
      "Epoch 3/16, Loss: 0.1064, Accuracy: 99.01%\n",
      "Epoch 4/16, Loss: 0.0860, Accuracy: 99.34%\n",
      "Epoch 5/16, Loss: 0.0467, Accuracy: 99.01%\n",
      "Epoch 6/16, Loss: 0.0348, Accuracy: 99.34%\n",
      "Epoch 7/16, Loss: 0.0176, Accuracy: 100.00%\n",
      "Epoch 8/16, Loss: 0.0132, Accuracy: 100.00%\n",
      "Epoch 9/16, Loss: 0.0296, Accuracy: 99.34%\n",
      "Epoch 10/16, Loss: 0.0219, Accuracy: 99.67%\n",
      "Epoch 11/16, Loss: 0.0201, Accuracy: 99.67%\n",
      "Epoch 12/16, Loss: 0.0191, Accuracy: 99.34%\n",
      "Epoch 13/16, Loss: 0.0305, Accuracy: 99.67%\n",
      "Epoch 14/16, Loss: 0.0155, Accuracy: 99.34%\n",
      "Epoch 15/16, Loss: 0.1122, Accuracy: 98.03%\n",
      "Epoch 16/16, Loss: 0.0714, Accuracy: 98.68%\n",
      "Epoch 1/16, Loss: 1.0793, Accuracy: 54.28%\n",
      "Epoch 2/16, Loss: 0.4178, Accuracy: 91.45%\n",
      "Epoch 3/16, Loss: 0.2151, Accuracy: 95.07%\n",
      "Epoch 4/16, Loss: 0.0876, Accuracy: 98.68%\n",
      "Epoch 5/16, Loss: 0.0536, Accuracy: 99.01%\n",
      "Epoch 6/16, Loss: 0.0314, Accuracy: 100.00%\n",
      "Epoch 7/16, Loss: 0.0244, Accuracy: 100.00%\n",
      "Epoch 8/16, Loss: 0.0271, Accuracy: 99.67%\n",
      "Epoch 9/16, Loss: 0.0210, Accuracy: 100.00%\n",
      "Epoch 10/16, Loss: 0.0133, Accuracy: 100.00%\n",
      "Epoch 11/16, Loss: 0.0095, Accuracy: 100.00%\n",
      "Epoch 12/16, Loss: 0.0110, Accuracy: 99.67%\n",
      "Epoch 13/16, Loss: 0.0232, Accuracy: 99.67%\n",
      "Epoch 14/16, Loss: 0.0042, Accuracy: 100.00%\n",
      "Epoch 15/16, Loss: 0.0144, Accuracy: 99.67%\n",
      "Epoch 16/16, Loss: 0.0095, Accuracy: 100.00%\n",
      "Epoch 1/16, Loss: 0.9584, Accuracy: 62.83%\n",
      "Epoch 2/16, Loss: 0.3178, Accuracy: 93.75%\n",
      "Epoch 3/16, Loss: 0.1257, Accuracy: 98.03%\n",
      "Epoch 4/16, Loss: 0.0736, Accuracy: 98.68%\n",
      "Epoch 5/16, Loss: 0.0423, Accuracy: 99.67%\n",
      "Epoch 6/16, Loss: 0.0321, Accuracy: 100.00%\n",
      "Epoch 7/16, Loss: 0.0151, Accuracy: 100.00%\n",
      "Epoch 8/16, Loss: 0.0183, Accuracy: 100.00%\n",
      "Epoch 9/16, Loss: 0.0269, Accuracy: 99.67%\n",
      "Epoch 10/16, Loss: 0.0102, Accuracy: 100.00%\n",
      "Epoch 11/16, Loss: 0.0078, Accuracy: 100.00%\n",
      "Epoch 12/16, Loss: 0.0060, Accuracy: 100.00%\n",
      "Epoch 13/16, Loss: 0.0129, Accuracy: 99.67%\n",
      "Epoch 14/16, Loss: 0.0046, Accuracy: 100.00%\n",
      "Epoch 15/16, Loss: 0.0109, Accuracy: 100.00%\n",
      "Epoch 16/16, Loss: 0.0038, Accuracy: 100.00%\n",
      "Epoch 1/16, Loss: 1.0185, Accuracy: 58.55%\n",
      "Epoch 2/16, Loss: 0.2871, Accuracy: 95.39%\n",
      "Epoch 3/16, Loss: 0.1393, Accuracy: 97.04%\n",
      "Epoch 4/16, Loss: 0.0755, Accuracy: 99.01%\n",
      "Epoch 5/16, Loss: 0.0332, Accuracy: 99.67%\n",
      "Epoch 6/16, Loss: 0.0151, Accuracy: 100.00%\n",
      "Epoch 7/16, Loss: 0.0165, Accuracy: 100.00%\n",
      "Epoch 8/16, Loss: 0.0124, Accuracy: 100.00%\n",
      "Epoch 9/16, Loss: 0.0194, Accuracy: 99.67%\n",
      "Epoch 10/16, Loss: 0.0319, Accuracy: 99.67%\n",
      "Epoch 11/16, Loss: 0.0368, Accuracy: 99.34%\n",
      "Epoch 12/16, Loss: 0.0443, Accuracy: 98.68%\n",
      "Epoch 13/16, Loss: 0.0234, Accuracy: 99.34%\n",
      "Epoch 14/16, Loss: 0.0430, Accuracy: 99.34%\n",
      "Epoch 15/16, Loss: 0.0253, Accuracy: 99.67%\n",
      "Epoch 16/16, Loss: 0.0327, Accuracy: 99.34%\n",
      "Epoch 1/16, Loss: 1.0077, Accuracy: 57.57%\n",
      "Epoch 2/16, Loss: 0.3399, Accuracy: 92.76%\n",
      "Epoch 3/16, Loss: 0.1360, Accuracy: 99.01%\n",
      "Epoch 4/16, Loss: 0.0535, Accuracy: 99.34%\n",
      "Epoch 5/16, Loss: 0.0497, Accuracy: 99.67%\n",
      "Epoch 6/16, Loss: 0.0239, Accuracy: 100.00%\n",
      "Epoch 7/16, Loss: 0.0445, Accuracy: 99.01%\n",
      "Epoch 8/16, Loss: 0.0252, Accuracy: 99.67%\n",
      "Epoch 9/16, Loss: 0.0158, Accuracy: 100.00%\n",
      "Epoch 10/16, Loss: 0.0173, Accuracy: 99.67%\n",
      "Epoch 11/16, Loss: 0.0502, Accuracy: 99.34%\n",
      "Epoch 12/16, Loss: 0.0151, Accuracy: 99.67%\n",
      "Epoch 13/16, Loss: 0.0349, Accuracy: 99.01%\n",
      "Epoch 14/16, Loss: 0.0136, Accuracy: 100.00%\n",
      "Epoch 15/16, Loss: 0.0092, Accuracy: 100.00%\n",
      "Epoch 16/16, Loss: 0.0120, Accuracy: 99.67%\n",
      "Epoch 1/16, Loss: 1.0859, Accuracy: 52.96%\n",
      "Epoch 2/16, Loss: 0.3357, Accuracy: 93.42%\n",
      "Epoch 3/16, Loss: 0.1523, Accuracy: 97.04%\n",
      "Epoch 4/16, Loss: 0.0681, Accuracy: 99.01%\n",
      "Epoch 5/16, Loss: 0.0411, Accuracy: 99.34%\n",
      "Epoch 6/16, Loss: 0.0223, Accuracy: 99.67%\n",
      "Epoch 7/16, Loss: 0.0222, Accuracy: 99.67%\n",
      "Epoch 8/16, Loss: 0.0106, Accuracy: 100.00%\n",
      "Epoch 9/16, Loss: 0.0141, Accuracy: 100.00%\n",
      "Epoch 10/16, Loss: 0.0100, Accuracy: 100.00%\n",
      "Epoch 11/16, Loss: 0.0160, Accuracy: 99.67%\n",
      "Epoch 12/16, Loss: 0.0086, Accuracy: 100.00%\n",
      "Epoch 13/16, Loss: 0.0101, Accuracy: 100.00%\n",
      "Epoch 14/16, Loss: 0.0085, Accuracy: 99.67%\n",
      "Epoch 15/16, Loss: 0.0075, Accuracy: 100.00%\n",
      "Epoch 16/16, Loss: 0.0132, Accuracy: 99.34%\n",
      "Epoch 1/16, Loss: 0.9769, Accuracy: 61.51%\n",
      "Epoch 2/16, Loss: 0.4005, Accuracy: 91.78%\n",
      "Epoch 3/16, Loss: 0.1787, Accuracy: 97.37%\n",
      "Epoch 4/16, Loss: 0.0865, Accuracy: 99.01%\n",
      "Epoch 5/16, Loss: 0.0332, Accuracy: 99.67%\n",
      "Epoch 6/16, Loss: 0.0233, Accuracy: 100.00%\n",
      "Epoch 7/16, Loss: 0.0200, Accuracy: 99.67%\n",
      "Epoch 8/16, Loss: 0.0277, Accuracy: 99.34%\n",
      "Epoch 9/16, Loss: 0.0180, Accuracy: 100.00%\n",
      "Epoch 10/16, Loss: 0.0094, Accuracy: 100.00%\n",
      "Epoch 11/16, Loss: 0.0117, Accuracy: 100.00%\n",
      "Epoch 12/16, Loss: 0.0386, Accuracy: 99.34%\n",
      "Epoch 13/16, Loss: 0.0067, Accuracy: 100.00%\n",
      "Epoch 14/16, Loss: 0.0315, Accuracy: 99.34%\n",
      "Epoch 15/16, Loss: 0.0219, Accuracy: 99.67%\n",
      "Epoch 16/16, Loss: 0.0103, Accuracy: 100.00%\n",
      "Epoch 1/16, Loss: 1.0168, Accuracy: 60.86%\n",
      "Epoch 2/16, Loss: 0.3019, Accuracy: 96.71%\n",
      "Epoch 3/16, Loss: 0.1330, Accuracy: 98.68%\n",
      "Epoch 4/16, Loss: 0.0663, Accuracy: 99.67%\n",
      "Epoch 5/16, Loss: 0.0379, Accuracy: 99.67%\n",
      "Epoch 6/16, Loss: 0.0392, Accuracy: 99.34%\n",
      "Epoch 7/16, Loss: 0.0298, Accuracy: 99.67%\n",
      "Epoch 8/16, Loss: 0.0160, Accuracy: 99.67%\n",
      "Epoch 9/16, Loss: 0.0189, Accuracy: 99.67%\n",
      "Epoch 10/16, Loss: 0.0282, Accuracy: 98.68%\n",
      "Epoch 11/16, Loss: 0.0177, Accuracy: 99.67%\n",
      "Epoch 12/16, Loss: 0.0156, Accuracy: 99.67%\n",
      "Epoch 13/16, Loss: 0.0092, Accuracy: 100.00%\n",
      "Epoch 14/16, Loss: 0.0099, Accuracy: 100.00%\n",
      "Epoch 15/16, Loss: 0.0145, Accuracy: 99.34%\n",
      "Epoch 16/16, Loss: 0.0047, Accuracy: 100.00%\n",
      "Epoch 1/16, Loss: 1.0129, Accuracy: 59.21%\n",
      "Epoch 2/16, Loss: 0.3653, Accuracy: 90.79%\n",
      "Epoch 3/16, Loss: 0.1344, Accuracy: 98.36%\n",
      "Epoch 4/16, Loss: 0.0599, Accuracy: 99.01%\n",
      "Epoch 5/16, Loss: 0.0494, Accuracy: 99.01%\n",
      "Epoch 6/16, Loss: 0.0198, Accuracy: 100.00%\n",
      "Epoch 7/16, Loss: 0.0187, Accuracy: 100.00%\n",
      "Epoch 8/16, Loss: 0.0208, Accuracy: 99.67%\n",
      "Epoch 9/16, Loss: 0.0106, Accuracy: 100.00%\n",
      "Epoch 10/16, Loss: 0.0143, Accuracy: 100.00%\n",
      "Epoch 11/16, Loss: 0.0445, Accuracy: 98.68%\n",
      "Epoch 12/16, Loss: 0.0428, Accuracy: 99.34%\n",
      "Epoch 13/16, Loss: 0.0205, Accuracy: 100.00%\n",
      "Epoch 14/16, Loss: 0.0126, Accuracy: 100.00%\n",
      "Epoch 15/16, Loss: 0.0169, Accuracy: 100.00%\n",
      "Epoch 16/16, Loss: 0.0087, Accuracy: 100.00%\n",
      "Epoch 1/16, Loss: 1.0264, Accuracy: 56.91%\n",
      "Epoch 2/16, Loss: 0.3335, Accuracy: 93.75%\n",
      "Epoch 3/16, Loss: 0.1529, Accuracy: 98.03%\n",
      "Epoch 4/16, Loss: 0.0523, Accuracy: 100.00%\n",
      "Epoch 5/16, Loss: 0.0314, Accuracy: 100.00%\n",
      "Epoch 6/16, Loss: 0.0183, Accuracy: 100.00%\n",
      "Epoch 7/16, Loss: 0.0188, Accuracy: 100.00%\n",
      "Epoch 8/16, Loss: 0.0142, Accuracy: 99.67%\n",
      "Epoch 9/16, Loss: 0.0177, Accuracy: 100.00%\n",
      "Epoch 10/16, Loss: 0.0171, Accuracy: 100.00%\n",
      "Epoch 11/16, Loss: 0.0111, Accuracy: 100.00%\n",
      "Epoch 12/16, Loss: 0.0127, Accuracy: 99.67%\n",
      "Epoch 13/16, Loss: 0.0082, Accuracy: 100.00%\n",
      "Epoch 14/16, Loss: 0.0233, Accuracy: 99.01%\n",
      "Epoch 15/16, Loss: 0.0180, Accuracy: 99.34%\n",
      "Epoch 16/16, Loss: 0.0290, Accuracy: 99.01%\n",
      "Epoch 1/16, Loss: 1.1091, Accuracy: 52.96%\n",
      "Epoch 2/16, Loss: 0.4256, Accuracy: 92.11%\n",
      "Epoch 3/16, Loss: 0.1708, Accuracy: 96.71%\n",
      "Epoch 4/16, Loss: 0.0597, Accuracy: 100.00%\n",
      "Epoch 5/16, Loss: 0.0313, Accuracy: 100.00%\n",
      "Epoch 6/16, Loss: 0.0292, Accuracy: 100.00%\n",
      "Epoch 7/16, Loss: 0.0117, Accuracy: 100.00%\n",
      "Epoch 8/16, Loss: 0.0154, Accuracy: 100.00%\n",
      "Epoch 9/16, Loss: 0.0156, Accuracy: 100.00%\n",
      "Epoch 10/16, Loss: 0.0313, Accuracy: 99.34%\n",
      "Epoch 11/16, Loss: 0.0294, Accuracy: 99.01%\n",
      "Epoch 12/16, Loss: 0.0287, Accuracy: 99.34%\n",
      "Epoch 13/16, Loss: 0.0269, Accuracy: 99.34%\n",
      "Epoch 14/16, Loss: 0.0322, Accuracy: 99.34%\n",
      "Epoch 15/16, Loss: 0.0263, Accuracy: 99.67%\n",
      "Epoch 16/16, Loss: 0.0204, Accuracy: 99.34%\n",
      "Epoch 1/16, Loss: 0.9809, Accuracy: 61.51%\n",
      "Epoch 2/16, Loss: 0.3134, Accuracy: 93.42%\n",
      "Epoch 3/16, Loss: 0.1311, Accuracy: 98.36%\n",
      "Epoch 4/16, Loss: 0.0624, Accuracy: 99.34%\n",
      "Epoch 5/16, Loss: 0.0338, Accuracy: 99.67%\n",
      "Epoch 6/16, Loss: 0.0257, Accuracy: 100.00%\n",
      "Epoch 7/16, Loss: 0.0211, Accuracy: 99.67%\n",
      "Epoch 8/16, Loss: 0.0122, Accuracy: 100.00%\n",
      "Epoch 9/16, Loss: 0.0397, Accuracy: 98.68%\n",
      "Epoch 10/16, Loss: 0.0351, Accuracy: 99.34%\n",
      "Epoch 11/16, Loss: 0.0189, Accuracy: 99.34%\n",
      "Epoch 12/16, Loss: 0.0215, Accuracy: 99.01%\n",
      "Epoch 13/16, Loss: 0.0102, Accuracy: 100.00%\n",
      "Epoch 14/16, Loss: 0.0168, Accuracy: 99.67%\n",
      "Epoch 15/16, Loss: 0.0149, Accuracy: 99.67%\n",
      "Epoch 16/16, Loss: 0.0116, Accuracy: 99.67%\n",
      "Epoch 1/16, Loss: 1.0197, Accuracy: 63.82%\n",
      "Epoch 2/16, Loss: 0.3687, Accuracy: 91.78%\n",
      "Epoch 3/16, Loss: 0.1398, Accuracy: 98.68%\n",
      "Epoch 4/16, Loss: 0.0755, Accuracy: 99.01%\n",
      "Epoch 5/16, Loss: 0.0393, Accuracy: 99.67%\n",
      "Epoch 6/16, Loss: 0.0158, Accuracy: 100.00%\n",
      "Epoch 7/16, Loss: 0.0135, Accuracy: 100.00%\n",
      "Epoch 8/16, Loss: 0.0229, Accuracy: 99.67%\n",
      "Epoch 9/16, Loss: 0.0088, Accuracy: 100.00%\n",
      "Epoch 10/16, Loss: 0.0183, Accuracy: 99.67%\n",
      "Epoch 11/16, Loss: 0.0273, Accuracy: 99.67%\n",
      "Epoch 12/16, Loss: 0.0065, Accuracy: 100.00%\n",
      "Epoch 13/16, Loss: 0.0234, Accuracy: 99.67%\n",
      "Epoch 14/16, Loss: 0.0130, Accuracy: 100.00%\n",
      "Epoch 15/16, Loss: 0.0170, Accuracy: 99.67%\n",
      "Epoch 16/16, Loss: 0.0240, Accuracy: 99.34%\n",
      "Epoch 1/16, Loss: 1.0031, Accuracy: 58.55%\n",
      "Epoch 2/16, Loss: 0.3515, Accuracy: 91.78%\n",
      "Epoch 3/16, Loss: 0.1153, Accuracy: 98.36%\n",
      "Epoch 4/16, Loss: 0.0690, Accuracy: 98.68%\n",
      "Epoch 5/16, Loss: 0.0298, Accuracy: 99.67%\n",
      "Epoch 6/16, Loss: 0.0229, Accuracy: 100.00%\n",
      "Epoch 7/16, Loss: 0.0411, Accuracy: 99.01%\n",
      "Epoch 8/16, Loss: 0.0178, Accuracy: 100.00%\n",
      "Epoch 9/16, Loss: 0.0280, Accuracy: 99.67%\n",
      "Epoch 10/16, Loss: 0.0108, Accuracy: 100.00%\n",
      "Epoch 11/16, Loss: 0.0092, Accuracy: 100.00%\n",
      "Epoch 12/16, Loss: 0.0051, Accuracy: 100.00%\n",
      "Epoch 13/16, Loss: 0.0122, Accuracy: 99.67%\n",
      "Epoch 14/16, Loss: 0.0100, Accuracy: 100.00%\n",
      "Epoch 15/16, Loss: 0.0054, Accuracy: 100.00%\n",
      "Epoch 16/16, Loss: 0.0137, Accuracy: 99.67%\n",
      "Epoch 1/16, Loss: 1.0319, Accuracy: 57.89%\n",
      "Epoch 2/16, Loss: 0.3539, Accuracy: 94.08%\n",
      "Epoch 3/16, Loss: 0.1366, Accuracy: 98.36%\n",
      "Epoch 4/16, Loss: 0.0839, Accuracy: 98.68%\n",
      "Epoch 5/16, Loss: 0.0326, Accuracy: 99.67%\n",
      "Epoch 6/16, Loss: 0.0367, Accuracy: 99.34%\n",
      "Epoch 7/16, Loss: 0.0468, Accuracy: 99.67%\n",
      "Epoch 8/16, Loss: 0.0273, Accuracy: 99.67%\n",
      "Epoch 9/16, Loss: 0.0193, Accuracy: 99.67%\n",
      "Epoch 10/16, Loss: 0.0284, Accuracy: 99.67%\n",
      "Epoch 11/16, Loss: 0.0228, Accuracy: 99.34%\n",
      "Epoch 12/16, Loss: 0.0415, Accuracy: 98.68%\n",
      "Epoch 13/16, Loss: 0.0311, Accuracy: 99.01%\n",
      "Epoch 14/16, Loss: 0.0195, Accuracy: 99.67%\n",
      "Epoch 15/16, Loss: 0.0256, Accuracy: 99.34%\n",
      "Epoch 16/16, Loss: 0.0499, Accuracy: 99.34%\n",
      "Epoch 1/16, Loss: 0.7854, Accuracy: 68.09%\n",
      "Epoch 2/16, Loss: 0.5428, Accuracy: 80.26%\n",
      "Epoch 3/16, Loss: 0.3529, Accuracy: 86.84%\n",
      "Epoch 4/16, Loss: 0.4071, Accuracy: 86.84%\n",
      "Epoch 5/16, Loss: 0.3544, Accuracy: 88.82%\n",
      "Epoch 6/16, Loss: 0.2466, Accuracy: 93.42%\n",
      "Epoch 7/16, Loss: 0.2358, Accuracy: 92.11%\n",
      "Epoch 8/16, Loss: 0.1831, Accuracy: 94.74%\n",
      "Epoch 9/16, Loss: 0.0780, Accuracy: 98.68%\n",
      "Epoch 10/16, Loss: 0.1445, Accuracy: 97.70%\n",
      "Epoch 11/16, Loss: 0.1170, Accuracy: 95.72%\n",
      "Epoch 12/16, Loss: 0.1773, Accuracy: 94.41%\n",
      "Epoch 13/16, Loss: 0.1666, Accuracy: 96.71%\n",
      "Epoch 14/16, Loss: 0.1691, Accuracy: 94.41%\n",
      "Epoch 15/16, Loss: 0.0710, Accuracy: 97.37%\n",
      "Epoch 16/16, Loss: 0.0693, Accuracy: 97.04%\n",
      "Epoch 1/16, Loss: 0.9693, Accuracy: 62.17%\n",
      "Epoch 2/16, Loss: 0.4803, Accuracy: 82.57%\n",
      "Epoch 3/16, Loss: 0.4564, Accuracy: 82.24%\n",
      "Epoch 4/16, Loss: 0.3880, Accuracy: 88.16%\n",
      "Epoch 5/16, Loss: 0.4043, Accuracy: 87.17%\n",
      "Epoch 6/16, Loss: 0.2482, Accuracy: 91.78%\n",
      "Epoch 7/16, Loss: 0.1616, Accuracy: 95.07%\n",
      "Epoch 8/16, Loss: 0.1226, Accuracy: 96.38%\n",
      "Epoch 9/16, Loss: 0.2712, Accuracy: 93.75%\n",
      "Epoch 10/16, Loss: 0.1431, Accuracy: 95.39%\n",
      "Epoch 11/16, Loss: 0.0569, Accuracy: 98.68%\n",
      "Epoch 12/16, Loss: 0.0325, Accuracy: 99.34%\n",
      "Epoch 13/16, Loss: 0.1304, Accuracy: 96.05%\n",
      "Epoch 14/16, Loss: 0.1050, Accuracy: 96.71%\n",
      "Epoch 15/16, Loss: 0.0963, Accuracy: 97.70%\n",
      "Epoch 16/16, Loss: 0.0408, Accuracy: 99.01%\n",
      "Epoch 1/16, Loss: 0.9712, Accuracy: 64.14%\n",
      "Epoch 2/16, Loss: 0.5404, Accuracy: 80.26%\n",
      "Epoch 3/16, Loss: 0.3370, Accuracy: 90.13%\n",
      "Epoch 4/16, Loss: 0.3402, Accuracy: 89.47%\n",
      "Epoch 5/16, Loss: 0.2741, Accuracy: 92.11%\n",
      "Epoch 6/16, Loss: 0.1948, Accuracy: 92.76%\n",
      "Epoch 7/16, Loss: 0.1674, Accuracy: 94.41%\n",
      "Epoch 8/16, Loss: 0.1120, Accuracy: 96.38%\n",
      "Epoch 9/16, Loss: 0.0947, Accuracy: 97.37%\n",
      "Epoch 10/16, Loss: 0.0791, Accuracy: 98.68%\n",
      "Epoch 11/16, Loss: 0.2243, Accuracy: 96.71%\n",
      "Epoch 12/16, Loss: 0.1724, Accuracy: 95.72%\n",
      "Epoch 13/16, Loss: 0.1943, Accuracy: 93.09%\n",
      "Epoch 14/16, Loss: 0.1363, Accuracy: 95.07%\n",
      "Epoch 15/16, Loss: 0.1066, Accuracy: 96.71%\n",
      "Epoch 16/16, Loss: 0.1227, Accuracy: 95.72%\n",
      "Epoch 1/16, Loss: 0.7919, Accuracy: 70.39%\n",
      "Epoch 2/16, Loss: 0.5037, Accuracy: 83.22%\n",
      "Epoch 3/16, Loss: 0.3019, Accuracy: 90.13%\n",
      "Epoch 4/16, Loss: 0.3337, Accuracy: 91.45%\n",
      "Epoch 5/16, Loss: 0.2062, Accuracy: 93.75%\n",
      "Epoch 6/16, Loss: 0.1573, Accuracy: 96.05%\n",
      "Epoch 7/16, Loss: 0.1915, Accuracy: 94.74%\n",
      "Epoch 8/16, Loss: 0.2124, Accuracy: 94.74%\n",
      "Epoch 9/16, Loss: 0.1478, Accuracy: 95.07%\n",
      "Epoch 10/16, Loss: 0.1152, Accuracy: 95.39%\n",
      "Epoch 11/16, Loss: 0.1350, Accuracy: 94.41%\n",
      "Epoch 12/16, Loss: 0.1283, Accuracy: 96.05%\n",
      "Epoch 13/16, Loss: 0.6831, Accuracy: 89.47%\n",
      "Epoch 14/16, Loss: 0.4619, Accuracy: 90.13%\n",
      "Epoch 15/16, Loss: 0.4056, Accuracy: 91.45%\n",
      "Epoch 16/16, Loss: 0.2235, Accuracy: 92.43%\n",
      "Epoch 1/16, Loss: 0.8508, Accuracy: 61.18%\n",
      "Epoch 2/16, Loss: 0.5228, Accuracy: 82.57%\n",
      "Epoch 3/16, Loss: 0.4649, Accuracy: 85.86%\n",
      "Epoch 4/16, Loss: 0.3301, Accuracy: 90.79%\n",
      "Epoch 5/16, Loss: 0.1652, Accuracy: 95.39%\n",
      "Epoch 6/16, Loss: 0.2049, Accuracy: 94.08%\n",
      "Epoch 7/16, Loss: 0.2336, Accuracy: 93.42%\n",
      "Epoch 8/16, Loss: 0.2141, Accuracy: 93.42%\n",
      "Epoch 9/16, Loss: 0.3243, Accuracy: 91.45%\n",
      "Epoch 10/16, Loss: 0.1369, Accuracy: 96.38%\n",
      "Epoch 11/16, Loss: 0.0798, Accuracy: 97.04%\n",
      "Epoch 12/16, Loss: 0.0385, Accuracy: 99.01%\n",
      "Epoch 13/16, Loss: 0.0411, Accuracy: 99.01%\n",
      "Epoch 14/16, Loss: 0.0925, Accuracy: 97.04%\n",
      "Epoch 15/16, Loss: 0.1605, Accuracy: 96.71%\n",
      "Epoch 16/16, Loss: 0.1056, Accuracy: 96.71%\n",
      "Epoch 1/16, Loss: 0.7372, Accuracy: 70.07%\n",
      "Epoch 2/16, Loss: 0.8513, Accuracy: 77.96%\n",
      "Epoch 3/16, Loss: 0.5494, Accuracy: 85.86%\n",
      "Epoch 4/16, Loss: 0.2850, Accuracy: 92.43%\n",
      "Epoch 5/16, Loss: 0.1643, Accuracy: 93.09%\n",
      "Epoch 6/16, Loss: 0.2356, Accuracy: 93.09%\n",
      "Epoch 7/16, Loss: 0.2234, Accuracy: 93.09%\n",
      "Epoch 8/16, Loss: 0.2819, Accuracy: 90.79%\n",
      "Epoch 9/16, Loss: 0.2031, Accuracy: 94.74%\n",
      "Epoch 10/16, Loss: 0.0939, Accuracy: 98.03%\n",
      "Epoch 11/16, Loss: 0.0549, Accuracy: 96.71%\n",
      "Epoch 12/16, Loss: 0.0714, Accuracy: 97.04%\n",
      "Epoch 13/16, Loss: 0.0120, Accuracy: 99.67%\n",
      "Epoch 14/16, Loss: 0.0267, Accuracy: 99.34%\n",
      "Epoch 15/16, Loss: 0.0412, Accuracy: 99.01%\n",
      "Epoch 16/16, Loss: 0.0622, Accuracy: 98.36%\n",
      "Epoch 1/16, Loss: 0.7521, Accuracy: 71.05%\n",
      "Epoch 2/16, Loss: 0.4677, Accuracy: 87.83%\n",
      "Epoch 3/16, Loss: 0.4247, Accuracy: 87.17%\n",
      "Epoch 4/16, Loss: 0.3077, Accuracy: 91.12%\n",
      "Epoch 5/16, Loss: 0.2289, Accuracy: 94.08%\n",
      "Epoch 6/16, Loss: 0.2158, Accuracy: 95.07%\n",
      "Epoch 7/16, Loss: 0.1547, Accuracy: 94.08%\n",
      "Epoch 8/16, Loss: 0.1050, Accuracy: 97.04%\n",
      "Epoch 9/16, Loss: 0.0900, Accuracy: 98.68%\n",
      "Epoch 10/16, Loss: 0.4340, Accuracy: 90.13%\n",
      "Epoch 11/16, Loss: 0.2477, Accuracy: 93.75%\n",
      "Epoch 12/16, Loss: 0.2154, Accuracy: 93.42%\n",
      "Epoch 13/16, Loss: 0.0602, Accuracy: 98.36%\n",
      "Epoch 14/16, Loss: 0.1091, Accuracy: 96.38%\n",
      "Epoch 15/16, Loss: 0.1904, Accuracy: 93.42%\n",
      "Epoch 16/16, Loss: 0.0940, Accuracy: 97.04%\n",
      "Epoch 1/16, Loss: 0.7868, Accuracy: 70.07%\n",
      "Epoch 2/16, Loss: 0.6366, Accuracy: 82.57%\n",
      "Epoch 3/16, Loss: 0.6219, Accuracy: 79.28%\n",
      "Epoch 4/16, Loss: 0.5652, Accuracy: 85.86%\n",
      "Epoch 5/16, Loss: 0.3102, Accuracy: 89.14%\n",
      "Epoch 6/16, Loss: 0.1058, Accuracy: 97.04%\n",
      "Epoch 7/16, Loss: 0.1387, Accuracy: 96.38%\n",
      "Epoch 8/16, Loss: 0.2320, Accuracy: 93.42%\n",
      "Epoch 9/16, Loss: 0.1987, Accuracy: 94.74%\n",
      "Epoch 10/16, Loss: 0.1117, Accuracy: 97.04%\n",
      "Epoch 11/16, Loss: 0.1441, Accuracy: 96.38%\n",
      "Epoch 12/16, Loss: 0.0891, Accuracy: 98.03%\n",
      "Epoch 13/16, Loss: 0.1466, Accuracy: 96.05%\n",
      "Epoch 14/16, Loss: 0.0735, Accuracy: 97.37%\n",
      "Epoch 15/16, Loss: 0.0280, Accuracy: 99.67%\n",
      "Epoch 16/16, Loss: 0.1003, Accuracy: 97.37%\n",
      "Epoch 1/16, Loss: 0.8298, Accuracy: 67.76%\n",
      "Epoch 2/16, Loss: 0.5391, Accuracy: 82.57%\n",
      "Epoch 3/16, Loss: 0.4354, Accuracy: 86.84%\n",
      "Epoch 4/16, Loss: 0.3526, Accuracy: 88.82%\n",
      "Epoch 5/16, Loss: 0.3194, Accuracy: 92.43%\n",
      "Epoch 6/16, Loss: 0.1731, Accuracy: 95.72%\n",
      "Epoch 7/16, Loss: 0.2286, Accuracy: 93.75%\n",
      "Epoch 8/16, Loss: 0.3382, Accuracy: 91.78%\n",
      "Epoch 9/16, Loss: 0.2911, Accuracy: 92.43%\n",
      "Epoch 10/16, Loss: 0.2825, Accuracy: 91.45%\n",
      "Epoch 11/16, Loss: 0.2410, Accuracy: 93.09%\n",
      "Epoch 12/16, Loss: 0.1201, Accuracy: 97.37%\n",
      "Epoch 13/16, Loss: 0.1317, Accuracy: 95.72%\n",
      "Epoch 14/16, Loss: 0.1525, Accuracy: 95.07%\n",
      "Epoch 15/16, Loss: 0.1081, Accuracy: 97.04%\n",
      "Epoch 16/16, Loss: 0.1842, Accuracy: 95.72%\n",
      "Epoch 1/16, Loss: 0.8058, Accuracy: 70.72%\n",
      "Epoch 2/16, Loss: 0.4822, Accuracy: 85.20%\n",
      "Epoch 3/16, Loss: 0.5147, Accuracy: 82.57%\n",
      "Epoch 4/16, Loss: 0.3092, Accuracy: 92.11%\n",
      "Epoch 5/16, Loss: 0.2818, Accuracy: 91.45%\n",
      "Epoch 6/16, Loss: 0.1080, Accuracy: 97.70%\n",
      "Epoch 7/16, Loss: 0.1626, Accuracy: 94.74%\n",
      "Epoch 8/16, Loss: 0.1786, Accuracy: 94.41%\n",
      "Epoch 9/16, Loss: 0.2694, Accuracy: 93.42%\n",
      "Epoch 10/16, Loss: 0.2062, Accuracy: 96.38%\n",
      "Epoch 11/16, Loss: 0.2690, Accuracy: 91.45%\n",
      "Epoch 12/16, Loss: 0.2036, Accuracy: 94.41%\n",
      "Epoch 13/16, Loss: 0.1773, Accuracy: 94.41%\n",
      "Epoch 14/16, Loss: 0.2153, Accuracy: 96.05%\n",
      "Epoch 15/16, Loss: 0.1401, Accuracy: 95.07%\n",
      "Epoch 16/16, Loss: 0.0824, Accuracy: 96.71%\n",
      "Epoch 1/16, Loss: 0.8126, Accuracy: 66.12%\n",
      "Epoch 2/16, Loss: 0.7483, Accuracy: 77.63%\n",
      "Epoch 3/16, Loss: 0.3775, Accuracy: 87.83%\n",
      "Epoch 4/16, Loss: 0.3951, Accuracy: 86.84%\n",
      "Epoch 5/16, Loss: 0.3489, Accuracy: 85.86%\n",
      "Epoch 6/16, Loss: 0.1526, Accuracy: 95.72%\n",
      "Epoch 7/16, Loss: 0.1612, Accuracy: 93.75%\n",
      "Epoch 8/16, Loss: 0.1708, Accuracy: 94.74%\n",
      "Epoch 9/16, Loss: 0.1740, Accuracy: 95.07%\n",
      "Epoch 10/16, Loss: 0.0815, Accuracy: 97.04%\n",
      "Epoch 11/16, Loss: 0.0826, Accuracy: 98.36%\n",
      "Epoch 12/16, Loss: 0.2054, Accuracy: 93.75%\n",
      "Epoch 13/16, Loss: 0.2143, Accuracy: 92.11%\n",
      "Epoch 14/16, Loss: 0.0883, Accuracy: 96.71%\n",
      "Epoch 15/16, Loss: 0.0972, Accuracy: 98.03%\n",
      "Epoch 16/16, Loss: 0.1348, Accuracy: 96.05%\n",
      "Epoch 1/16, Loss: 0.8282, Accuracy: 65.13%\n",
      "Epoch 2/16, Loss: 0.4982, Accuracy: 79.93%\n",
      "Epoch 3/16, Loss: 0.5486, Accuracy: 87.17%\n",
      "Epoch 4/16, Loss: 0.4360, Accuracy: 88.16%\n",
      "Epoch 5/16, Loss: 0.3686, Accuracy: 87.17%\n",
      "Epoch 6/16, Loss: 0.2064, Accuracy: 92.43%\n",
      "Epoch 7/16, Loss: 0.1934, Accuracy: 93.09%\n",
      "Epoch 8/16, Loss: 0.1519, Accuracy: 94.74%\n",
      "Epoch 9/16, Loss: 0.2026, Accuracy: 93.75%\n",
      "Epoch 10/16, Loss: 0.2045, Accuracy: 93.75%\n",
      "Epoch 11/16, Loss: 0.1689, Accuracy: 94.41%\n",
      "Epoch 12/16, Loss: 0.0627, Accuracy: 98.68%\n",
      "Epoch 13/16, Loss: 0.0890, Accuracy: 97.70%\n",
      "Epoch 14/16, Loss: 0.1309, Accuracy: 96.38%\n",
      "Epoch 15/16, Loss: 0.1190, Accuracy: 97.04%\n",
      "Epoch 16/16, Loss: 0.0778, Accuracy: 99.34%\n",
      "Epoch 1/16, Loss: 0.8117, Accuracy: 63.16%\n",
      "Epoch 2/16, Loss: 0.6741, Accuracy: 77.63%\n",
      "Epoch 3/16, Loss: 0.5096, Accuracy: 87.50%\n",
      "Epoch 4/16, Loss: 0.3959, Accuracy: 87.83%\n",
      "Epoch 5/16, Loss: 0.2882, Accuracy: 91.45%\n",
      "Epoch 6/16, Loss: 0.2968, Accuracy: 89.14%\n",
      "Epoch 7/16, Loss: 0.2184, Accuracy: 94.08%\n",
      "Epoch 8/16, Loss: 0.2194, Accuracy: 94.74%\n",
      "Epoch 9/16, Loss: 0.1447, Accuracy: 97.04%\n",
      "Epoch 10/16, Loss: 0.0614, Accuracy: 97.37%\n",
      "Epoch 11/16, Loss: 0.0971, Accuracy: 96.05%\n",
      "Epoch 12/16, Loss: 0.0822, Accuracy: 98.36%\n",
      "Epoch 13/16, Loss: 0.0928, Accuracy: 95.72%\n",
      "Epoch 14/16, Loss: 0.1447, Accuracy: 97.37%\n",
      "Epoch 15/16, Loss: 0.2419, Accuracy: 92.43%\n",
      "Epoch 16/16, Loss: 0.2377, Accuracy: 92.11%\n",
      "Epoch 1/16, Loss: 0.8810, Accuracy: 63.82%\n",
      "Epoch 2/16, Loss: 0.4993, Accuracy: 81.25%\n",
      "Epoch 3/16, Loss: 0.3440, Accuracy: 90.79%\n",
      "Epoch 4/16, Loss: 0.3610, Accuracy: 86.84%\n",
      "Epoch 5/16, Loss: 0.2506, Accuracy: 91.45%\n",
      "Epoch 6/16, Loss: 0.1498, Accuracy: 95.39%\n",
      "Epoch 7/16, Loss: 0.1197, Accuracy: 96.38%\n",
      "Epoch 8/16, Loss: 0.1905, Accuracy: 93.09%\n",
      "Epoch 9/16, Loss: 0.2217, Accuracy: 90.79%\n",
      "Epoch 10/16, Loss: 0.1307, Accuracy: 96.05%\n",
      "Epoch 11/16, Loss: 0.1611, Accuracy: 95.72%\n",
      "Epoch 12/16, Loss: 0.1947, Accuracy: 95.72%\n",
      "Epoch 13/16, Loss: 0.0607, Accuracy: 99.01%\n",
      "Epoch 14/16, Loss: 0.0955, Accuracy: 98.03%\n",
      "Epoch 15/16, Loss: 0.0863, Accuracy: 97.37%\n",
      "Epoch 16/16, Loss: 0.0652, Accuracy: 97.70%\n",
      "Epoch 1/16, Loss: 0.8197, Accuracy: 67.11%\n",
      "Epoch 2/16, Loss: 0.5050, Accuracy: 84.21%\n",
      "Epoch 3/16, Loss: 0.3495, Accuracy: 87.50%\n",
      "Epoch 4/16, Loss: 0.2718, Accuracy: 91.12%\n",
      "Epoch 5/16, Loss: 0.3717, Accuracy: 89.47%\n",
      "Epoch 6/16, Loss: 0.2119, Accuracy: 93.75%\n",
      "Epoch 7/16, Loss: 0.0557, Accuracy: 98.68%\n",
      "Epoch 8/16, Loss: 0.0692, Accuracy: 97.70%\n",
      "Epoch 9/16, Loss: 0.2649, Accuracy: 94.08%\n",
      "Epoch 10/16, Loss: 0.0903, Accuracy: 97.04%\n",
      "Epoch 11/16, Loss: 0.1590, Accuracy: 93.75%\n",
      "Epoch 12/16, Loss: 0.2828, Accuracy: 90.79%\n",
      "Epoch 13/16, Loss: 0.2529, Accuracy: 93.75%\n",
      "Epoch 14/16, Loss: 0.2195, Accuracy: 92.76%\n",
      "Epoch 15/16, Loss: 0.1713, Accuracy: 95.39%\n",
      "Epoch 16/16, Loss: 0.0590, Accuracy: 98.03%\n",
      "Epoch 1/16, Loss: 0.7532, Accuracy: 68.75%\n",
      "Epoch 2/16, Loss: 0.6138, Accuracy: 81.58%\n",
      "Epoch 3/16, Loss: 0.4830, Accuracy: 83.22%\n",
      "Epoch 4/16, Loss: 0.2367, Accuracy: 92.76%\n",
      "Epoch 5/16, Loss: 0.2713, Accuracy: 93.75%\n",
      "Epoch 6/16, Loss: 0.2673, Accuracy: 92.11%\n",
      "Epoch 7/16, Loss: 0.1349, Accuracy: 96.05%\n",
      "Epoch 8/16, Loss: 0.2146, Accuracy: 94.41%\n",
      "Epoch 9/16, Loss: 0.1207, Accuracy: 96.38%\n",
      "Epoch 10/16, Loss: 0.0849, Accuracy: 97.37%\n",
      "Epoch 11/16, Loss: 0.0808, Accuracy: 98.36%\n",
      "Epoch 12/16, Loss: 0.0642, Accuracy: 98.36%\n",
      "Epoch 13/16, Loss: 0.0455, Accuracy: 98.68%\n",
      "Epoch 14/16, Loss: 0.0712, Accuracy: 97.70%\n",
      "Epoch 15/16, Loss: 0.0345, Accuracy: 98.68%\n",
      "Epoch 16/16, Loss: 0.0737, Accuracy: 97.37%\n",
      "Epoch 1/16, Loss: 0.8857, Accuracy: 62.83%\n",
      "Epoch 2/16, Loss: 0.5956, Accuracy: 82.57%\n",
      "Epoch 3/16, Loss: 0.4536, Accuracy: 85.53%\n",
      "Epoch 4/16, Loss: 0.4782, Accuracy: 85.53%\n",
      "Epoch 5/16, Loss: 0.3109, Accuracy: 90.46%\n",
      "Epoch 6/16, Loss: 0.2743, Accuracy: 91.45%\n",
      "Epoch 7/16, Loss: 0.1580, Accuracy: 94.74%\n",
      "Epoch 8/16, Loss: 0.2362, Accuracy: 93.75%\n",
      "Epoch 9/16, Loss: 0.1271, Accuracy: 95.72%\n",
      "Epoch 10/16, Loss: 0.1851, Accuracy: 94.74%\n",
      "Epoch 11/16, Loss: 0.1115, Accuracy: 95.72%\n",
      "Epoch 12/16, Loss: 0.2188, Accuracy: 93.42%\n",
      "Epoch 13/16, Loss: 0.1177, Accuracy: 97.04%\n",
      "Epoch 14/16, Loss: 0.1423, Accuracy: 97.37%\n",
      "Epoch 15/16, Loss: 0.1395, Accuracy: 95.72%\n",
      "Epoch 16/16, Loss: 0.2034, Accuracy: 91.78%\n",
      "Epoch 1/16, Loss: 0.8629, Accuracy: 68.09%\n",
      "Epoch 2/16, Loss: 0.7211, Accuracy: 79.61%\n",
      "Epoch 3/16, Loss: 0.3739, Accuracy: 87.17%\n",
      "Epoch 4/16, Loss: 0.3348, Accuracy: 91.78%\n",
      "Epoch 5/16, Loss: 0.3201, Accuracy: 90.79%\n",
      "Epoch 6/16, Loss: 0.2219, Accuracy: 92.43%\n",
      "Epoch 7/16, Loss: 0.1554, Accuracy: 94.41%\n",
      "Epoch 8/16, Loss: 0.2976, Accuracy: 91.78%\n",
      "Epoch 9/16, Loss: 0.1541, Accuracy: 96.71%\n",
      "Epoch 10/16, Loss: 0.1409, Accuracy: 96.71%\n",
      "Epoch 11/16, Loss: 0.0542, Accuracy: 98.36%\n",
      "Epoch 12/16, Loss: 0.0869, Accuracy: 97.37%\n",
      "Epoch 13/16, Loss: 0.1165, Accuracy: 97.04%\n",
      "Epoch 14/16, Loss: 0.3845, Accuracy: 90.79%\n",
      "Epoch 15/16, Loss: 0.1825, Accuracy: 94.74%\n",
      "Epoch 16/16, Loss: 0.1129, Accuracy: 96.05%\n",
      "Epoch 1/16, Loss: 2.2794, Accuracy: 28.29%\n",
      "Epoch 2/16, Loss: 1.3805, Accuracy: 34.87%\n",
      "Epoch 3/16, Loss: 1.4270, Accuracy: 33.22%\n",
      "Epoch 4/16, Loss: 1.3258, Accuracy: 39.14%\n",
      "Epoch 5/16, Loss: 1.6512, Accuracy: 41.12%\n",
      "Epoch 6/16, Loss: 1.5864, Accuracy: 38.49%\n",
      "Epoch 7/16, Loss: 1.3979, Accuracy: 46.05%\n",
      "Epoch 8/16, Loss: 1.2718, Accuracy: 47.04%\n",
      "Epoch 9/16, Loss: 1.1743, Accuracy: 56.25%\n",
      "Epoch 10/16, Loss: 1.2401, Accuracy: 54.61%\n",
      "Epoch 11/16, Loss: 1.2187, Accuracy: 57.24%\n",
      "Epoch 12/16, Loss: 1.0760, Accuracy: 59.21%\n",
      "Epoch 13/16, Loss: 1.0506, Accuracy: 62.83%\n",
      "Epoch 14/16, Loss: 1.0408, Accuracy: 60.20%\n",
      "Epoch 15/16, Loss: 1.0145, Accuracy: 62.50%\n",
      "Epoch 16/16, Loss: 1.0709, Accuracy: 58.55%\n",
      "Epoch 1/16, Loss: 2.3933, Accuracy: 23.68%\n",
      "Epoch 2/16, Loss: 1.5714, Accuracy: 33.88%\n",
      "Epoch 3/16, Loss: 1.4854, Accuracy: 29.93%\n",
      "Epoch 4/16, Loss: 1.3275, Accuracy: 39.14%\n",
      "Epoch 5/16, Loss: 1.2208, Accuracy: 43.42%\n",
      "Epoch 6/16, Loss: 1.1581, Accuracy: 49.34%\n",
      "Epoch 7/16, Loss: 1.0634, Accuracy: 58.22%\n",
      "Epoch 8/16, Loss: 1.0798, Accuracy: 59.54%\n",
      "Epoch 9/16, Loss: 1.0989, Accuracy: 55.26%\n",
      "Epoch 10/16, Loss: 0.9509, Accuracy: 62.17%\n",
      "Epoch 11/16, Loss: 1.0398, Accuracy: 59.87%\n",
      "Epoch 12/16, Loss: 1.0750, Accuracy: 51.32%\n",
      "Epoch 13/16, Loss: 1.0652, Accuracy: 54.61%\n",
      "Epoch 14/16, Loss: 0.9903, Accuracy: 64.47%\n",
      "Epoch 15/16, Loss: 1.0730, Accuracy: 56.58%\n",
      "Epoch 16/16, Loss: 1.1208, Accuracy: 54.28%\n",
      "Epoch 1/16, Loss: 2.9729, Accuracy: 24.01%\n",
      "Epoch 2/16, Loss: 2.0385, Accuracy: 34.87%\n",
      "Epoch 3/16, Loss: 1.6371, Accuracy: 33.55%\n",
      "Epoch 4/16, Loss: 1.4581, Accuracy: 39.14%\n",
      "Epoch 5/16, Loss: 1.3959, Accuracy: 43.42%\n",
      "Epoch 6/16, Loss: 1.2259, Accuracy: 44.74%\n",
      "Epoch 7/16, Loss: 1.1809, Accuracy: 46.38%\n",
      "Epoch 8/16, Loss: 1.2628, Accuracy: 42.76%\n",
      "Epoch 9/16, Loss: 1.3524, Accuracy: 39.14%\n",
      "Epoch 10/16, Loss: 1.0710, Accuracy: 50.00%\n",
      "Epoch 11/16, Loss: 1.2649, Accuracy: 49.01%\n",
      "Epoch 12/16, Loss: 1.1121, Accuracy: 54.61%\n"
     ]
    },
    {
     "ename": "",
     "evalue": "",
     "output_type": "error",
     "traceback": [
      "\u001b[1;31mThe Kernel crashed while executing code in the current cell or a previous cell. \n",
      "\u001b[1;31mPlease review the code in the cell(s) to identify a possible cause of the failure. \n",
      "\u001b[1;31mClick <a href='https://aka.ms/vscodeJupyterKernelCrash'>here</a> for more info. \n",
      "\u001b[1;31mView Jupyter <a href='command:jupyter.viewOutput'>log</a> for further details."
     ]
    }
   ],
   "source": [
    "model = SklearnWrapper(num_classes=CFG.NUM_CLASSES, device=CFG.DEVICE)\n",
    "grid_search = GridSearchCV(estimator=model, param_grid=param_grid, cv=3, scoring='accuracy')\n",
    "tqdm(grid_search.fit(X_train, y_train))"
   ]
  },
  {
   "cell_type": "markdown",
   "id": "7afb56af",
   "metadata": {},
   "source": [
    "Please note that the kernel crashed after testing through 38 models out of 54 (drop_rate had 3 values, weight_decay had 3 values, momentum had 2 values, and lr had 3 values - therefore, 3 * 3 * 2 * 3 = 54). Because this took a significant amount of time (around 1000 minutes), I'm unable to rerun this. But, I have created P4_eval_params.txt to explore each model's loss and accuracy. In the .txt file, I will separate each model and its unique parameters. I will then list out the top parameters in this cell with explanation; the following models (and their respective parameters) all achieve 100% accuracy after their 16 epochs are processed.\n",
    "1. **Model 1:** final loss: 0.0099 with parameters: dropout_rate: 0.0, weight_decay: 0.0, momentum: 0.9, lr: 1e-4\n",
    "2. **Model 3:** final loss: 0.0059 with parameters: dropout_rate: 0.0, weight_decay: 0.0, momentum: 0.9, lr: 1e-2\n",
    "3. **Model 6:** final loss: 0.0038 with parameters: dropout_rate: 0.0, weight_decay: 0.0, momentum: 0.95, lr: 1e-2\n",
    "4. **Model 10:** final loss: 0.0103 with parameters: dropout_rate: 0.0, weight_decay: 0.001, momentum: 0.95, lr: 1e-4\n",
    "5. **Model 11:** final loss: 0.0047 with parameters: dropout_rate: 0.0, weight_decay: 0.001, momentum: 0.95, lr: 1e-3\n",
    "6. **Model 12:** final loss: 0.0087 with parameters: dropout_rate: 0.0, weight_decay: 0.001, momentum: 0.95, lr: 1e-2\n",
    "\n",
    "Based on the above analyze, **Model 6** has the best overall performance with the highest accuracy and the lowest final loss. This makes sense because the combination of a higher learning rate and high momentum enabled Model 6 to learn quickly and effectively, reaching 100% accuracy with minimal loss. The absence of dropout and weight decay suggests that the training data and model architecture are robust enough to generalize well without overfitting, thus achieving optimal performance.\n",
    "\n",
    "While this is true, we must continue to do a classification_Report for precision, recall, f1, and roc_curve, roc_auc.\n",
    "\n",
    "### Classification Report (finding the best model)"
   ]
  },
  {
   "cell_type": "code",
   "execution_count": 43,
   "id": "7b09f4b1-2b52-4fa1-806d-8603a1ad1f7d",
   "metadata": {
    "scrolled": true
   },
   "outputs": [],
   "source": [
    "import re\n"
   ]
  },
  {
   "cell_type": "code",
   "execution_count": 44,
   "id": "2d694df1",
   "metadata": {},
   "outputs": [],
   "source": [
    "# Read the parameters file\n",
    "with open('P4_eval_params.txt', 'r') as file:\n",
    "    params_data = file.read()"
   ]
  },
  {
   "cell_type": "code",
   "execution_count": 49,
   "id": "a73c4c91",
   "metadata": {},
   "outputs": [],
   "source": [
    "# Regular expression to parse the parameters\n",
    "model_pattern = re.compile(r\"MODEL (\\d+)\\n(.*?)(?=\\nMODEL|\\Z)\", re.DOTALL)\n",
    "param_pattern = re.compile(r\"dropout_rate: ([\\d\\.]+), weight_decay: ([\\d\\.]+), momentum: ([\\d\\.]+), lr: ([\\d\\.\\-e]+)\")\n",
    "epoch_pattern = re.compile(r\"Epoch \\d+/16, Loss: [\\d\\.]+, Accuracy: ([\\d\\.]+)%\")"
   ]
  },
  {
   "cell_type": "code",
   "execution_count": 50,
   "id": "051f7789",
   "metadata": {},
   "outputs": [],
   "source": [
    "# Parse the models and their metrics\n",
    "models = []\n",
    "for model_match in model_pattern.finditer(params_data):\n",
    "    model_id = int(model_match.group(1))\n",
    "    param_match = param_pattern.search(model_match.group(2))\n",
    "    if param_match:\n",
    "        dropout_rate = float(param_match.group(1))\n",
    "        weight_decay = float(param_match.group(2))\n",
    "        momentum = float(param_match.group(3))\n",
    "        lr = float(param_match.group(4))\n",
    "        \n",
    "        # Extract epochs metrics\n",
    "        epochs_metrics = epoch_pattern.findall(model_match.group(2))\n",
    "        if epochs_metrics:\n",
    "            accuracy = float(epochs_metrics[-1])\n",
    "        \n",
    "        models.append({\n",
    "            \"model_id\": model_id,\n",
    "            \"dropout_rate\": dropout_rate,\n",
    "            \"weight_decay\": weight_decay,\n",
    "            \"momentum\": momentum,\n",
    "            \"lr\": lr,\n",
    "            \"accuracy\": accuracy\n",
    "        })"
   ]
  },
  {
   "cell_type": "code",
   "execution_count": 52,
   "id": "793bf904",
   "metadata": {},
   "outputs": [],
   "source": [
    "# Convert to DataFrame\n",
    "df_models = pd.DataFrame(models)"
   ]
  },
  {
   "cell_type": "code",
   "execution_count": 53,
   "id": "05a9d0e1",
   "metadata": {},
   "outputs": [
    {
     "name": "stdout",
     "output_type": "stream",
     "text": [
      "Best Model Parameters:\n",
      "model_id          1.0000\n",
      "dropout_rate      0.0000\n",
      "weight_decay      0.0000\n",
      "momentum          0.9000\n",
      "lr                0.0001\n",
      "accuracy        100.0000\n",
      "Name: 0, dtype: float64\n"
     ]
    }
   ],
   "source": [
    "# Identify the best model based on accuracy\n",
    "best_model = df_models.loc[df_models['accuracy'].idxmax()]\n",
    "print(\"Best Model Parameters:\")\n",
    "print(best_model)"
   ]
  },
  {
   "cell_type": "markdown",
   "id": "ac2808a1",
   "metadata": {},
   "source": [
    "## **Training New Model with Fine-Tuned Parameters**\n",
    "As such, we will now train our model based on the fine-tuned parameters: dropout_rate=0.0, weight_decay=0.0, momentum=0.95, lr:1e-2."
   ]
  },
  {
   "cell_type": "code",
   "execution_count": 54,
   "id": "57321539-0e97-448e-b1a2-19e5d95dd258",
   "metadata": {},
   "outputs": [],
   "source": [
    "class CFG:\n",
    "    DEVICE = 'cuda' if torch.cuda.is_available() else 'cpu'\n",
    "    NUM_DEVICES = torch.cuda.device_count()\n",
    "    NUM_WORKERS = os.cpu_count()\n",
    "    NUM_CLASSES = 4\n",
    "    EPOCHS = 16\n",
    "    BATCH_SIZE = (32 if torch.cuda.device_count() < 2 else (32 * torch.cuda.device_count()))\n",
    "    LR = 1e-4  # Updated learning rate\n",
    "    APPLY_SHUFFLE = True\n",
    "    SEED = 768\n",
    "    HEIGHT = 224\n",
    "    WIDTH = 224\n",
    "    CHANNELS = 3\n",
    "    IMAGE_SIZE = (224, 224, 3)\n",
    "    DROPOUT_RATE = 0.0  # Added dropout rate\n",
    "    WEIGHT_DECAY = 0.0  # Added weight decay\n",
    "    MOMENTUM = 0.9  # Added momentum"
   ]
  },
  {
   "cell_type": "code",
   "execution_count": 55,
   "id": "351b0c59",
   "metadata": {},
   "outputs": [],
   "source": [
    "# Initialize the model with the best parameters\n",
    "backbone_model = get_efficientnetv2_model(CFG.DEVICE)\n",
    "efficientnetv2_params = {\n",
    "    'backbone_model': backbone_model,\n",
    "    'name': 'efficientnet-v2-large',\n",
    "    'device': CFG.DEVICE\n",
    "}\n",
    "efficientnet_model = EfficientNetV2Model(**efficientnetv2_params)"
   ]
  },
  {
   "cell_type": "code",
   "execution_count": 56,
   "id": "7a3abe8a",
   "metadata": {},
   "outputs": [],
   "source": [
    "# Define the loss function and optimizer\n",
    "loss_fn = nn.CrossEntropyLoss(label_smoothing=0.1)\n",
    "optimizer = torch.optim.SGD(efficientnet_model.parameters(), lr=CFG.LR, momentum=CFG.MOMENTUM, weight_decay=CFG.WEIGHT_DECAY)"
   ]
  },
  {
   "cell_type": "code",
   "execution_count": 57,
   "id": "08836fad",
   "metadata": {},
   "outputs": [
    {
     "name": "stdout",
     "output_type": "stream",
     "text": [
      "Training EfficientNet Model\n",
      "Train on 456 samples, validate on 115 samples.\n",
      "----------------------------------\n"
     ]
    },
    {
     "data": {
      "application/vnd.jupyter.widget-view+json": {
       "model_id": "84081342cdd143a8983c1b7d3da4ded8",
       "version_major": 2,
       "version_minor": 0
      },
      "text/plain": [
       "  0%|          | 0/16 [00:00<?, ?it/s]"
      ]
     },
     "metadata": {},
     "output_type": "display_data"
    },
    {
     "name": "stdout",
     "output_type": "stream",
     "text": [
      "\n",
      "Epoch 1/16\n"
     ]
    },
    {
     "data": {
      "application/vnd.jupyter.widget-view+json": {
       "model_id": "3998d306b2e842ffa04a2385e8b4099f",
       "version_major": 2,
       "version_minor": 0
      },
      "text/plain": [
       "  0%|          | 0/15 [00:00<?, ?it/s]"
      ]
     },
     "metadata": {},
     "output_type": "display_data"
    }
   ],
   "source": [
    "# Train the new/fine-tuned parameter model\n",
    "print('Training EfficientNet Model')\n",
    "print(f'Train on {len(train_new_df)} samples, validate on {len(val_df)} samples.')\n",
    "print('----------------------------------')\n",
    "\n",
    "efficientnet_session_config = {\n",
    "    'model': efficientnet_model,\n",
    "    'train_dataloader': train_loader,\n",
    "    'eval_dataloader': val_loader,\n",
    "    'optimizer': optimizer,\n",
    "    'loss_fn': loss_fn,\n",
    "    'epochs': CFG.EPOCHS,\n",
    "    'device': CFG.DEVICE\n",
    "}\n",
    "\n",
    "efficientnet_session_history = train(**efficientnet_session_config)"
   ]
  },
  {
   "cell_type": "code",
   "execution_count": 34,
   "id": "d0d80dd4",
   "metadata": {},
   "outputs": [
    {
     "data": {
      "application/vnd.jupyter.widget-view+json": {
       "model_id": "6470ff7da1804005a30a12b1437e672b",
       "version_major": 2,
       "version_minor": 0
      },
      "text/plain": [
       "  0%|          | 0/41 [00:00<?, ?it/s]"
      ]
     },
     "metadata": {},
     "output_type": "display_data"
    }
   ],
   "source": [
    "efficientnet_test_probs = predict(efficientnet_model, test_loader, CFG.DEVICE)"
   ]
  },
  {
   "cell_type": "code",
   "execution_count": 35,
   "id": "24c8b861",
   "metadata": {},
   "outputs": [],
   "source": [
    "efficientnet_test_preds = np.argmax(efficientnet_test_probs, axis=1)"
   ]
  },
  {
   "cell_type": "code",
   "execution_count": 36,
   "id": "89c088a6",
   "metadata": {},
   "outputs": [
    {
     "data": {
      "text/html": [
       "<div>\n",
       "<style scoped>\n",
       "    .dataframe tbody tr th:only-of-type {\n",
       "        vertical-align: middle;\n",
       "    }\n",
       "\n",
       "    .dataframe tbody tr th {\n",
       "        vertical-align: top;\n",
       "    }\n",
       "\n",
       "    .dataframe thead th {\n",
       "        text-align: right;\n",
       "    }\n",
       "</style>\n",
       "<table border=\"1\" class=\"dataframe\">\n",
       "  <thead>\n",
       "    <tr style=\"text-align: right;\">\n",
       "      <th></th>\n",
       "      <th>loss</th>\n",
       "      <th>accuracy</th>\n",
       "      <th>eval_loss</th>\n",
       "      <th>eval_accuaracy</th>\n",
       "    </tr>\n",
       "  </thead>\n",
       "  <tbody>\n",
       "    <tr>\n",
       "      <th>0</th>\n",
       "      <td>1.299576</td>\n",
       "      <td>0.414583</td>\n",
       "      <td>1.234474</td>\n",
       "      <td>0.506168</td>\n",
       "    </tr>\n",
       "    <tr>\n",
       "      <th>1</th>\n",
       "      <td>0.914723</td>\n",
       "      <td>0.741667</td>\n",
       "      <td>1.131713</td>\n",
       "      <td>0.553043</td>\n",
       "    </tr>\n",
       "    <tr>\n",
       "      <th>2</th>\n",
       "      <td>0.794876</td>\n",
       "      <td>0.781250</td>\n",
       "      <td>0.763045</td>\n",
       "      <td>0.837993</td>\n",
       "    </tr>\n",
       "    <tr>\n",
       "      <th>3</th>\n",
       "      <td>0.747704</td>\n",
       "      <td>0.793750</td>\n",
       "      <td>0.686784</td>\n",
       "      <td>0.872122</td>\n",
       "    </tr>\n",
       "    <tr>\n",
       "      <th>4</th>\n",
       "      <td>0.753700</td>\n",
       "      <td>0.783333</td>\n",
       "      <td>0.664231</td>\n",
       "      <td>0.851151</td>\n",
       "    </tr>\n",
       "    <tr>\n",
       "      <th>5</th>\n",
       "      <td>0.795325</td>\n",
       "      <td>0.750000</td>\n",
       "      <td>0.651856</td>\n",
       "      <td>0.853618</td>\n",
       "    </tr>\n",
       "    <tr>\n",
       "      <th>6</th>\n",
       "      <td>0.657230</td>\n",
       "      <td>0.858333</td>\n",
       "      <td>0.638741</td>\n",
       "      <td>0.866776</td>\n",
       "    </tr>\n",
       "    <tr>\n",
       "      <th>7</th>\n",
       "      <td>0.673755</td>\n",
       "      <td>0.854167</td>\n",
       "      <td>0.668676</td>\n",
       "      <td>0.861431</td>\n",
       "    </tr>\n",
       "    <tr>\n",
       "      <th>8</th>\n",
       "      <td>0.635159</td>\n",
       "      <td>0.862500</td>\n",
       "      <td>0.675155</td>\n",
       "      <td>0.837993</td>\n",
       "    </tr>\n",
       "    <tr>\n",
       "      <th>9</th>\n",
       "      <td>0.632443</td>\n",
       "      <td>0.854167</td>\n",
       "      <td>0.640881</td>\n",
       "      <td>0.866776</td>\n",
       "    </tr>\n",
       "    <tr>\n",
       "      <th>10</th>\n",
       "      <td>0.634310</td>\n",
       "      <td>0.875000</td>\n",
       "      <td>0.658319</td>\n",
       "      <td>0.853618</td>\n",
       "    </tr>\n",
       "    <tr>\n",
       "      <th>11</th>\n",
       "      <td>0.581281</td>\n",
       "      <td>0.902083</td>\n",
       "      <td>0.724730</td>\n",
       "      <td>0.845806</td>\n",
       "    </tr>\n",
       "    <tr>\n",
       "      <th>12</th>\n",
       "      <td>0.593983</td>\n",
       "      <td>0.891667</td>\n",
       "      <td>0.642083</td>\n",
       "      <td>0.848273</td>\n",
       "    </tr>\n",
       "    <tr>\n",
       "      <th>13</th>\n",
       "      <td>0.581671</td>\n",
       "      <td>0.920833</td>\n",
       "      <td>0.619779</td>\n",
       "      <td>0.874589</td>\n",
       "    </tr>\n",
       "    <tr>\n",
       "      <th>14</th>\n",
       "      <td>0.612785</td>\n",
       "      <td>0.887500</td>\n",
       "      <td>0.666725</td>\n",
       "      <td>0.830181</td>\n",
       "    </tr>\n",
       "    <tr>\n",
       "      <th>15</th>\n",
       "      <td>0.604296</td>\n",
       "      <td>0.877083</td>\n",
       "      <td>0.652512</td>\n",
       "      <td>0.830181</td>\n",
       "    </tr>\n",
       "  </tbody>\n",
       "</table>\n",
       "</div>"
      ],
      "text/plain": [
       "        loss  accuracy  eval_loss  eval_accuaracy\n",
       "0   1.299576  0.414583   1.234474        0.506168\n",
       "1   0.914723  0.741667   1.131713        0.553043\n",
       "2   0.794876  0.781250   0.763045        0.837993\n",
       "3   0.747704  0.793750   0.686784        0.872122\n",
       "4   0.753700  0.783333   0.664231        0.851151\n",
       "5   0.795325  0.750000   0.651856        0.853618\n",
       "6   0.657230  0.858333   0.638741        0.866776\n",
       "7   0.673755  0.854167   0.668676        0.861431\n",
       "8   0.635159  0.862500   0.675155        0.837993\n",
       "9   0.632443  0.854167   0.640881        0.866776\n",
       "10  0.634310  0.875000   0.658319        0.853618\n",
       "11  0.581281  0.902083   0.724730        0.845806\n",
       "12  0.593983  0.891667   0.642083        0.848273\n",
       "13  0.581671  0.920833   0.619779        0.874589\n",
       "14  0.612785  0.887500   0.666725        0.830181\n",
       "15  0.604296  0.877083   0.652512        0.830181"
      ]
     },
     "execution_count": 36,
     "metadata": {},
     "output_type": "execute_result"
    }
   ],
   "source": [
    "efficientnet_session_history_df = pd.DataFrame(efficientnet_session_history)\n",
    "efficientnet_session_history_df"
   ]
  },
  {
   "cell_type": "code",
   "execution_count": 37,
   "id": "cec91aec",
   "metadata": {},
   "outputs": [
    {
     "data": {
      "image/png": "[encoded data removed]",
      "text/plain": [
       "<Figure size 2000x800 with 2 Axes>"
      ]
     },
     "metadata": {},
     "output_type": "display_data"
    }
   ],
   "source": [
    "plot_training_curves(efficientnet_session_history)"
   ]
  },
  {
   "cell_type": "code",
   "execution_count": 40,
   "id": "54f3ae47",
   "metadata": {},
   "outputs": [
    {
     "data": {
      "image/png": "[encoded data removed]",
      "text/plain": [
       "<Figure size 800x700 with 2 Axes>"
      ]
     },
     "metadata": {},
     "output_type": "display_data"
    }
   ],
   "source": [
    "plot_confusion_matrix(test_labels, efficientnet_test_preds, figsize=(8,7), classes=test_ds.classes)"
   ]
  },
  {
   "cell_type": "code",
   "execution_count": 41,
   "id": "73b35be6",
   "metadata": {},
   "outputs": [
    {
     "data": {
      "text/plain": [
       "0.8535469107551488"
      ]
     },
     "execution_count": 41,
     "metadata": {},
     "output_type": "execute_result"
    }
   ],
   "source": [
    "accuracy_score(test_labels, efficientnet_test_preds)"
   ]
  },
  {
   "cell_type": "code",
   "execution_count": null,
   "id": "e9847a08",
   "metadata": {},
   "outputs": [],
   "source": []
  }
 ],
 "metadata": {
  "kernelspec": {
   "display_name": "Python 3 (ipykernel)",
   "language": "python",
   "name": "python3"
  },
  "language_info": {
   "codemirror_mode": {
    "name": "ipython",
    "version": 3
   },
   "file_extension": ".py",
   "mimetype": "text/x-python",
   "name": "python",
   "nbconvert_exporter": "python",
   "pygments_lexer": "ipython3",
   "version": "3.8.10"
  }
 },
 "nbformat": 4,
 "nbformat_minor": 5
}
