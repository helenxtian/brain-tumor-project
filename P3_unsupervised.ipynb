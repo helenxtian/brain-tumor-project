{
 "cells": [
  {
   "cell_type": "markdown",
   "metadata": {},
   "source": [
    "### **Unsupervised Learning**\n",
    "\n",
    "**Data preparation**\n",
    "- convert images into feature vectors (ensure normalization for normalization and preprocessing for consistency)\n",
    "\n",
    "**Clustering**\n",
    "- explore K-means and choose optimal number of clusters (K) using techniques like the elbow method or silhouette score\n",
    "- evaluate performance and visualize clustering results for insights into data distribution and cluster relationships\n",
    "\n",
    "**PCA**\n",
    "- reduce dimensionality and select number of principal components based on variance ratio\n",
    "- analyze contribution of each component and assess impact on data structure\n",
    "- compare performance using original features vs. PCA-reduced features\n",
    "\n",
    "**Integration with supervised learning**\n",
    "- explore clustering and pca results and evaluate model learning performance\n",
    "\n",
    "**Analyze Model Performance**\n",
    "- plot loss and accuracy over epochs to visualize training progress and identify potential overfitting or underfitting.\n",
    "- create a confusion matrix to examine how well the model distinguishes between classes."
   ]
  },
  {
   "cell_type": "code",
   "execution_count": 57,
   "metadata": {},
   "outputs": [],
   "source": [
    "# importing all necessary libraries\n",
    "import glob\n",
    "import warnings\n",
    "import random\n",
    "import os\n",
    "import pandas as pd\n",
    "import numpy as np\n",
    "import matplotlib.pyplot as plt\n",
    "import seaborn as sns\n",
    "\n",
    "import torch\n",
    "import torchvision \n",
    "import torch.nn as nn\n",
    "import torch.optim as optim\n",
    "import torchvision.models as models\n",
    "import torchvision.transforms as transforms\n",
    "from torch.utils.data import DataLoader\n",
    "from tqdm.notebook import tqdm\n",
    "\n",
    "from PIL import Image\n",
    "from typing import Dict, List, Tuple\n",
    "from sklearn.model_selection import train_test_split\n",
    "from sklearn.decomposition import PCA\n",
    "from sklearn.cluster import KMeans\n",
    "from sklearn.metrics import (confusion_matrix, ConfusionMatrixDisplay, accuracy_score, silhouette_score, classification_report)\n",
    "from datasets_unsupervised import BrainTumorMRIDataset"
   ]
  },
  {
   "cell_type": "code",
   "execution_count": 2,
   "metadata": {},
   "outputs": [],
   "source": [
    "class CFG:\n",
    "    DEVICE = 'cuda' if torch.cuda.is_available() else 'cpu'\n",
    "    NUM_DEVICES = torch.cuda.device_count()\n",
    "    NUM_WORKERS = os.cpu_count()\n",
    "    NUM_CLASSES = 4\n",
    "    EPOCHS = 16\n",
    "    BATCH_SIZE = (\n",
    "        32 if torch.cuda.device_count() < 2 \n",
    "        else (32 * torch.cuda.device_count())\n",
    "    )\n",
    "    LR = 0.001\n",
    "    APPLY_SHUFFLE = True\n",
    "    SEED = 768\n",
    "    HEIGHT = 224\n",
    "    WIDTH = 224\n",
    "    CHANNELS = 3\n",
    "    IMAGE_SIZE = (224, 224, 3)\n",
    "    \n",
    "    # Define paths\n",
    "    DATASET_PATH = './data/original/'\n",
    "    TRAIN_PATH = './data/original//Training/'\n",
    "    TEST_PATH = './data/original/Testing/'\n",
    "    \n",
    "# Mute warnings\n",
    "warnings.filterwarnings(\"ignore\", \"is_categorical_dtype\")\n",
    "warnings.filterwarnings(\"ignore\", \"use_inf_as_na\")"
   ]
  },
  {
   "cell_type": "code",
   "execution_count": 3,
   "metadata": {},
   "outputs": [],
   "source": [
    "train_images = glob.glob(f\"{CFG.TRAIN_PATH}**/*.jpg\")\n",
    "test_images = glob.glob(f\"{CFG.TEST_PATH}**/*.jpg\")"
   ]
  },
  {
   "cell_type": "code",
   "execution_count": 4,
   "metadata": {},
   "outputs": [],
   "source": [
    "def generate_labels(image_paths):\n",
    "    return [(_.split('/')[-2:][0]).replace('-', '_') for _ in image_paths]\n",
    "\n",
    "def build_df(image_paths, labels):\n",
    "    df = pd.DataFrame({'image_path': image_paths, 'label': generate_labels(labels)})\n",
    "    return df\n",
    "\n",
    "def _load(image_path, as_tensor=True, target_size=(224,224)):\n",
    "    # Read and decode an image file to a uint8 tensor\n",
    "    image = Image.open(image_path)\n",
    "    \n",
    "    # Resize image to target size and convert to RGB\n",
    "    image = image.resize(target_size)\n",
    "    image = image.convert('RGB')\n",
    "    \n",
    "    if as_tensor:\n",
    "        converter = transforms.Compose([transforms.ToTensor(), transforms.Grayscale()])\n",
    "        return converter(image)\n",
    "    else:\n",
    "        return image"
   ]
  },
  {
   "cell_type": "code",
   "execution_count": 5,
   "metadata": {},
   "outputs": [],
   "source": [
    "train_df = build_df(train_images, generate_labels(train_images))\n",
    "test_df = build_df(test_images, generate_labels(test_images))"
   ]
  },
  {
   "cell_type": "markdown",
   "metadata": {},
   "source": [
    "Please note in the following we will be using 10% of our original dataset to test the unsupervised techniques that we've learnt in class (e.g. clustering and PCA). This is because when we initially tried training our models with our ideal 30% of original data (taken from P2_supervised), each epoch took about an hour to process, and considering the amount of parameters we're trying to test, such an amount of time was infeasible."
   ]
  },
  {
   "cell_type": "code",
   "execution_count": 6,
   "metadata": {},
   "outputs": [],
   "source": [
    "train_df_sample = train_df.sample(frac=0.10, random_state=42).reset_index(drop=True)\n",
    "train_split_idx, val_split_idx, _, _ = (train_test_split(\n",
    "    train_df_sample.index,\n",
    "    train_df_sample.label,\n",
    "    test_size=0.20, \n",
    "    stratify=train_df_sample.label,\n",
    "    random_state=CFG.SEED))"
   ]
  },
  {
   "cell_type": "code",
   "execution_count": 7,
   "metadata": {},
   "outputs": [
    {
     "data": {
      "text/plain": [
       "((456, 2), (115, 2))"
      ]
     },
     "execution_count": 7,
     "metadata": {},
     "output_type": "execute_result"
    }
   ],
   "source": [
    "train_new_df = train_df_sample.iloc[train_split_idx].reset_index(drop=True)\n",
    "val_df = train_df_sample.iloc[val_split_idx].reset_index(drop=True)\n",
    "train_new_df.shape, val_df.shape"
   ]
  },
  {
   "cell_type": "code",
   "execution_count": 8,
   "metadata": {},
   "outputs": [
    {
     "data": {
      "text/html": [
       "<div>\n",
       "<style scoped>\n",
       "    .dataframe tbody tr th:only-of-type {\n",
       "        vertical-align: middle;\n",
       "    }\n",
       "\n",
       "    .dataframe tbody tr th {\n",
       "        vertical-align: top;\n",
       "    }\n",
       "\n",
       "    .dataframe thead th {\n",
       "        text-align: right;\n",
       "    }\n",
       "</style>\n",
       "<table border=\"1\" class=\"dataframe\">\n",
       "  <thead>\n",
       "    <tr style=\"text-align: right;\">\n",
       "      <th></th>\n",
       "      <th>image_path</th>\n",
       "      <th>label</th>\n",
       "    </tr>\n",
       "  </thead>\n",
       "  <tbody>\n",
       "    <tr>\n",
       "      <th>0</th>\n",
       "      <td>./data/original//Training/pituitary/Tr-pi_1405...</td>\n",
       "      <td>pituitary</td>\n",
       "    </tr>\n",
       "    <tr>\n",
       "      <th>1</th>\n",
       "      <td>./data/original//Training/glioma/Tr-gl_0772.jpg</td>\n",
       "      <td>glioma</td>\n",
       "    </tr>\n",
       "    <tr>\n",
       "      <th>2</th>\n",
       "      <td>./data/original//Training/glioma/Tr-gl_1055.jpg</td>\n",
       "      <td>glioma</td>\n",
       "    </tr>\n",
       "    <tr>\n",
       "      <th>3</th>\n",
       "      <td>./data/original//Training/pituitary/Tr-pi_1305...</td>\n",
       "      <td>pituitary</td>\n",
       "    </tr>\n",
       "    <tr>\n",
       "      <th>4</th>\n",
       "      <td>./data/original//Training/notumor/Tr-no_0347.jpg</td>\n",
       "      <td>notumor</td>\n",
       "    </tr>\n",
       "    <tr>\n",
       "      <th>...</th>\n",
       "      <td>...</td>\n",
       "      <td>...</td>\n",
       "    </tr>\n",
       "    <tr>\n",
       "      <th>451</th>\n",
       "      <td>./data/original//Training/notumor/Tr-no_1319.jpg</td>\n",
       "      <td>notumor</td>\n",
       "    </tr>\n",
       "    <tr>\n",
       "      <th>452</th>\n",
       "      <td>./data/original//Training/pituitary/Tr-pi_0883...</td>\n",
       "      <td>pituitary</td>\n",
       "    </tr>\n",
       "    <tr>\n",
       "      <th>453</th>\n",
       "      <td>./data/original//Training/glioma/Tr-gl_1286.jpg</td>\n",
       "      <td>glioma</td>\n",
       "    </tr>\n",
       "    <tr>\n",
       "      <th>454</th>\n",
       "      <td>./data/original//Training/glioma/Tr-gl_0093.jpg</td>\n",
       "      <td>glioma</td>\n",
       "    </tr>\n",
       "    <tr>\n",
       "      <th>455</th>\n",
       "      <td>./data/original//Training/meningioma/Tr-me_035...</td>\n",
       "      <td>meningioma</td>\n",
       "    </tr>\n",
       "  </tbody>\n",
       "</table>\n",
       "<p>456 rows × 2 columns</p>\n",
       "</div>"
      ],
      "text/plain": [
       "                                            image_path       label\n",
       "0    ./data/original//Training/pituitary/Tr-pi_1405...   pituitary\n",
       "1      ./data/original//Training/glioma/Tr-gl_0772.jpg      glioma\n",
       "2      ./data/original//Training/glioma/Tr-gl_1055.jpg      glioma\n",
       "3    ./data/original//Training/pituitary/Tr-pi_1305...   pituitary\n",
       "4     ./data/original//Training/notumor/Tr-no_0347.jpg     notumor\n",
       "..                                                 ...         ...\n",
       "451   ./data/original//Training/notumor/Tr-no_1319.jpg     notumor\n",
       "452  ./data/original//Training/pituitary/Tr-pi_0883...   pituitary\n",
       "453    ./data/original//Training/glioma/Tr-gl_1286.jpg      glioma\n",
       "454    ./data/original//Training/glioma/Tr-gl_0093.jpg      glioma\n",
       "455  ./data/original//Training/meningioma/Tr-me_035...  meningioma\n",
       "\n",
       "[456 rows x 2 columns]"
      ]
     },
     "execution_count": 8,
     "metadata": {},
     "output_type": "execute_result"
    }
   ],
   "source": [
    "train_new_df"
   ]
  },
  {
   "cell_type": "code",
   "execution_count": 9,
   "metadata": {},
   "outputs": [
    {
     "name": "stdout",
     "output_type": "stream",
     "text": [
      "train samples count:\t\t456\t(79.86%)\n",
      "validation samples count:\t115\t(20.14%)\n",
      "================================================\n",
      "TOTAL:\t\t\t\t571\t(100.00%)\n",
      "\n",
      "INDEPENDENT test samples count:\t\t1311\t\n"
     ]
    }
   ],
   "source": [
    "train_size = len(train_new_df)\n",
    "val_size = len(val_df)\n",
    "test_size = len(test_df)\n",
    "total = train_size + val_size\n",
    "\n",
    "# View the counts\n",
    "print(f'train samples count:\\t\\t{train_size}\\t({(100 * train_size/total):.2f}%)')\n",
    "print(f'validation samples count:\\t{val_size}\\t({(100 * val_size/total):.2f}%)')\n",
    "print('================================================')\n",
    "print(f'TOTAL:\\t\\t\\t\\t{total}\\t({(100 * total/total):.2f}%)')\n",
    "\n",
    "print('')\n",
    "print(f'INDEPENDENT test samples count:\\t\\t{test_size}\\t')"
   ]
  },
  {
   "cell_type": "code",
   "execution_count": 10,
   "metadata": {},
   "outputs": [],
   "source": [
    "# Data transoformation definitions\n",
    "train_transforms = transforms.Compose([\n",
    "    transforms.Resize((CFG.HEIGHT, CFG.WIDTH)),\n",
    "    transforms.Grayscale(num_output_channels=3),\n",
    "    transforms.RandomHorizontalFlip(p=0.5),\n",
    "    transforms.RandomVerticalFlip(p=0.5),\n",
    "    transforms.ToTensor()\n",
    "])\n",
    "test_transforms = transforms.Compose([\n",
    "    transforms.Resize((CFG.HEIGHT, CFG.WIDTH)),\n",
    "    transforms.Grayscale(num_output_channels=3),\n",
    "    transforms.ToTensor()\n",
    "])\n",
    "idx = random.sample(train_df_sample.index.to_list(), 1)[0]\n",
    "aug_image = _load(train_df_sample.image_path[idx], as_tensor=False)"
   ]
  },
  {
   "cell_type": "code",
   "execution_count": 11,
   "metadata": {},
   "outputs": [
    {
     "data": {
      "text/plain": [
       "(<datasets_unsupervised.BrainTumorMRIDataset at 0x7f47c17d5850>,\n",
       " <datasets_unsupervised.BrainTumorMRIDataset at 0x7f47c69ed580>,\n",
       " <datasets_unsupervised.BrainTumorMRIDataset at 0x7f47c2be2ee0>)"
      ]
     },
     "execution_count": 11,
     "metadata": {},
     "output_type": "execute_result"
    }
   ],
   "source": [
    "train_ds = BrainTumorMRIDataset(train_new_df, transform=train_transforms)\n",
    "val_ds = BrainTumorMRIDataset(val_df, transform=test_transforms)\n",
    "test_ds = BrainTumorMRIDataset(test_df, transform=test_transforms)\n",
    "train_ds, val_ds, test_ds"
   ]
  },
  {
   "cell_type": "code",
   "execution_count": 12,
   "metadata": {},
   "outputs": [
    {
     "data": {
      "text/plain": [
       "(tensor([[0., 0., 0.,  ..., 0., 0., 0.],\n",
       "         [0., 0., 0.,  ..., 0., 0., 0.],\n",
       "         [0., 0., 0.,  ..., 0., 0., 0.],\n",
       "         ...,\n",
       "         [0., 0., 0.,  ..., 0., 0., 0.],\n",
       "         [0., 0., 0.,  ..., 0., 0., 0.],\n",
       "         [0., 0., 0.,  ..., 0., 0., 0.]]),\n",
       " tensor([[0., 0., 0.,  ..., 0., 0., 0.],\n",
       "         [0., 0., 0.,  ..., 0., 0., 0.],\n",
       "         [0., 0., 0.,  ..., 0., 0., 0.],\n",
       "         ...,\n",
       "         [0., 0., 0.,  ..., 0., 0., 0.],\n",
       "         [0., 0., 0.,  ..., 0., 0., 0.],\n",
       "         [0., 0., 0.,  ..., 0., 0., 0.]]),\n",
       " tensor([[0., 0., 0.,  ..., 0., 0., 0.],\n",
       "         [0., 0., 0.,  ..., 0., 0., 0.],\n",
       "         [0., 0., 0.,  ..., 0., 0., 0.],\n",
       "         ...,\n",
       "         [0., 0., 0.,  ..., 0., 0., 0.],\n",
       "         [0., 0., 0.,  ..., 0., 0., 0.],\n",
       "         [0., 0., 0.,  ..., 0., 0., 0.]]))"
      ]
     },
     "execution_count": 12,
     "metadata": {},
     "output_type": "execute_result"
    }
   ],
   "source": [
    "train_image = train_ds[8][0]\n",
    "train_image[0], train_image[1], train_image[2]"
   ]
  },
  {
   "cell_type": "code",
   "execution_count": 13,
   "metadata": {},
   "outputs": [
    {
     "data": {
      "text/plain": [
       "(<torch.utils.data.dataloader.DataLoader at 0x7f47c17ad2b0>,\n",
       " <torch.utils.data.dataloader.DataLoader at 0x7f47c17ad310>,\n",
       " <torch.utils.data.dataloader.DataLoader at 0x7f47c17ad460>)"
      ]
     },
     "execution_count": 13,
     "metadata": {},
     "output_type": "execute_result"
    }
   ],
   "source": [
    "train_loader = DataLoader(\n",
    "    dataset=train_ds, \n",
    "    batch_size=CFG.BATCH_SIZE,\n",
    "    num_workers=CFG.NUM_WORKERS,\n",
    "    shuffle=CFG.APPLY_SHUFFLE,\n",
    "    collate_fn=lambda batch: tuple(zip(*batch))\n",
    ")\n",
    "val_loader = DataLoader(\n",
    "    dataset=val_ds,\n",
    "    batch_size=CFG.BATCH_SIZE,\n",
    "    num_workers=CFG.NUM_WORKERS,\n",
    "    shuffle=False\n",
    ")\n",
    "test_loader = DataLoader(\n",
    "    dataset=test_ds,\n",
    "    batch_size=CFG.BATCH_SIZE,\n",
    "    num_workers=CFG.NUM_WORKERS,\n",
    "    shuffle=False\n",
    ")\n",
    "train_loader, val_loader, test_loader"
   ]
  },
  {
   "cell_type": "code",
   "execution_count": 14,
   "metadata": {},
   "outputs": [
    {
     "data": {
      "text/plain": [
       "456"
      ]
     },
     "execution_count": 14,
     "metadata": {},
     "output_type": "execute_result"
    }
   ],
   "source": [
    "len(train_loader.dataset)"
   ]
  },
  {
   "cell_type": "markdown",
   "metadata": {},
   "source": [
    "## Defining EfficientNetV2 Model"
   ]
  },
  {
   "cell_type": "code",
   "execution_count": 15,
   "metadata": {},
   "outputs": [],
   "source": [
    "class EfficientNetV2Model(nn.Module):\n",
    "    def __init__(self, backbone_model, name='efficientnet-v2-large', \n",
    "                 num_classes=CFG.NUM_CLASSES, device=CFG.DEVICE):\n",
    "        super(EfficientNetV2Model, self).__init__()\n",
    "        \n",
    "        self.backbone_model = backbone_model\n",
    "        self.device = device\n",
    "        self.num_classes = num_classes\n",
    "        self.name = name\n",
    "        \n",
    "        classifier = nn.Sequential(\n",
    "            nn.Flatten(),\n",
    "            nn.Dropout(p=0.2, inplace=True), \n",
    "            nn.Linear(in_features=1280, out_features=256, bias=True),\n",
    "            nn.GELU(),\n",
    "            nn.Dropout(p=0.2, inplace=True),\n",
    "            nn.Linear(in_features=256, out_features=num_classes, bias=False)\n",
    "        ).to(device)\n",
    "        \n",
    "        self._set_classifier(classifier)\n",
    "        \n",
    "    def _set_classifier(self, classifier:nn.Module) -> None:\n",
    "        self.backbone_model.classifier = classifier\n",
    "    \n",
    "    def forward(self, image):\n",
    "        return self.backbone_model(image)"
   ]
  },
  {
   "cell_type": "code",
   "execution_count": 16,
   "metadata": {},
   "outputs": [],
   "source": [
    "def get_efficientnetv2_model(device: torch.device=CFG.DEVICE) -> nn.Module:\n",
    "    torch.manual_seed(CFG.SEED)\n",
    "    torch.cuda.manual_seed(CFG.SEED)\n",
    "    model_weights = (\n",
    "        torchvision\n",
    "        .models\n",
    "        .EfficientNet_V2_L_Weights\n",
    "        .DEFAULT\n",
    "    )\n",
    "    model = (torchvision.models.efficientnet_v2_l(weights=model_weights)).to(device) \n",
    "    for param in model.features.parameters():\n",
    "        param.requires_grad = False\n",
    "    return model"
   ]
  },
  {
   "cell_type": "code",
   "execution_count": 17,
   "metadata": {},
   "outputs": [],
   "source": [
    "backbone_model = get_efficientnetv2_model(CFG.DEVICE)\n",
    "efficientnetv2_params = {\n",
    "    'backbone_model'    : backbone_model,\n",
    "    'name'              : 'efficientnet-v2-large',\n",
    "    'device'            : CFG.DEVICE\n",
    "}\n",
    "efficientnet_model = EfficientNetV2Model(**efficientnetv2_params)"
   ]
  },
  {
   "cell_type": "markdown",
   "metadata": {},
   "source": [
    "## Extracting Features\n",
    "This following method and definition is the extraction of features from the training data using the EfficientNet model. We will use train_features in our exploration of clustering and pca (disjoint and joint)."
   ]
  },
  {
   "cell_type": "code",
   "execution_count": 18,
   "metadata": {},
   "outputs": [],
   "source": [
    "def extract_features(loader, model):\n",
    "    model.eval()\n",
    "    features = []\n",
    "    with torch.no_grad():\n",
    "        for images_tuple, _, _ in loader:\n",
    "            for i in range(len(images_tuple)):\n",
    "                images = images_tuple[i].unsqueeze(0).to(CFG.DEVICE)\n",
    "                outputs = model(images)\n",
    "                features.append(outputs.cpu().numpy())\n",
    "    return np.concatenate(features)"
   ]
  },
  {
   "cell_type": "code",
   "execution_count": 19,
   "metadata": {},
   "outputs": [
    {
     "name": "stderr",
     "output_type": "stream",
     "text": [
      "[W NNPACK.cpp:53] Could not initialize NNPACK! Reason: Unsupported hardware.\n"
     ]
    }
   ],
   "source": [
    "train_features = extract_features(train_loader, backbone_model)"
   ]
  },
  {
   "cell_type": "code",
   "execution_count": 20,
   "metadata": {},
   "outputs": [
    {
     "data": {
      "text/plain": [
       "(456, 4)"
      ]
     },
     "execution_count": 20,
     "metadata": {},
     "output_type": "execute_result"
    }
   ],
   "source": [
    "train_features.shape"
   ]
  },
  {
   "cell_type": "code",
   "execution_count": 21,
   "metadata": {},
   "outputs": [
    {
     "data": {
      "text/plain": [
       "array([[ 0.11626492, -0.34005225, -0.1288602 ,  0.17364544],\n",
       "       [ 0.06820985, -0.23905718, -0.00883673,  0.05627972],\n",
       "       [-0.00741924, -0.2427106 , -0.00590448,  0.04787663],\n",
       "       ...,\n",
       "       [ 0.03762398, -0.22000252,  0.01747048, -0.00587209],\n",
       "       [ 0.02195891, -0.10082576, -0.27153128, -0.14898457],\n",
       "       [-0.0165047 , -0.2418807 ,  0.06820322, -0.01721388]],\n",
       "      dtype=float32)"
      ]
     },
     "execution_count": 21,
     "metadata": {},
     "output_type": "execute_result"
    }
   ],
   "source": [
    "train_features[180:]"
   ]
  },
  {
   "cell_type": "markdown",
   "metadata": {},
   "source": [
    "## Clustering\n",
    "First, we use the elbow method and silhouette scores to determine the optimal number of clusters for KMeans."
   ]
  },
  {
   "cell_type": "markdown",
   "metadata": {},
   "source": [
    "##### Elbow Method"
   ]
  },
  {
   "cell_type": "code",
   "execution_count": 23,
   "metadata": {},
   "outputs": [],
   "source": [
    "# Determine optimal number of clusters using the Elbow Method\n",
    "ssd = []\n",
    "range_n_clusters = range(1, 10)\n",
    "for k in range_n_clusters:\n",
    "    kmeans = KMeans(n_clusters=k, random_state=42)\n",
    "    kmeans.fit(train_features)\n",
    "    ssd.append(kmeans.inertia_)"
   ]
  },
  {
   "cell_type": "code",
   "execution_count": 24,
   "metadata": {},
   "outputs": [
    {
     "data": {
      "image/png": "[encoded data removed]",
      "text/plain": [
       "<Figure size 800x500 with 1 Axes>"
      ]
     },
     "metadata": {},
     "output_type": "display_data"
    }
   ],
   "source": [
    "# Plotting the SSD for the Elbow Method\n",
    "plt.figure(figsize=(8, 5))\n",
    "plt.plot(range_n_clusters, ssd, 'bx-')\n",
    "plt.xlabel('Number of clusters')\n",
    "plt.ylabel('Sum of squared distances')\n",
    "plt.title('Elbow Method for Optimal k')\n",
    "plt.show()"
   ]
  },
  {
   "cell_type": "markdown",
   "metadata": {},
   "source": [
    "##### Silhouette Scores"
   ]
  },
  {
   "cell_type": "code",
   "execution_count": 27,
   "metadata": {},
   "outputs": [],
   "source": [
    "# Determine optimal number of clusters using Silhouette Score\n",
    "silhouette_scores = []\n",
    "for k in range(2, 10):\n",
    "    kmeans = KMeans(n_clusters=k, random_state=42)\n",
    "    kmeans.fit(train_features)\n",
    "    score = silhouette_score(train_features, kmeans.labels_)\n",
    "    silhouette_scores.append(score)"
   ]
  },
  {
   "cell_type": "code",
   "execution_count": 28,
   "metadata": {},
   "outputs": [
    {
     "data": {
      "image/png": "[encoded data removed]",
      "text/plain": [
       "<Figure size 800x500 with 1 Axes>"
      ]
     },
     "metadata": {},
     "output_type": "display_data"
    }
   ],
   "source": [
    "# Plotting the Silhouette Scores\n",
    "plt.figure(figsize=(8, 5))\n",
    "plt.plot(range(2, 10), silhouette_scores, 'bx-')\n",
    "plt.xlabel('Number of clusters')\n",
    "plt.ylabel('Silhouette Score')\n",
    "plt.title('Silhouette Scores for Optimal k')\n",
    "plt.show()"
   ]
  },
  {
   "cell_type": "markdown",
   "metadata": {},
   "source": [
    "Based on the elbow method and the silhouette scores plots provided:\n",
    "\n",
    "**Elbow Method Plot:** The \"elbow\" point appears to be at k=3. This is where the sum of squared distances (SSD) starts to level off, indicating that adding more clusters beyond this point does not significantly reduce the SSD.\n",
    "- The elbow method is a heuristic used to determine the optimal number of clusters in a dataset. It involves plotting the within-cluster sum of squares (WCSS) against the number of clusters. WCSS measures the compactness of the clusters. It is the sum of the squared distances between each point in a cluster and its centroid.\n",
    "- To find the elbow point, you plot the WCSS for different numbers of clusters and look for the point where the rate of decrease sharply changes, resembling an \"elbow\" shape in the plot. This point represents the optimal number of clusters where adding more clusters does not significantly decrease the WCSS.\n",
    "\n",
    "**Silhouette Score Plot:** The highest silhouette score is at k=2, but it decreases as the number of clusters increases. However, k=3 still maintains a relatively high silhouette score compared to higher values of k.\n",
    "- The silhouette score measures how similar an object is to its own cluster (cohesion) compared to other clusters (separation). It ranges from -1 to 1. A high silhouette score indicates that the object is well matched to its own cluster and poorly matched to neighboring clusters.\n",
    "- The silhouette score for the entire clustering is calculated as the mean silhouette score of all samples.\n",
    "\n",
    "As such, k=3 seems to be a good choice for the number of clusters. It balances both the elbow method's indication and maintains a reasonable silhouette score."
   ]
  },
  {
   "cell_type": "code",
   "execution_count": 29,
   "metadata": {},
   "outputs": [],
   "source": [
    "# Choosing the optimal number of clusters based on Elbow Method and Silhouette Scores\n",
    "optimal_clusters = 3"
   ]
  },
  {
   "cell_type": "markdown",
   "metadata": {},
   "source": [
    "Now, we will use the above information to apply clustering techniques onto our dataset. Clustering groups similar data points together, which can be particularly useful in unsupervised learning where labels are not provided."
   ]
  },
  {
   "cell_type": "code",
   "execution_count": 30,
   "metadata": {},
   "outputs": [],
   "source": [
    "# Perform KMeans clustering with optimal clusters\n",
    "kmeans = KMeans(n_clusters=optimal_clusters, random_state=42)\n",
    "train_clusters_kmeans = kmeans.fit_predict(train_features)\n",
    "train_new_df['cluster_kmeans'] = train_clusters_kmeans"
   ]
  },
  {
   "cell_type": "code",
   "execution_count": 32,
   "metadata": {},
   "outputs": [],
   "source": [
    "train_ds_cluster_kmeans = BrainTumorMRIDataset(train_new_df, transform=train_transforms)"
   ]
  },
  {
   "cell_type": "code",
   "execution_count": 31,
   "metadata": {},
   "outputs": [],
   "source": [
    "def compute_cluster_metrics(dataset):\n",
    "    cluster_pixels = {}\n",
    "    for image, _, cluster_label in dataset:\n",
    "        pixels = image.cpu().numpy().flatten()\n",
    "        pixels = pixels * 255   # Since tensors are normalized, we'll convert them back to a typical intensity scale if needed\n",
    "        if cluster_label in cluster_pixels:\n",
    "            cluster_pixels[cluster_label].extend(pixels)\n",
    "        else:\n",
    "            cluster_pixels[cluster_label] = list(pixels)\n",
    "\n",
    "    cluster_metrics = {}\n",
    "    for cluster, pixels in cluster_pixels.items():\n",
    "        pixels = np.array(pixels)\n",
    "        avg_intensity = np.mean(pixels)\n",
    "        std_dev = np.std(pixels)\n",
    "        cluster_metrics[cluster] = {'avg_intensity': avg_intensity, 'std_dev': std_dev}\n",
    "\n",
    "    return cluster_metrics"
   ]
  },
  {
   "cell_type": "code",
   "execution_count": 33,
   "metadata": {},
   "outputs": [
    {
     "data": {
      "text/plain": [
       "{3: {'avg_intensity': 47.403687, 'std_dev': 41.16208},\n",
       " 0: {'avg_intensity': 32.86749, 'std_dev': 39.523575},\n",
       " 2: {'avg_intensity': 63.047462, 'std_dev': 63.520638},\n",
       " 1: {'avg_intensity': 44.899525, 'std_dev': 49.508053}}"
      ]
     },
     "execution_count": 33,
     "metadata": {},
     "output_type": "execute_result"
    }
   ],
   "source": [
    "kmeans_metrics = compute_cluster_metrics(train_ds_cluster_kmeans)\n",
    "kmeans_metrics"
   ]
  },
  {
   "cell_type": "markdown",
   "metadata": {},
   "source": [
    "#### KMeans Cluster Metrics\n",
    "- **Average Intensity (avg_intensity):** This is the mean pixel intensity of all images grouped into a specific cluster. In medical imaging, like MRI scans, this might reflect the overall brightness or contrast of the images which can be related to the tissue or anomaly characteristics in medical scenarios.\n",
    "- **Standard Deviation (std_dev):** This represents the variability or spread of the pixel intensities within each cluster. A higher standard deviation indicates a wider range of pixel intensity values, suggesting more variability within the images of that cluster. Conversely, a lower standard deviation indicates more uniformity among the images in terms of brightness and contrast.\n",
    "\n",
    "Specific Cluster Details:\n",
    "- Cluster 3 has an average intensity of 47.40 with a standard deviation of 41.16, suggesting a moderate average intensity with a wide range of pixel values.\n",
    "- Cluster 0 shows a lower average intensity of 32.87 with a standard deviation of 39.52, indicating less brightness but still a significant spread in intensity values.\n",
    "- Cluster 2 exhibits the highest average intensity at 63.05 and also the highest variability (standard deviation of 63.52), which could mean this cluster contains the most distinct or varied images in terms of brightness.\n",
    "- Cluster 1 has an average intensity of 44.90 with a standard deviation of 49.51, which is moderately high in both average intensity and variability."
   ]
  },
  {
   "cell_type": "markdown",
   "metadata": {},
   "source": [
    "## Training the Model"
   ]
  },
  {
   "cell_type": "code",
   "execution_count": 35,
   "metadata": {},
   "outputs": [],
   "source": [
    "# Ensure DataLoader uses proper collate_fn to handle None values\n",
    "def custom_collate_fn(batch):\n",
    "    # Filter out None values in the batch\n",
    "    batch = [b for b in batch if b is not None]\n",
    "    if len(batch) == 0:\n",
    "        return None\n",
    "    return torch.utils.data.dataloader.default_collate(batch)"
   ]
  },
  {
   "cell_type": "code",
   "execution_count": 36,
   "metadata": {},
   "outputs": [],
   "source": [
    "train_loader_cluster_kmeans = DataLoader(train_ds_cluster_kmeans, batch_size=CFG.BATCH_SIZE, shuffle=CFG.APPLY_SHUFFLE, num_workers=CFG.NUM_WORKERS, collate_fn=custom_collate_fn)"
   ]
  },
  {
   "cell_type": "code",
   "execution_count": 37,
   "metadata": {},
   "outputs": [],
   "source": [
    "# Training the model with clustering labels\n",
    "efficientnet_model = EfficientNetV2Model(backbone_model, num_classes=4, device=CFG.DEVICE)\n",
    "optimizer = optim.AdamW(efficientnet_model.parameters(), lr=CFG.LR)\n",
    "loss_fn = nn.CrossEntropyLoss()"
   ]
  },
  {
   "cell_type": "code",
   "execution_count": 39,
   "metadata": {},
   "outputs": [],
   "source": [
    "def execute_epoch(model, dataloader, optimizer, loss_fn, device):\n",
    "    model.train()\n",
    "    train_loss, train_acc = 0, 0\n",
    "    for batch_idx, (images, targets, clustering_labels) in enumerate(tqdm(dataloader)):\n",
    "        images, targets = images.to(device), targets.to(device)\n",
    "        optimizer.zero_grad()\n",
    "        outputs = model(images)\n",
    "        loss = loss_fn(outputs, targets)\n",
    "        loss.backward()\n",
    "        optimizer.step()\n",
    "        train_loss += loss.item() * images.size(0)\n",
    "        _, predicted = outputs.max(1)\n",
    "        correct = predicted.eq(targets).sum().item()\n",
    "        train_acc += correct\n",
    "    \n",
    "    train_loss /= len(dataloader.dataset)\n",
    "    train_acc /= len(dataloader.dataset)\n",
    "    return train_loss, train_acc"
   ]
  },
  {
   "cell_type": "code",
   "execution_count": 40,
   "metadata": {},
   "outputs": [],
   "source": [
    "def evaluate(model, dataloader, loss_fn, device) -> Tuple[float, float]:\n",
    "    model.eval()\n",
    "    eval_loss, eval_acc = 0, 0\n",
    "    with torch.inference_mode():\n",
    "        for batch_idx, batch in enumerate(dataloader):\n",
    "            if batch is None:\n",
    "                print(f\"Batch {batch_idx} is None, skipping.\")\n",
    "                continue\n",
    "            \n",
    "            X, y, _ = batch\n",
    "            if X is None or len(X) == 0:\n",
    "                print(f\"Batch {batch_idx} is empty, skipping.\")\n",
    "                continue\n",
    "            X, y = X.to(device), y.to(device)\n",
    "            y_pred = model(X)\n",
    "            loss = loss_fn(y_pred, y)\n",
    "            eval_loss += loss.item()\n",
    "            predicted_class = torch.argmax(torch.softmax(y_pred, dim=1), dim=1)\n",
    "            eval_acc += (predicted_class == y).sum().item() / len(y_pred)\n",
    "\n",
    "    eval_loss = eval_loss / len(dataloader)\n",
    "    eval_acc = eval_acc / len(dataloader)\n",
    "    return eval_loss, eval_acc"
   ]
  },
  {
   "cell_type": "code",
   "execution_count": 42,
   "metadata": {},
   "outputs": [],
   "source": [
    "def train(model, train_dataloader, eval_dataloader, optimizer, loss_fn, epochs, device):\n",
    "    session = {'loss': [], 'accuracy': [], 'eval_loss': [], 'eval_accuracy': []}\n",
    "    for epoch in range(epochs):\n",
    "        train_loss, train_acc = execute_epoch(model, train_dataloader, optimizer, loss_fn, device)\n",
    "        eval_loss, eval_acc = evaluate(model, eval_dataloader, loss_fn, device)\n",
    "        session['loss'].append(train_loss)\n",
    "        session['accuracy'].append(train_acc)\n",
    "        session['eval_loss'].append(eval_loss)\n",
    "        session['eval_accuracy'].append(eval_acc)\n",
    "    return session"
   ]
  },
  {
   "cell_type": "code",
   "execution_count": 43,
   "metadata": {},
   "outputs": [
    {
     "data": {
      "application/vnd.jupyter.widget-view+json": {
       "model_id": "fd44a4d96e034ed49ba0b29b1daca2bc",
       "version_major": 2,
       "version_minor": 0
      },
      "text/plain": [
       "  0%|          | 0/15 [00:00<?, ?it/s]"
      ]
     },
     "metadata": {},
     "output_type": "display_data"
    },
    {
     "data": {
      "application/vnd.jupyter.widget-view+json": {
       "model_id": "40dbdc29b14a45268e6c2ffda386292c",
       "version_major": 2,
       "version_minor": 0
      },
      "text/plain": [
       "  0%|          | 0/15 [00:00<?, ?it/s]"
      ]
     },
     "metadata": {},
     "output_type": "display_data"
    },
    {
     "data": {
      "application/vnd.jupyter.widget-view+json": {
       "model_id": "32f17bb8708945faa80c1201dfc80657",
       "version_major": 2,
       "version_minor": 0
      },
      "text/plain": [
       "  0%|          | 0/15 [00:00<?, ?it/s]"
      ]
     },
     "metadata": {},
     "output_type": "display_data"
    },
    {
     "data": {
      "application/vnd.jupyter.widget-view+json": {
       "model_id": "f077a1bdfdf04f7b8329b48ecd2acad6",
       "version_major": 2,
       "version_minor": 0
      },
      "text/plain": [
       "  0%|          | 0/15 [00:00<?, ?it/s]"
      ]
     },
     "metadata": {},
     "output_type": "display_data"
    },
    {
     "data": {
      "application/vnd.jupyter.widget-view+json": {
       "model_id": "c57df3a11ea040bab840fd4bc2f9a2f3",
       "version_major": 2,
       "version_minor": 0
      },
      "text/plain": [
       "  0%|          | 0/15 [00:00<?, ?it/s]"
      ]
     },
     "metadata": {},
     "output_type": "display_data"
    },
    {
     "data": {
      "application/vnd.jupyter.widget-view+json": {
       "model_id": "18deac13e4d647a79ae0c0db49df16e6",
       "version_major": 2,
       "version_minor": 0
      },
      "text/plain": [
       "  0%|          | 0/15 [00:00<?, ?it/s]"
      ]
     },
     "metadata": {},
     "output_type": "display_data"
    },
    {
     "data": {
      "application/vnd.jupyter.widget-view+json": {
       "model_id": "ea1c4b442f774b0d999d88b8d9e174c1",
       "version_major": 2,
       "version_minor": 0
      },
      "text/plain": [
       "  0%|          | 0/15 [00:00<?, ?it/s]"
      ]
     },
     "metadata": {},
     "output_type": "display_data"
    },
    {
     "data": {
      "application/vnd.jupyter.widget-view+json": {
       "model_id": "5d40504624af47f1a18f47d45319ca8c",
       "version_major": 2,
       "version_minor": 0
      },
      "text/plain": [
       "  0%|          | 0/15 [00:00<?, ?it/s]"
      ]
     },
     "metadata": {},
     "output_type": "display_data"
    },
    {
     "data": {
      "application/vnd.jupyter.widget-view+json": {
       "model_id": "95325ea66976413f8d91da91f1b8c03e",
       "version_major": 2,
       "version_minor": 0
      },
      "text/plain": [
       "  0%|          | 0/15 [00:00<?, ?it/s]"
      ]
     },
     "metadata": {},
     "output_type": "display_data"
    },
    {
     "data": {
      "application/vnd.jupyter.widget-view+json": {
       "model_id": "492eb1caa8b043bd850153cff8f4852e",
       "version_major": 2,
       "version_minor": 0
      },
      "text/plain": [
       "  0%|          | 0/15 [00:00<?, ?it/s]"
      ]
     },
     "metadata": {},
     "output_type": "display_data"
    },
    {
     "data": {
      "application/vnd.jupyter.widget-view+json": {
       "model_id": "e9b6671d36cc4e528c8dad7d9bfc7b48",
       "version_major": 2,
       "version_minor": 0
      },
      "text/plain": [
       "  0%|          | 0/15 [00:00<?, ?it/s]"
      ]
     },
     "metadata": {},
     "output_type": "display_data"
    },
    {
     "data": {
      "application/vnd.jupyter.widget-view+json": {
       "model_id": "7a13b45f4ba04a34bf4731a136462a04",
       "version_major": 2,
       "version_minor": 0
      },
      "text/plain": [
       "  0%|          | 0/15 [00:00<?, ?it/s]"
      ]
     },
     "metadata": {},
     "output_type": "display_data"
    },
    {
     "data": {
      "application/vnd.jupyter.widget-view+json": {
       "model_id": "c5ab81c38620438684cfa55d01d1a4a7",
       "version_major": 2,
       "version_minor": 0
      },
      "text/plain": [
       "  0%|          | 0/15 [00:00<?, ?it/s]"
      ]
     },
     "metadata": {},
     "output_type": "display_data"
    },
    {
     "data": {
      "application/vnd.jupyter.widget-view+json": {
       "model_id": "f5a22d1be3e649e697b5d21e3dfb6d3b",
       "version_major": 2,
       "version_minor": 0
      },
      "text/plain": [
       "  0%|          | 0/15 [00:00<?, ?it/s]"
      ]
     },
     "metadata": {},
     "output_type": "display_data"
    },
    {
     "data": {
      "application/vnd.jupyter.widget-view+json": {
       "model_id": "5d9cb88bedcf4073932bed1527d3cc21",
       "version_major": 2,
       "version_minor": 0
      },
      "text/plain": [
       "  0%|          | 0/15 [00:00<?, ?it/s]"
      ]
     },
     "metadata": {},
     "output_type": "display_data"
    },
    {
     "data": {
      "application/vnd.jupyter.widget-view+json": {
       "model_id": "d9f93307d45246ed8d0d4d9a134d3553",
       "version_major": 2,
       "version_minor": 0
      },
      "text/plain": [
       "  0%|          | 0/15 [00:00<?, ?it/s]"
      ]
     },
     "metadata": {},
     "output_type": "display_data"
    }
   ],
   "source": [
    "efficientnet_session_config_cluster_kmeans = {\n",
    "    'model': efficientnet_model,\n",
    "    'train_dataloader': train_loader_cluster_kmeans,\n",
    "    'eval_dataloader': val_loader,\n",
    "    'optimizer': optimizer,\n",
    "    'loss_fn': loss_fn,\n",
    "    'epochs': CFG.EPOCHS,\n",
    "    'device': CFG.DEVICE\n",
    "}\n",
    "efficientnet_session_history_cluster_kmeans = train(**efficientnet_session_config_cluster_kmeans)"
   ]
  },
  {
   "cell_type": "markdown",
   "metadata": {},
   "source": [
    "## Performance Analysis"
   ]
  },
  {
   "cell_type": "code",
   "execution_count": 44,
   "metadata": {},
   "outputs": [],
   "source": [
    "def predict(model, dataloader, device):\n",
    "    predictions = []\n",
    "    model.eval()\n",
    "    with torch.no_grad():\n",
    "        for images, _, _ in tqdm(dataloader):\n",
    "            images = images.to(device)\n",
    "            outputs = model(images)\n",
    "            _, predicted = torch.max(outputs, 1)\n",
    "            predictions.extend(predicted.cpu().numpy())\n",
    "    return predictions"
   ]
  },
  {
   "cell_type": "code",
   "execution_count": 45,
   "metadata": {},
   "outputs": [],
   "source": [
    "def plot_training_curves(history):\n",
    "    loss = np.array(history['loss'])\n",
    "    accuracy = np.array(history['accuracy'])\n",
    "    val_loss = np.array(history['eval_loss'])\n",
    "    val_accuracy = np.array(history['eval_accuracy'])\n",
    "    epochs = range(len(history['loss']))\n",
    "\n",
    "    # Plot loss\n",
    "    fig, (ax1, ax2) = plt.subplots(1, 2, figsize=(20, 8))\n",
    "    ax1.plot(epochs, loss, label='training_loss', marker='o')\n",
    "    ax1.plot(epochs, val_loss, label='eval_loss', marker='o')\n",
    "    ax1.fill_between(epochs, loss, val_loss, where=(loss > val_loss), color='C0', alpha=0.3, interpolate=True)\n",
    "    ax1.fill_between(epochs, loss, val_loss, where=(loss < val_loss), color='C1', alpha=0.3, interpolate=True)\n",
    "    ax1.set_title('Loss (Lower Means Better)', fontsize=16)\n",
    "    ax1.set_xlabel('Epochs', fontsize=12)\n",
    "    ax1.legend()\n",
    "\n",
    "    # Plot accuracy\n",
    "    ax2.plot(epochs, accuracy, label='training_accuracy', marker='o')\n",
    "    ax2.plot(epochs, val_accuracy, label='eval_accuracy', marker='o')\n",
    "    ax2.fill_between(epochs, accuracy, val_accuracy, where=(accuracy > val_accuracy), color='C0', alpha=0.3, interpolate=True)\n",
    "    ax2.fill_between(epochs, accuracy, val_accuracy, where=(accuracy < val_accuracy), color='C1', alpha=0.3, interpolate=True)\n",
    "    ax2.set_title('Accuracy (Higher Means Better)', fontsize=16)\n",
    "    ax2.set_xlabel('Epochs', fontsize=12)\n",
    "    ax2.legend();\n",
    "    \n",
    "    sns.despine();\n",
    "    return"
   ]
  },
  {
   "cell_type": "code",
   "execution_count": 46,
   "metadata": {},
   "outputs": [],
   "source": [
    "test_labels = [*map(test_ds.class_to_idx.get, test_ds.labels)]"
   ]
  },
  {
   "cell_type": "code",
   "execution_count": 48,
   "metadata": {},
   "outputs": [
    {
     "data": {
      "application/vnd.jupyter.widget-view+json": {
       "model_id": "b1db0da316a44788b6c8605be47a0f35",
       "version_major": 2,
       "version_minor": 0
      },
      "text/plain": [
       "  0%|          | 0/41 [00:00<?, ?it/s]"
      ]
     },
     "metadata": {},
     "output_type": "display_data"
    },
    {
     "name": "stdout",
     "output_type": "stream",
     "text": [
      "[0, 1, 0, 1, 0, 0, 0, 0, 0, 0, 0, 0, 0, 2, 0, 0, 1, 1, 0, 1, 0, 1, 0, 0, 1, 1, 1, 0, 0, 0, 0, 0, 1, 0, 1, 0, 0, 0, 0, 0, 0, 1, 0, 0, 0, 0, 1, 0, 0, 0, 0, 1, 1, 0, 1, 0, 1, 1, 0, 0, 1, 1, 0, 0, 0, 0, 1, 0, 0, 0, 0, 0, 0, 0, 0, 1, 0, 1, 0, 0, 0, 1, 1, 0, 0, 1, 0, 0, 3, 1, 0, 1, 0, 0, 0, 0, 1, 0, 0, 1, 1, 0, 0, 0, 0, 0, 0, 0, 0, 0, 0, 3, 0, 0, 0, 0, 1, 1, 0, 0, 0, 0, 0, 1, 0, 1, 0, 3, 0, 0, 1, 3, 0, 0, 0, 0, 0, 1, 0, 0, 0, 0, 0, 1, 0, 0, 0, 1, 0, 0, 0, 0, 1, 0, 0, 0, 1, 1, 0, 0, 3, 0, 0, 1, 0, 0, 1, 0, 0, 3, 0, 0, 3, 1, 1, 1, 0, 0, 3, 1, 0, 0, 0, 0, 1, 0, 0, 0, 0, 0, 0, 0, 0, 0, 0, 0, 0, 1, 3, 1, 0, 0, 1, 0, 3, 0, 0, 0, 0, 0, 0, 0, 1, 0, 0, 1, 3, 1, 1, 0, 0, 1, 0, 0, 0, 0, 0, 3, 1, 0, 0, 0, 0, 1, 1, 0, 1, 0, 1, 0, 1, 0, 0, 1, 0, 0, 0, 1, 0, 0, 0, 1, 0, 0, 1, 3, 3, 1, 0, 0, 0, 1, 0, 1, 1, 0, 1, 0, 3, 0, 1, 0, 1, 0, 0, 1, 1, 0, 0, 1, 0, 0, 1, 0, 0, 0, 0, 0, 1, 0, 0, 0, 0, 0, 0, 1, 0, 3, 1, 3, 3, 3, 3, 3, 1, 1, 3, 3, 3, 3, 3, 3, 3, 3, 1, 3, 3, 3, 3, 3, 3, 3, 3, 3, 3, 3, 3, 3, 3, 3, 3, 3, 3, 3, 3, 3, 3, 3, 3, 3, 3, 3, 3, 3, 3, 3, 3, 3, 3, 3, 3, 3, 1, 3, 3, 3, 3, 3, 3, 3, 3, 3, 1, 3, 3, 3, 3, 3, 3, 3, 3, 3, 3, 3, 3, 3, 3, 3, 3, 3, 3, 3, 3, 3, 1, 1, 3, 3, 1, 3, 3, 3, 3, 3, 3, 3, 3, 3, 3, 3, 3, 3, 3, 3, 1, 1, 3, 3, 3, 3, 0, 3, 3, 3, 3, 3, 3, 3, 3, 3, 3, 3, 3, 3, 3, 3, 3, 3, 3, 3, 3, 3, 3, 3, 3, 3, 3, 3, 3, 3, 3, 1, 3, 1, 3, 1, 3, 3, 3, 3, 3, 3, 3, 3, 3, 3, 3, 1, 3, 3, 3, 3, 3, 3, 3, 3, 3, 3, 3, 3, 3, 3, 3, 3, 3, 3, 3, 3, 3, 1, 3, 3, 3, 3, 3, 3, 3, 3, 3, 3, 3, 3, 3, 3, 3, 3, 3, 3, 3, 3, 3, 3, 3, 3, 1, 3, 3, 3, 3, 3, 1, 3, 3, 3, 1, 3, 3, 3, 3, 3, 3, 3, 3, 3, 3, 3, 3, 3, 3, 3, 3, 3, 3, 3, 3, 3, 3, 3, 3, 3, 3, 3, 1, 3, 3, 3, 3, 3, 0, 3, 3, 3, 3, 3, 3, 3, 1, 3, 3, 3, 3, 3, 3, 3, 3, 3, 3, 3, 3, 3, 3, 3, 3, 3, 3, 3, 3, 3, 3, 3, 3, 3, 3, 3, 3, 3, 3, 3, 3, 3, 3, 3, 3, 3, 3, 3, 3, 3, 3, 1, 1, 1, 2, 1, 1, 1, 1, 2, 1, 1, 1, 0, 1, 1, 1, 1, 1, 2, 1, 1, 1, 1, 1, 1, 1, 1, 1, 1, 1, 1, 1, 1, 1, 1, 1, 1, 1, 1, 1, 1, 1, 0, 1, 3, 3, 1, 1, 1, 1, 1, 1, 1, 1, 1, 1, 1, 1, 1, 1, 1, 3, 1, 1, 3, 1, 3, 1, 1, 1, 1, 2, 2, 1, 2, 2, 1, 1, 2, 1, 1, 1, 1, 1, 1, 1, 3, 1, 1, 1, 1, 1, 1, 1, 1, 2, 2, 3, 3, 1, 1, 1, 2, 2, 1, 1, 1, 1, 1, 1, 1, 1, 1, 1, 1, 1, 1, 2, 1, 1, 1, 2, 2, 1, 3, 2, 1, 1, 1, 1, 1, 1, 1, 1, 1, 1, 1, 2, 2, 1, 1, 1, 0, 1, 1, 1, 1, 1, 1, 1, 1, 1, 1, 1, 1, 1, 1, 1, 1, 2, 0, 1, 1, 1, 1, 2, 1, 1, 1, 3, 1, 1, 1, 3, 1, 1, 1, 1, 1, 1, 1, 1, 2, 1, 1, 1, 1, 3, 1, 1, 1, 1, 3, 1, 3, 3, 1, 1, 1, 1, 1, 1, 1, 1, 1, 1, 1, 3, 1, 0, 1, 1, 1, 1, 1, 1, 1, 1, 1, 1, 3, 1, 1, 1, 1, 1, 1, 1, 1, 1, 1, 2, 1, 1, 1, 1, 2, 1, 1, 1, 3, 1, 1, 1, 1, 1, 1, 1, 1, 1, 1, 1, 1, 1, 1, 1, 2, 3, 1, 1, 0, 3, 1, 1, 1, 1, 2, 2, 1, 1, 1, 1, 1, 1, 1, 1, 0, 1, 1, 1, 1, 1, 1, 1, 1, 2, 1, 1, 1, 1, 1, 1, 1, 1, 1, 2, 1, 1, 2, 1, 1, 1, 2, 1, 1, 3, 1, 2, 2, 2, 2, 2, 2, 2, 2, 1, 2, 2, 2, 2, 2, 2, 2, 2, 2, 2, 2, 2, 2, 2, 2, 2, 2, 2, 2, 2, 2, 2, 2, 2, 2, 2, 0, 2, 2, 2, 2, 2, 2, 2, 2, 2, 2, 2, 2, 2, 0, 2, 2, 2, 2, 2, 2, 2, 2, 2, 2, 2, 2, 0, 3, 2, 2, 2, 2, 2, 2, 2, 2, 2, 2, 2, 2, 2, 2, 2, 2, 2, 2, 2, 2, 2, 2, 2, 2, 2, 2, 2, 2, 2, 2, 2, 3, 2, 2, 2, 2, 1, 0, 2, 2, 2, 2, 2, 1, 2, 2, 2, 2, 2, 2, 1, 2, 2, 2, 2, 2, 2, 2, 2, 2, 2, 2, 2, 2, 2, 2, 2, 2, 2, 2, 2, 2, 2, 2, 2, 2, 2, 2, 1, 2, 2, 2, 1, 2, 2, 2, 2, 2, 2, 2, 2, 2, 2, 2, 2, 2, 2, 2, 2, 2, 2, 2, 2, 2, 2, 2, 2, 2, 2, 2, 2, 2, 2, 2, 2, 2, 2, 0, 2, 2, 2, 2, 2, 2, 2, 2, 2, 2, 2, 2, 2, 2, 2, 2, 2, 2, 2, 2, 2, 2, 2, 2, 2, 2, 2, 2, 3, 2, 2, 2, 2, 2, 2, 2, 2, 2, 2, 2, 1, 2, 2, 2, 2, 2, 2, 2, 2, 2, 2, 2, 2, 2, 2, 2, 2, 2, 2, 2, 2, 2, 0, 2, 2, 2, 2, 2, 1, 2, 2, 2, 2, 2, 2, 2, 2, 2, 2, 2, 2, 2, 2, 2, 2, 2, 2, 2, 2, 2, 2, 2, 2, 2, 2, 2, 2, 2, 2, 2, 2, 2, 2, 2, 2, 2, 2, 2, 2, 2, 2, 2, 2, 2, 2, 2, 2, 2, 2, 2, 2, 2, 2, 2, 2, 2, 1, 2, 2, 2, 2, 2, 2, 2, 2, 2, 2, 2, 2, 2, 2, 2, 2, 2, 2, 2, 2, 2, 2, 2, 2, 2, 2, 2, 2, 2, 2, 2, 2, 2, 2, 2, 2, 2, 2, 2, 2, 2, 2, 2, 2, 2, 2, 2, 2, 2, 2, 2, 2, 2, 2, 2, 2, 2, 2, 2, 2, 2, 2, 2, 2, 2, 2, 2, 2, 2, 2, 2, 2, 2, 2, 2, 2, 2, 2, 2, 2, 2, 0, 0, 2, 2, 2, 2, 2, 2, 2, 2, 2, 2, 2, 2, 2]\n"
     ]
    }
   ],
   "source": [
    "efficientnet_test_preds_kmeans = predict(efficientnet_model, test_loader, CFG.DEVICE)\n",
    "print(efficientnet_test_preds_kmeans)"
   ]
  },
  {
   "cell_type": "code",
   "execution_count": 59,
   "metadata": {},
   "outputs": [
    {
     "data": {
      "text/html": [
       "<div>\n",
       "<style scoped>\n",
       "    .dataframe tbody tr th:only-of-type {\n",
       "        vertical-align: middle;\n",
       "    }\n",
       "\n",
       "    .dataframe tbody tr th {\n",
       "        vertical-align: top;\n",
       "    }\n",
       "\n",
       "    .dataframe thead th {\n",
       "        text-align: right;\n",
       "    }\n",
       "</style>\n",
       "<table border=\"1\" class=\"dataframe\">\n",
       "  <thead>\n",
       "    <tr style=\"text-align: right;\">\n",
       "      <th></th>\n",
       "      <th>loss</th>\n",
       "      <th>accuracy</th>\n",
       "      <th>eval_loss</th>\n",
       "      <th>eval_accuracy</th>\n",
       "    </tr>\n",
       "  </thead>\n",
       "  <tbody>\n",
       "    <tr>\n",
       "      <th>0</th>\n",
       "      <td>1.066093</td>\n",
       "      <td>0.563596</td>\n",
       "      <td>0.887471</td>\n",
       "      <td>0.649671</td>\n",
       "    </tr>\n",
       "    <tr>\n",
       "      <th>1</th>\n",
       "      <td>0.663715</td>\n",
       "      <td>0.767544</td>\n",
       "      <td>0.700279</td>\n",
       "      <td>0.736020</td>\n",
       "    </tr>\n",
       "    <tr>\n",
       "      <th>2</th>\n",
       "      <td>0.581085</td>\n",
       "      <td>0.785088</td>\n",
       "      <td>0.571181</td>\n",
       "      <td>0.809211</td>\n",
       "    </tr>\n",
       "    <tr>\n",
       "      <th>3</th>\n",
       "      <td>0.479195</td>\n",
       "      <td>0.820175</td>\n",
       "      <td>0.449883</td>\n",
       "      <td>0.864309</td>\n",
       "    </tr>\n",
       "    <tr>\n",
       "      <th>4</th>\n",
       "      <td>0.469796</td>\n",
       "      <td>0.831140</td>\n",
       "      <td>0.403665</td>\n",
       "      <td>0.882401</td>\n",
       "    </tr>\n",
       "    <tr>\n",
       "      <th>5</th>\n",
       "      <td>0.403857</td>\n",
       "      <td>0.842105</td>\n",
       "      <td>0.373994</td>\n",
       "      <td>0.882401</td>\n",
       "    </tr>\n",
       "    <tr>\n",
       "      <th>6</th>\n",
       "      <td>0.371926</td>\n",
       "      <td>0.864035</td>\n",
       "      <td>0.422817</td>\n",
       "      <td>0.869243</td>\n",
       "    </tr>\n",
       "    <tr>\n",
       "      <th>7</th>\n",
       "      <td>0.396312</td>\n",
       "      <td>0.864035</td>\n",
       "      <td>0.410119</td>\n",
       "      <td>0.853618</td>\n",
       "    </tr>\n",
       "    <tr>\n",
       "      <th>8</th>\n",
       "      <td>0.399209</td>\n",
       "      <td>0.842105</td>\n",
       "      <td>0.402019</td>\n",
       "      <td>0.895559</td>\n",
       "    </tr>\n",
       "    <tr>\n",
       "      <th>9</th>\n",
       "      <td>0.298494</td>\n",
       "      <td>0.877193</td>\n",
       "      <td>0.423416</td>\n",
       "      <td>0.874589</td>\n",
       "    </tr>\n",
       "    <tr>\n",
       "      <th>10</th>\n",
       "      <td>0.387534</td>\n",
       "      <td>0.855263</td>\n",
       "      <td>0.369123</td>\n",
       "      <td>0.890214</td>\n",
       "    </tr>\n",
       "    <tr>\n",
       "      <th>11</th>\n",
       "      <td>0.330921</td>\n",
       "      <td>0.868421</td>\n",
       "      <td>0.366318</td>\n",
       "      <td>0.890214</td>\n",
       "    </tr>\n",
       "    <tr>\n",
       "      <th>12</th>\n",
       "      <td>0.296486</td>\n",
       "      <td>0.894737</td>\n",
       "      <td>0.344379</td>\n",
       "      <td>0.918997</td>\n",
       "    </tr>\n",
       "    <tr>\n",
       "      <th>13</th>\n",
       "      <td>0.301431</td>\n",
       "      <td>0.896930</td>\n",
       "      <td>0.444600</td>\n",
       "      <td>0.877467</td>\n",
       "    </tr>\n",
       "    <tr>\n",
       "      <th>14</th>\n",
       "      <td>0.418215</td>\n",
       "      <td>0.853070</td>\n",
       "      <td>0.356721</td>\n",
       "      <td>0.911184</td>\n",
       "    </tr>\n",
       "    <tr>\n",
       "      <th>15</th>\n",
       "      <td>0.335182</td>\n",
       "      <td>0.870614</td>\n",
       "      <td>0.318242</td>\n",
       "      <td>0.913651</td>\n",
       "    </tr>\n",
       "  </tbody>\n",
       "</table>\n",
       "</div>"
      ],
      "text/plain": [
       "        loss  accuracy  eval_loss  eval_accuracy\n",
       "0   1.066093  0.563596   0.887471       0.649671\n",
       "1   0.663715  0.767544   0.700279       0.736020\n",
       "2   0.581085  0.785088   0.571181       0.809211\n",
       "3   0.479195  0.820175   0.449883       0.864309\n",
       "4   0.469796  0.831140   0.403665       0.882401\n",
       "5   0.403857  0.842105   0.373994       0.882401\n",
       "6   0.371926  0.864035   0.422817       0.869243\n",
       "7   0.396312  0.864035   0.410119       0.853618\n",
       "8   0.399209  0.842105   0.402019       0.895559\n",
       "9   0.298494  0.877193   0.423416       0.874589\n",
       "10  0.387534  0.855263   0.369123       0.890214\n",
       "11  0.330921  0.868421   0.366318       0.890214\n",
       "12  0.296486  0.894737   0.344379       0.918997\n",
       "13  0.301431  0.896930   0.444600       0.877467\n",
       "14  0.418215  0.853070   0.356721       0.911184\n",
       "15  0.335182  0.870614   0.318242       0.913651"
      ]
     },
     "execution_count": 59,
     "metadata": {},
     "output_type": "execute_result"
    }
   ],
   "source": [
    "efficientnet_kmeans_history_df = pd.DataFrame(efficientnet_session_history_cluster_kmeans)\n",
    "efficientnet_kmeans_history_df"
   ]
  },
  {
   "cell_type": "code",
   "execution_count": 50,
   "metadata": {},
   "outputs": [
    {
     "data": {
      "image/png": "[encoded data removed]",
      "text/plain": [
       "<Figure size 2000x800 with 2 Axes>"
      ]
     },
     "metadata": {},
     "output_type": "display_data"
    }
   ],
   "source": [
    "plot_training_curves(efficientnet_session_history_cluster_kmeans)"
   ]
  },
  {
   "cell_type": "markdown",
   "metadata": {},
   "source": [
    "**Loss Graph**\n",
    "- Training Loss (Blue line) shows a sharp decrease from the initial epoch, quickly stabilizing as epochs progress. This indicates that the model is effectively learning and optimizing its parameters from the training data.\n",
    "- Evaluation Loss (Orange line) also decreases initially but shows some variability with minor fluctuations up and down as the epochs increase. This suggests that while the model performs well on training data, its performance on unseen validation data is slightly less stable.\n",
    "\n",
    "**Accuracy Graph**\n",
    "- Training Accuracy (Blue line) rapidly increases, indicating the model's good performance on the training dataset.\n",
    "- Evaluation Accuracy (Orange line) rises significantly at the start but has notable fluctuations throughout the training process. This indicates variability in the model's generalization to new, unseen data.\n",
    "\n",
    "The divergence between training and evaluation metrics suggests potential overfitting, where the model is too closely fitted to the training data, losing some ability to generalize effectively."
   ]
  },
  {
   "cell_type": "code",
   "execution_count": 55,
   "metadata": {},
   "outputs": [
    {
     "name": "stdout",
     "output_type": "stream",
     "text": [
      "Confusion Matrix:\n",
      " [[201  81   1  17]\n",
      " [  7 248  30  21]\n",
      " [  8   9 385   3]\n",
      " [  2  21   0 277]]\n"
     ]
    }
   ],
   "source": [
    "cm = confusion_matrix(test_labels, efficientnet_test_preds_kmeans)\n",
    "print(\"Confusion Matrix:\\n\", cm)"
   ]
  },
  {
   "cell_type": "code",
   "execution_count": 58,
   "metadata": {},
   "outputs": [
    {
     "data": {
      "image/png": "[encoded data removed]",
      "text/plain": [
       "<Figure size 640x480 with 2 Axes>"
      ]
     },
     "metadata": {},
     "output_type": "display_data"
    }
   ],
   "source": [
    "ConfusionMatrixDisplay.from_predictions(test_labels, efficientnet_test_preds_kmeans, cmap=plt.cm.Blues)\n",
    "plt.show()"
   ]
  },
  {
   "cell_type": "markdown",
   "metadata": {},
   "source": [
    "The confusion matrix shows the performance of a classifier with respect to the true labels versus predicted labels for different classes (glioma, meningioma, notumor, and pituitary).\n",
    "Diagonal values represent correct predictions, whereas off-diagonal values indicate misclassifications. For example, gliomas are mostly correctly identified, but there are some confusions with meningiomas.\n",
    "- Class 0 (glioma): The model correctly predicts 201 out of 300 cases, but there are significant misclassifications as Class 1.\n",
    "- Class 1 (meningioma): Predicted quite well with 248 correct out of 306 cases, showing some confusion with Class 3.\n",
    "- Class 2 (notumor): Very accurately predicted with 385 correct predictions out of 405 cases.\n",
    "- Class 3 (pituitary): Also well predicted with 277 out of 300 cases, with some misclassifications as Class 1."
   ]
  },
  {
   "cell_type": "code",
   "execution_count": 56,
   "metadata": {},
   "outputs": [
    {
     "name": "stdout",
     "output_type": "stream",
     "text": [
      "\n",
      "Classification Report:\n",
      "               precision    recall  f1-score   support\n",
      "\n",
      "           0       0.92      0.67      0.78       300\n",
      "           1       0.69      0.81      0.75       306\n",
      "           2       0.93      0.95      0.94       405\n",
      "           3       0.87      0.92      0.90       300\n",
      "\n",
      "    accuracy                           0.85      1311\n",
      "   macro avg       0.85      0.84      0.84      1311\n",
      "weighted avg       0.86      0.85      0.85      1311\n",
      "\n"
     ]
    }
   ],
   "source": [
    "report = classification_report(test_labels, efficientnet_test_preds_kmeans)\n",
    "print(\"\\nClassification Report:\\n\", report)"
   ]
  },
  {
   "cell_type": "markdown",
   "metadata": {},
   "source": [
    "- Precision: Indicates the model's accuracy in predicting positive instances. Class 2 has the highest precision (0.93), meaning it rarely mislabels other classes as Class 2.\n",
    "- Recall: Measures the model's ability to identify all actual positives. Class 2 excels again (0.95), indicating it identifies most true Class 2 instances.\n",
    "- F1-Score: A harmonic mean of precision and recall, giving a balance between the two. Class 2 has the highest F1-score (0.94), affirming it as the best-predicted class.\n",
    "- Support: The number of true instances for each class in the dataset, which shows a balanced distribution across classes for this model's evaluation."
   ]
  },
  {
   "cell_type": "code",
   "execution_count": 60,
   "metadata": {},
   "outputs": [
    {
     "data": {
      "text/plain": [
       "0.84744469870328"
      ]
     },
     "execution_count": 60,
     "metadata": {},
     "output_type": "execute_result"
    }
   ],
   "source": [
    "accuracy_score(test_labels, efficientnet_test_preds_kmeans)"
   ]
  },
  {
   "cell_type": "markdown",
   "metadata": {},
   "source": [
    "Overall, the model shows robust performance, especially in identifying Class 2 (possibly a specific type of medical image or condition). However, there's a need to improve Class 0's recall and overall generalization, as indicated by fluctuations in evaluation accuracy and loss."
   ]
  },
  {
   "cell_type": "markdown",
   "metadata": {},
   "source": [
    "### Comparison with Original Model (in P2_supervised.ipynb)\n",
    "**Confusion Matrix Analysis (Initial Model):**\n",
    "- Glioma: Correctly predicted 233 out of 300 instances but with significant confusion with meningioma (54 cases).\n",
    "- Meningioma: Correctly predicted 197 out of 300 instances, with notable misclassifications towards glioma (42 cases) and pituitary (47 cases).\n",
    "- Notumor: Very well identified with 384 correct predictions out of 405 cases, showing high specificity.\n",
    "- Pituitary: Correctly predicted 285 out of 300 cases with minimal confusion.\n",
    "\n",
    "**Loss and Accuracy Graphs (Initial Model):**\n",
    "- Loss: The training and evaluation loss both show a downward trend with some fluctuations, indicating a degree of model learning and generalization. However, there is a noticeable gap between training and evaluation loss suggesting some overfitting.\n",
    "- Accuracy: Shows substantial fluctuations, especially in the evaluation accuracy, which suggests variability in model performance across different data sets or possible overfitting to the training data.\n",
    "\n",
    "**Confusion Matrix Analysis (PCA/Clustering Model):**\n",
    "- Class 0 (Glioma): Lower true positive rate compared to initial predictions of glioma.\n",
    "- Class 1 (Meningioma): Improved identification compared to initial model, less confusion with other classes.\n",
    "- Class 2 (Notumor): High accuracy similar to the initial model.\n",
    "- Class 3 (Pituitary): Slightly improved performance compared to the initial model.\n",
    "\n",
    "**Loss and Accuracy Graphs (PCA/Clustering Model):**\n",
    "- Loss: There's a more consistent decline in evaluation loss, suggesting that the model after PCA/clustering is better at generalizing beyond training data.\n",
    "- Accuracy: The accuracy, particularly evaluation accuracy, is more stable and higher on average after employing PCA/clustering, indicating improved model robustness and generalization.\n",
    "\n",
    "\n",
    "##### **Overall Comparison and Assessment:**\n",
    "Based on the confusion matrices, The initial model has good performance on notumor and pituitary predictions but struggles with glioma and meningioma due to high misclassification rates.\n",
    "The PCA/clustering model shows a more balanced performance across all classes, with particularly improved clarity in distinguishing between meningioma and glioma. Additionally, the loss/accuracy plots show that the initial model displays higher variability and potential overfitting as indicated by the wider gaps between training and evaluation loss and accuracy. Meanwhile, the PCA/clustering model, on the other hand, shows more stability and consistency in both loss and accuracy, suggesting better handling of variance in the data and improved model generalization.\n",
    "\n",
    "The use of PCA and clustering techniques appears to have enhanced the model's ability to generalize and reduced overfitting, evident from the more stable evaluation metrics. Additionally, the more balanced confusion matrix after PCA/clustering suggests that this approach may be better for practical applications where robustness across various classes is crucial. This makes the PCA/clustering model a better choice for settings where generalization and accuracy across diverse scenarios are paramount."
   ]
  }
 ],
 "metadata": {
  "kernelspec": {
   "display_name": "Python 3",
   "language": "python",
   "name": "python3"
  },
  "language_info": {
   "codemirror_mode": {
    "name": "ipython",
    "version": 3
   },
   "file_extension": ".py",
   "mimetype": "text/x-python",
   "name": "python",
   "nbconvert_exporter": "python",
   "pygments_lexer": "ipython3",
   "version": "3.8.10"
  }
 },
 "nbformat": 4,
 "nbformat_minor": 4
}
