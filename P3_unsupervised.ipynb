{
 "cells": [
  {
   "cell_type": "markdown",
   "metadata": {},
   "source": [
    "### **Unsupervised Learning**\n",
    "\n",
    "**Data preparation**\n",
    "- convert images into feature vectors (ensure normalization for normalization and preprocessing for consistency)\n",
    "\n",
    "**Clustering**\n",
    "- explore K-means, hierarchical clustering, or DBSCAN to see which one is best at identify patterns\n",
    "- choose optimal number of clusters (K) using techniques like the elbow method or silhouette score\n",
    "- evaluate performance and visualize clustering results for insights into data distribution and cluster relationships\n",
    "\n",
    "**PCA**\n",
    "- reduce dimensionality and select number of principal components based on variance ratio\n",
    "- analyze contribution of each component and assess impact on data structure\n",
    "\n",
    "**(Optional) combination of clustering and pca**\n",
    "- compare performance using original features vs. PCA-reduced features\n",
    "\n",
    "**Integration with supervised learning**\n",
    "- explore clustering and pca results (and the optional combination of them) as additional inputs to P2_supervised model (based off EfficientNet)\n",
    "- evaluate enhancement of supervised learning performance\n",
    "\n",
    "**Analyze Model Performance**\n",
    "- plot loss and accuracy over epochs to visualize training progress and identify potential overfitting or underfitting.\n",
    "- create a confusion matrix to examine how well the model distinguishes between classes."
   ]
  },
  {
   "cell_type": "code",
   "execution_count": 2,
   "metadata": {},
   "outputs": [],
   "source": [
    "# importing all necessary libraries\n",
    "import glob\n",
    "import warnings\n",
    "import random\n",
    "import os\n",
    "import pandas as pd\n",
    "import numpy as np\n",
    "import matplotlib.pyplot as plt\n",
    "import seaborn as sns\n",
    "import scipy\n",
    "\n",
    "import torch\n",
    "import torchvision\n",
    "import torchvision.transforms as transforms\n",
    "from torchvision.models import VGG19_Weights, EfficientNet_V2_L_Weights\n",
    "from torch.utils.data import Dataset, DataLoader\n",
    "from torchinfo import summary\n",
    "from tqdm.notebook import tqdm\n",
    "\n",
    "from PIL import Image\n",
    "from typing import List, Tuple\n",
    "from sklearn.preprocessing import StandardScaler\n",
    "from sklearn.decomposition import PCA\n",
    "from sklearn.cluster import KMeans, AgglomerativeClustering, DBSCAN"
   ]
  },
  {
   "cell_type": "code",
   "execution_count": null,
   "metadata": {},
   "outputs": [],
   "source": []
  }
 ],
 "metadata": {
  "kernelspec": {
   "display_name": ".venv",
   "language": "python",
   "name": "python3"
  },
  "language_info": {
   "codemirror_mode": {
    "name": "ipython",
    "version": 3
   },
   "file_extension": ".py",
   "mimetype": "text/x-python",
   "name": "python",
   "nbconvert_exporter": "python",
   "pygments_lexer": "ipython3",
   "version": "3.8.10"
  }
 },
 "nbformat": 4,
 "nbformat_minor": 2
}
